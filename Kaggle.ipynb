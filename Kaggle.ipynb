{
  "nbformat": 4,
  "nbformat_minor": 0,
  "metadata": {
    "colab": {
      "provenance": [],
      "authorship_tag": "ABX9TyOlRfwnuD8zjrd056IIT5+j",
      "include_colab_link": true
    },
    "kernelspec": {
      "name": "python3",
      "display_name": "Python 3"
    },
    "language_info": {
      "name": "python"
    }
  },
  "cells": [
    {
      "cell_type": "markdown",
      "metadata": {
        "id": "view-in-github",
        "colab_type": "text"
      },
      "source": [
        "<a href=\"https://colab.research.google.com/github/AndresMontesDeOca/Laboratorio3/blob/main/Kaggle.ipynb\" target=\"_parent\"><img src=\"https://colab.research.google.com/assets/colab-badge.svg\" alt=\"Open In Colab\"/></a>"
      ]
    },
    {
      "cell_type": "markdown",
      "source": [
        "# Kaggle Experiments"
      ],
      "metadata": {
        "id": "crj3eqSV_WvI"
      }
    },
    {
      "cell_type": "markdown",
      "source": [
        "## Libraries"
      ],
      "metadata": {
        "id": "eL3soxEh_cgV"
      }
    },
    {
      "cell_type": "code",
      "source": [
        "import pandas as pd\n",
        "import numpy as np\n",
        "from matplotlib import pyplot as plt\n",
        "import seaborn as sns\n",
        "import tensorflow as tf\n",
        "from tensorflow.keras.callbacks import Callback\n",
        "from sklearn.preprocessing import MinMaxScaler, StandardScaler\n",
        "from sklearn.model_selection import TimeSeriesSplit\n",
        "from sklearn.metrics import mean_squared_error\n",
        "\n",
        "\n",
        "import warnings\n",
        "# warnings.filterwarnings('ignore', category=ValueWarning)\n",
        "warnings.filterwarnings('ignore')\n",
        "\n",
        "# Asegurarte de que Pandas muestre los valores con la máxima precisión\n",
        "pd.set_option('display.float_format', lambda x: '%.10f' % x)\n",
        "\n",
        "# Ajustar la opción para mostrar más filas\n",
        "# pd.set_option('display.max_rows', None)\n",
        "\n",
        "# Si también quieres mostrar más columnas\n",
        "# pd.set_option('display.max_columns', None)\n",
        "\n",
        "\n",
        "# Vamos a suprimir la notacion cientifica\n",
        "pd.set_option(\"display.float_format\", lambda x:\"%.2f\" %x)\n"
      ],
      "metadata": {
        "id": "4dKLvveO9QDs"
      },
      "execution_count": 2,
      "outputs": []
    },
    {
      "cell_type": "markdown",
      "source": [
        "## Carga Datos"
      ],
      "metadata": {
        "id": "CCBiyQvD_nC7"
      }
    },
    {
      "cell_type": "code",
      "source": [
        "# Code to read csv file into Colaboratory:\n",
        "# !pip install -U -q PyDrive\n",
        "from pydrive.auth import GoogleAuth\n",
        "from pydrive.drive import GoogleDrive\n",
        "from google.colab import auth\n",
        "from oauth2client.client import GoogleCredentials\n",
        "\n",
        "# Authenticate and create the PyDrive client.\n",
        "auth.authenticate_user()\n",
        "gauth = GoogleAuth()\n",
        "gauth.credentials = GoogleCredentials.get_application_default()\n",
        "drive = GoogleDrive(gauth)\n",
        "\n",
        "################################# Datasets ###################################\n",
        "# # Ventas\n",
        "id = \"158aOjqxaNO8l97yA6VWJkek_15YVLMhs\"\n",
        "downloaded = drive.CreateFile({'id':id})\n",
        "downloaded.GetContentFile('sell-in.txt')\n",
        "data_ventas = pd.read_csv(\"sell-in.txt\", sep=\"\\t\")\n",
        "data_ventas['periodo'] = pd.to_datetime(data_ventas['periodo'], format='%Y%m')\n",
        "data_ventas['customer_id'] = data_ventas['customer_id'].astype(str)\n",
        "data_ventas['product_id'] = data_ventas['product_id'].astype(str)\n",
        "data = data_ventas.copy()\n",
        "\n",
        "# # Productos\n",
        "id = \"15JS_k86LS0sgJXma7BOVXWlyNcMwxdhE\"\n",
        "downloaded = drive.CreateFile({'id':id})\n",
        "downloaded.GetContentFile('tb_productos.txt')\n",
        "data_productos = pd.read_csv(\"tb_productos.txt\", sep=\"\\t\")\n",
        "data_productos['product_id'] = data_productos['product_id'].astype(str)\n",
        "\n",
        "# # Stocks\n",
        "id = \"15EV-8f_U7onpA1AcTxxXeD-z8yVR4fQu\"\n",
        "downloaded = drive.CreateFile({'id':id})\n",
        "downloaded.GetContentFile('tb_stocks.txt')\n",
        "data_stocks = pd.read_csv(\"tb_stocks.txt\", sep=\"\\t\")\n",
        "data_stocks['periodo'] = pd.to_datetime(data_stocks['periodo'], format='%Y%m')\n",
        "data_stocks['product_id'] = data_stocks['product_id'].astype(str)\n",
        "\n",
        "# # Productos a predecir\n",
        "id = \"15LjADctFVwjzQFJvfJGFTEdgZx9xCoId\"\n",
        "downloaded = drive.CreateFile({'id':id})\n",
        "downloaded.GetContentFile('productos_a_predecir.txt')\n",
        "data_productos_a_predecir = pd.read_csv(\"productos_a_predecir.txt\", sep=\"\\t\")\n",
        "data_productos_a_predecir['product_id'] = data_productos_a_predecir['product_id'].astype(str)\n",
        "\n"
      ],
      "metadata": {
        "id": "8GISdopF_obd",
        "outputId": "39fcb02c-3812-4930-8fc0-c00130ab08eb",
        "colab": {
          "base_uri": "https://localhost:8080/"
        }
      },
      "execution_count": 3,
      "outputs": [
        {
          "output_type": "stream",
          "name": "stderr",
          "text": [
            "WARNING:root:pydrive is deprecated and no longer maintained. We recommend that you migrate your projects to pydrive2, the maintained fork of pydrive\n"
          ]
        }
      ]
    },
    {
      "cell_type": "markdown",
      "source": [
        "## Filter Data"
      ],
      "metadata": {
        "id": "dJckQiyL08r3"
      }
    },
    {
      "cell_type": "code",
      "source": [
        "def filter_data(data_all, data_filter):\n",
        "    # Filtrar el DataFrame 'data_all' para que solo contenga los 'product_id' presentes en 'data_filter'\n",
        "    data_filtered = data_all[data_all['product_id'].isin(data_filter['product_id'])]\n",
        "\n",
        "    return data_filtered"
      ],
      "metadata": {
        "id": "nnSdLDk60-bO"
      },
      "execution_count": 4,
      "outputs": []
    },
    {
      "cell_type": "markdown",
      "source": [
        "## Group Data"
      ],
      "metadata": {
        "id": "5L-kvH-J_7SX"
      }
    },
    {
      "cell_type": "code",
      "source": [
        "# Siempre como values toma las toneladas vendidas\n",
        "def group_data(data, column):\n",
        "  grouped_data = data.groupby([column, 'periodo']).sum().reset_index()\n",
        "\n",
        "  # Crea un DataFrame pivoteado donde las filas son las fechas y las columnas son los product_id\n",
        "  pivot_data = grouped_data.pivot(index='periodo', columns=column, values='tn')\n",
        "\n",
        "  # Asegúrate de que los nombres de las columnas sean strings\n",
        "  pivot_data.columns = pivot_data.columns.astype(str)\n",
        "\n",
        "  # Restablece el índice para asegurarse de que 'product_id' no sea un índice compuesto\n",
        "  pivot_data.columns.name = None\n",
        "\n",
        "  return pivot_data"
      ],
      "metadata": {
        "id": "Mrkkv5Kd0yCG"
      },
      "execution_count": 5,
      "outputs": []
    },
    {
      "cell_type": "markdown",
      "source": [
        "## Fill Nulls"
      ],
      "metadata": {
        "id": "p_XRfvor4fhg"
      }
    },
    {
      "cell_type": "code",
      "source": [
        "# Jugar con esto, no se si esta bien\n",
        "def fill_nulls(data):\n",
        "  # Primero usamos bfill para completar las ordenes mas viejas con los valores de las ordenes mas recientes\n",
        "  data = data.bfill()\n",
        "  # Luego completamos con ceros los productos que dejamos de vender, o se discontinuaron\n",
        "  data = data.fillna(0)\n",
        "\n",
        "  return data"
      ],
      "metadata": {
        "id": "WPghARRT5HE3"
      },
      "execution_count": 6,
      "outputs": []
    },
    {
      "cell_type": "code",
      "source": [
        "# # Filtrar el DataFrame 'data' para que solo contenga los 'product_id' presentes en 'data_productos_a_predecir'\n",
        "# data_filtered = data[data['product_id'].isin(data_productos_a_predecir['product_id'])]\n",
        "\n",
        "\n",
        "# # Agrupa los datos por 'product_id' y 'periodo', y calcula la suma de 'tn'\n",
        "# grouped_data = data_filtered.groupby(['product_id', 'periodo']).sum().reset_index()\n",
        "\n",
        "# # Crea un DataFrame pivoteado donde las filas son las fechas y las columnas son los product_id\n",
        "# pivot_data = grouped_data.pivot(index='periodo', columns='product_id', values='tn')\n",
        "\n",
        "# # Rellena los NaN\n",
        "# pivot_data = pivot_data.fillna(0)\n",
        "\n",
        "# # Asegúrate de que los nombres de las columnas sean strings\n",
        "# pivot_data.columns = pivot_data.columns.astype(str)\n",
        "\n",
        "# # Restablece el índice para asegurarse de que 'product_id' no sea un índice compuesto\n",
        "# pivot_data.columns.name = None\n",
        "\n",
        "# data_2019 = pivot_data.loc['2019']"
      ],
      "metadata": {
        "id": "yjM-cBgZ_9uu"
      },
      "execution_count": 7,
      "outputs": []
    },
    {
      "cell_type": "markdown",
      "source": [
        "## Normalize Data"
      ],
      "metadata": {
        "id": "a2ctIs9UCRRp"
      }
    },
    {
      "cell_type": "code",
      "source": [
        "import pandas as pd\n",
        "from sklearn.preprocessing import MinMaxScaler, StandardScaler\n",
        "\n",
        "def normalize_data(df, normalization=\"MinMax\"):\n",
        "    \"\"\"\n",
        "    Normaliza cada serie de tiempo (columna) de manera individual usando MinMax o Zscore.\n",
        "\n",
        "    Args:\n",
        "        df (pd.DataFrame): DataFrame con series de tiempo de distintos productos, cada columna es un producto.\n",
        "        normalization (str): Tipo de normalización a aplicar. Opciones: \"MinMax\" o \"Zscore\". Default es \"MinMax\".\n",
        "\n",
        "    Returns:\n",
        "        normalized_df (pd.DataFrame): DataFrame con las series normalizadas.\n",
        "        normalization_params (pd.DataFrame): DataFrame con los parámetros necesarios para desnormalizar cada columna.\n",
        "            - Para \"MinMax\": valores min y max de cada columna.\n",
        "            - Para \"Zscore\": valores mean y std de cada columna.\n",
        "    \"\"\"\n",
        "    normalization_params = pd.DataFrame(columns=[\"product_id\", \"min\", \"max\", \"mean\", \"std\"])\n",
        "    normalized_df = pd.DataFrame(index=df.index)\n",
        "\n",
        "    for column in df.columns:\n",
        "        if normalization == \"MinMax\":\n",
        "            scaler = MinMaxScaler()\n",
        "            normalized_values = scaler.fit_transform(df[[column]]).flatten()\n",
        "            new_params = pd.DataFrame({\n",
        "                \"product_id\": [column],\n",
        "                \"min\": [scaler.data_min_[0]],\n",
        "                \"max\": [scaler.data_max_[0]],\n",
        "                \"mean\": [None],\n",
        "                \"std\": [None]\n",
        "            })\n",
        "            normalization_params = pd.concat([normalization_params, new_params], ignore_index=True)\n",
        "            normalized_df[column] = normalized_values\n",
        "\n",
        "        elif normalization == \"ZScore\":\n",
        "            scaler = StandardScaler()\n",
        "            normalized_values = scaler.fit_transform(df[[column]]).flatten()\n",
        "            new_params = pd.DataFrame({\n",
        "                \"product_id\": [column],\n",
        "                \"min\": [None],\n",
        "                \"max\": [None],\n",
        "                \"mean\": [scaler.mean_[0]],\n",
        "                \"std\": [scaler.scale_[0]]\n",
        "            })\n",
        "            normalization_params = pd.concat([normalization_params, new_params], ignore_index=True)\n",
        "            normalized_df[column] = normalized_values\n",
        "\n",
        "        else:\n",
        "            raise ValueError(\"Invalid normalization method. Choose 'MinMax' or 'ZScore'.\")\n",
        "\n",
        "    return normalized_df, normalization_params\n",
        "\n",
        "def denormalize_series(normalized_series, normalization_params, normalization=\"MinMax\"):\n",
        "    \"\"\"\n",
        "    Desnormaliza una serie de tiempo usando los valores almacenados.\n",
        "\n",
        "    Args:\n",
        "        normalized_series (pd.Series or pd.DataFrame): Serie o DataFrame con los datos normalizados.\n",
        "        normalization_params (pd.DataFrame): DataFrame con los parámetros necesarios para desnormalizar cada serie o columna.\n",
        "            - Para \"MinMax\": valores min y max de cada serie o columna.\n",
        "            - Para \"Zscore\": valores mean y std de cada serie o columna.\n",
        "        normalization (str): Tipo de normalización a deshacer. Opciones: \"MinMax\" o \"Zscore\". Default es \"MinMax\".\n",
        "\n",
        "    Returns:\n",
        "        denormalized_series (pd.Series or pd.DataFrame): Serie o DataFrame con los datos desnormalizados.\n",
        "    \"\"\"\n",
        "    if isinstance(normalized_series, pd.DataFrame):\n",
        "        denormalized_df = pd.DataFrame(index=normalized_series.index)\n",
        "        for column in normalized_series.columns:\n",
        "            params = normalization_params[normalization_params[\"product_id\"] == column]\n",
        "            if normalization == \"MinMax\":\n",
        "                min_value = params[\"min\"].values[0]\n",
        "                max_value = params[\"max\"].values[0]\n",
        "                denormalized_values = normalized_series[column] * (max_value - min_value) + min_value\n",
        "            elif normalization == \"ZScore\":\n",
        "                mean_value = params[\"mean\"].values[0]\n",
        "                std_value = params[\"std\"].values[0]\n",
        "                denormalized_values = normalized_series[column] * std_value + mean_value\n",
        "            else:\n",
        "                raise ValueError(\"Invalid normalization method. Choose 'MinMax' or 'ZScore'.\")\n",
        "            denormalized_df[column] = denormalized_values\n",
        "        return denormalized_df\n",
        "    elif isinstance(normalized_series, pd.Series):\n",
        "        product_ids = normalized_series.index\n",
        "        denormalized_values = []\n",
        "        for product_id in product_ids:\n",
        "            params = normalization_params[normalization_params[\"product_id\"] == product_id]\n",
        "            if normalization == \"MinMax\":\n",
        "                min_value = params[\"min\"].values[0]\n",
        "                max_value = params[\"max\"].values[0]\n",
        "                denormalized_value = normalized_series[product_id] * (max_value - min_value) + min_value\n",
        "            elif normalization == \"ZScore\":\n",
        "                mean_value = params[\"mean\"].values[0]\n",
        "                std_value = params[\"std\"].values[0]\n",
        "                denormalized_value = normalized_series[product_id] * std_value + mean_value\n",
        "            else:\n",
        "                raise ValueError(\"Invalid normalization method. Choose 'MinMax' or 'ZScore'.\")\n",
        "            denormalized_values.append(denormalized_value)\n",
        "        denormalized_series = pd.Series(denormalized_values, index=product_ids, name=normalized_series.name)\n",
        "        return denormalized_series\n",
        "    else:\n",
        "        raise TypeError(\"normalized_series should be either a pandas Series or DataFrame\")\n"
      ],
      "metadata": {
        "id": "jTr6HsM8CTL2"
      },
      "execution_count": 8,
      "outputs": []
    },
    {
      "cell_type": "code",
      "source": [
        "# OLD: Esta mal, no tenia en cuenta la division por cero\n",
        "# ##########################################################################################\n",
        "# def normalize_data(df, normalization=\"MinMax\"):\n",
        "#     \"\"\"\n",
        "#     Normaliza cada serie de tiempo (columna) de manera individual usando MinMax o Zscore.\n",
        "\n",
        "#     Args:\n",
        "#         df (pd.DataFrame): DataFrame con series de tiempo de distintos productos, cada columna es un producto.\n",
        "#         normalization (str): Tipo de normalización a aplicar. Opciones: \"MinMax\" o \"Zscore\". Default es \"MinMax\".\n",
        "\n",
        "#     Returns:\n",
        "#         normalized_df (pd.DataFrame): DataFrame con las series normalizadas.\n",
        "#         normalization_params (dict): Diccionario con los parámetros necesarios para desnormalizar cada columna.\n",
        "#             - Para \"MinMax\": valores min y max de cada columna.\n",
        "#             - Para \"Zscore\": valores mean y std de cada columna.\n",
        "#     \"\"\"\n",
        "#     normalization_params = {}\n",
        "#     normalized_df = pd.DataFrame()\n",
        "\n",
        "#     for column in df.columns:\n",
        "#         if normalization == \"MinMax\":\n",
        "#             min_value = df[column].min()\n",
        "#             max_value = df[column].max()\n",
        "#             normalization_params[column] = {\"min\": min_value, \"max\": max_value}\n",
        "#             normalized_df[column] = (df[column] - min_value) / (max_value - min_value)\n",
        "\n",
        "#         elif normalization == \"ZScore\":\n",
        "#             mean_value = df[column].mean()\n",
        "#             std_value = df[column].std()\n",
        "#             normalization_params[column] = {\"mean\": mean_value, \"std\": std_value}\n",
        "#             normalized_df[column] = (df[column] - mean_value) / std_value\n",
        "\n",
        "#         else:\n",
        "#             raise ValueError(\"Invalid normalization method. Choose 'MinMax' or 'ZScore'.\")\n",
        "\n",
        "#     return normalized_df, normalization_params\n",
        "# ##########################################################################################\n",
        "# def denormalize_series(normalized_series, normalization_params, normalization=\"MinMax\"):\n",
        "#     \"\"\"\n",
        "#     Desnormaliza una serie de tiempo usando los valores almacenados.\n",
        "\n",
        "#     Args:\n",
        "#         normalized_series (pd.Series): Serie con los datos normalizados.\n",
        "#         normalization_params (dict): Diccionario con los parámetros necesarios para desnormalizar cada serie.\n",
        "#             - Para \"MinMax\": valores min y max de cada serie.\n",
        "#             - Para \"Zscore\": valores mean y std de cada serie.\n",
        "#         normalization (str): Tipo de normalización a deshacer. Opciones: \"MinMax\" o \"Zscore\". Default es \"MinMax\".\n",
        "\n",
        "#     Returns:\n",
        "#         denormalized_series (pd.Series): Serie con los datos desnormalizados.\n",
        "#     \"\"\"\n",
        "#     denormalized_series = pd.Series(index=normalized_series.index)\n",
        "\n",
        "#     for index in normalized_series.index:\n",
        "#         if str(index) in normalization_params:\n",
        "#             params = normalization_params[str(index)]\n",
        "#         else:\n",
        "#             raise KeyError(f\"Index {index} not found in normalization parameters.\")\n",
        "\n",
        "#         if normalization == \"MinMax\":\n",
        "#             min_value = params[\"min\"]\n",
        "#             max_value = params[\"max\"]\n",
        "#             denormalized_series[index] = normalized_series[index] * (max_value - min_value) + min_value\n",
        "\n",
        "#         elif normalization == \"ZScore\":\n",
        "#             mean_value = params[\"mean\"]\n",
        "#             std_value = params[\"std\"]\n",
        "#             denormalized_series[index] = normalized_series[index] * std_value + mean_value\n",
        "\n",
        "#         else:\n",
        "#             raise ValueError(\"Invalid normalization method. Choose 'MinMax' or 'ZScore'.\")\n",
        "\n",
        "#     return denormalized_series\n",
        "# ##########################################################################################"
      ],
      "metadata": {
        "id": "sNKubPpLFGAh"
      },
      "execution_count": 9,
      "outputs": []
    },
    {
      "cell_type": "markdown",
      "source": [
        "## Split Data"
      ],
      "metadata": {
        "id": "6z54dcDlIyHB"
      }
    },
    {
      "cell_type": "code",
      "source": [
        "###############################################################################\n",
        "# Hay que ponerse a invstigar sobre como hacer el Split en Series de Tiempo. Walk Fwd Validation?\n",
        "def split_data(data):\n",
        "  data_train = data.loc['2017-01':'2018-12']\n",
        "  data_valid = data.loc['2019-01':'2019-12']\n",
        "  return data_train, data_valid\n",
        "###############################################################################"
      ],
      "metadata": {
        "id": "zZUKfILzC6Un"
      },
      "execution_count": 10,
      "outputs": []
    },
    {
      "cell_type": "markdown",
      "source": [
        "## Window Data"
      ],
      "metadata": {
        "id": "xbYFP2j6EiEW"
      }
    },
    {
      "cell_type": "code",
      "source": [
        "def window_dataset(sequence, data_split, window_size, batch_size, n_future, shuffle_buffer=1000, seed=None):\n",
        "    \"\"\"Generates dataset windows for multi-step forecasting in a multivariable context.\n",
        "\n",
        "    Args:\n",
        "      sequence (array-like): Contains the values of the time series, where each element is an array of feature values.\n",
        "      data_split (str): Specifies if the dataset is for training or validation/test.\n",
        "      window_size (int): The number of time steps to include in the feature.\n",
        "      batch_size (int): The batch size.\n",
        "      n_future (int): The number of future steps to predict.\n",
        "      shuffle_buffer (int): Buffer size to use for the shuffle method.\n",
        "      seed (int, optional): Random seed for reproducibility.\n",
        "\n",
        "    Returns:\n",
        "      tf.data.Dataset: TF Dataset containing time windows.\n",
        "    \"\"\"\n",
        "\n",
        "    # Generate a TF Dataset from the series values\n",
        "    dataset = tf.data.Dataset.from_tensor_slices(sequence)\n",
        "\n",
        "    # Window the data but only take those with the specified size\n",
        "    dataset = dataset.window(window_size + n_future, shift=1, drop_remainder=True)\n",
        "\n",
        "    # Flatten the windows by putting its elements in a single batch\n",
        "    dataset = dataset.flat_map(lambda window: window.batch(window_size + n_future))\n",
        "\n",
        "    # Create tuples with features and labels\n",
        "    dataset = dataset.map(lambda window: (window[:window_size], window[window_size:]))\n",
        "\n",
        "    if data_split == 'train':\n",
        "        # Shuffle the training data to improve generalization\n",
        "        dataset = dataset.shuffle(shuffle_buffer, seed=seed)\n",
        "    else:\n",
        "        # Cache the validation/test data for improved performance\n",
        "        dataset = dataset.cache()\n",
        "\n",
        "    # Create batches of windows and prefetch for performance\n",
        "    dataset = dataset.batch(batch_size).prefetch(tf.data.AUTOTUNE)\n",
        "\n",
        "    return dataset\n"
      ],
      "metadata": {
        "id": "c5g4WjakEjcM"
      },
      "execution_count": 11,
      "outputs": []
    },
    {
      "cell_type": "markdown",
      "source": [
        "## Callbacks"
      ],
      "metadata": {
        "id": "brfkj2XkXena"
      }
    },
    {
      "cell_type": "code",
      "source": [
        "#############################################################################\n",
        "\n",
        "class MAEThresholdCallback(Callback):\n",
        "    def __init__(self, threshold=0.15):\n",
        "        super(MAEThresholdCallback, self).__init__()\n",
        "        self.threshold = threshold\n",
        "\n",
        "    def on_epoch_end(self, epoch, logs=None):\n",
        "        val_mae = logs.get('val_mae')\n",
        "        if val_mae is not None and val_mae <= self.threshold:\n",
        "            print(f'\\nEpoch {epoch+1}: Validation MAE has reached {val_mae:.4f}, stopping training.')\n",
        "            self.model.stop_training = True\n",
        "\n",
        "def MyCallbacks(model_name, patience):\n",
        "    earlystop = tf.keras.callbacks.EarlyStopping('val_loss', patience=patience, restore_best_weights=True)\n",
        "    checkpoint = tf.keras.callbacks.ModelCheckpoint(filepath=f'ckpts/{model_name}-' + '{epoch:02d}-{val_loss:.4f}.h5', monitor='val_loss')\n",
        "    mae_threshold_callback = MAEThresholdCallback(threshold=0.015)\n",
        "    return [earlystop] #, checkpoint] #, mae_threshold_callback]\n",
        "\n",
        "#############################################################################"
      ],
      "metadata": {
        "id": "ETzh0JyBXgRt"
      },
      "execution_count": 12,
      "outputs": []
    },
    {
      "cell_type": "markdown",
      "source": [
        "## Model Design"
      ],
      "metadata": {
        "id": "cGAz7W4mXqO3"
      }
    },
    {
      "cell_type": "code",
      "source": [
        "#############################################################################\n",
        "def compile_model(new_model, loss):\n",
        "  new_model.compile(optimizer='adam', loss=loss, metrics=['mae']) # metrics=[tf.keras.metrics.MeanAbsolutePercentageError()])\n",
        "  print(new_model.summary())\n",
        "  return new_model\n",
        "#############################################################################\n",
        "def MyModel(loss, window_size, n_future, n_features):\n",
        "    new_model = tf.keras.Sequential([\n",
        "        tf.keras.layers.InputLayer((window_size, n_features)),\n",
        "        # tf.keras.layers.Conv1D(filters=64, kernel_size=3, activation='relu', padding='causal'),\n",
        "        # tf.keras.layers.MaxPooling1D(pool_size=2),\n",
        "        # tf.keras.layers.Conv1D(filters=128, kernel_size=3, activation='relu', padding='causal'),\n",
        "        # tf.keras.layers.MaxPooling1D(pool_size=2),\n",
        "        tf.keras.layers.Bidirectional(tf.keras.layers.LSTM(60, return_sequences=True)),\n",
        "        tf.keras.layers.Bidirectional(tf.keras.layers.LSTM(30, return_sequences=False)),\n",
        "        # tf.keras.layers.Dense(256, activation='relu', kernel_regularizer=tf.keras.regularizers.l2(0.01)),\n",
        "        tf.keras.layers.Dropout(0.3),\n",
        "        tf.keras.layers.Dense(n_features * n_future, activation='relu'),\n",
        "        tf.keras.layers.Reshape((n_future, n_features)),\n",
        "        ])\n",
        "    return compile_model(new_model, loss)"
      ],
      "metadata": {
        "id": "eCESYECOXr45"
      },
      "execution_count": 51,
      "outputs": []
    },
    {
      "cell_type": "markdown",
      "source": [
        "# Pipelines"
      ],
      "metadata": {
        "id": "F4yiWWu8FJZX"
      }
    },
    {
      "cell_type": "markdown",
      "source": [
        "## Data Preprocessing"
      ],
      "metadata": {
        "id": "HWg00hIFX64c"
      }
    },
    {
      "cell_type": "code",
      "source": [
        "# data\n",
        "# data_productos\n",
        "# data_stocks\n",
        "# data_productos_a_predecir\n",
        "window_size = 6\n",
        "n_future = 2\n",
        "n_features = len(data_productos_a_predecir)\n",
        "batch_size = 1\n",
        "normalization = 'MinMax'\n",
        "\n",
        "# #########################################################################\n",
        "# SingleProduct (09/06)\n",
        "# #########################################################################\n",
        "\n"
      ],
      "metadata": {
        "id": "vLrQTz5YEkPk"
      },
      "execution_count": 52,
      "outputs": []
    },
    {
      "cell_type": "markdown",
      "source": [
        "## Experiments"
      ],
      "metadata": {
        "id": "SaiJuaUP3JUD"
      }
    },
    {
      "cell_type": "markdown",
      "source": [
        "### Predictions by Customer"
      ],
      "metadata": {
        "id": "9L6P6xEM3XPU"
      }
    },
    {
      "cell_type": "code",
      "source": [],
      "metadata": {
        "id": "keCpJUPo3ggY"
      },
      "execution_count": 52,
      "outputs": []
    },
    {
      "cell_type": "markdown",
      "source": [
        "### Proof of Concept"
      ],
      "metadata": {
        "id": "y28Ak-HH3TEi"
      }
    },
    {
      "cell_type": "code",
      "source": [
        "# #########################################################################\n",
        "# New Pipeline (09/06)\n",
        "# #########################################################################\n",
        "data = filter_data(data, data_productos_a_predecir)\n",
        "data_grouped = group_data(data, 'product_id')\n",
        "data_filled = fill_nulls(data_grouped)\n",
        "data_norm, data_norm_params = normalize_data(data_filled, normalization=normalization)\n",
        "# data_train, data_valid = split_data(data_norm) # Split pendiente\n",
        "data_train = data_norm\n",
        "print(data_train.shape)\n",
        "# print(data_valid.shape)\n",
        "data_train_windowed = window_dataset(data_train, data_split='train', window_size=window_size, batch_size=batch_size, n_future=n_future)\n",
        "# data_valid_windowed = window_dataset(data_valid, data_split='valid', window_size=window_size, batch_size=batch_size, n_future=n_future)\n",
        "\n",
        "\n",
        "# #########################################################################\n",
        "# Old Pipeline (08/06)\n",
        "# #########################################################################\n",
        "# data_all = group_data(data, data_productos_a_predecir)\n",
        "# data_all_norm, data_all_norm_params = normalize_data(data_all, normalization=normalization)\n",
        "# data_all_norm['20001'].describe()\n",
        "# data_train, data_valid = split_data_all(data_all_norm)\n",
        "# print(data_train.shape)\n",
        "# print(data_valid.shape)\n",
        "# data_train = data_all_norm\n",
        "# data_train_windowed = window_dataset(data_train, data_split='train', window_size=window_size, batch_size=batch_size, n_future=n_future)\n",
        "# data_valid_windowed = window_dataset(data_valid, data_split='valid', window_size=window_size, batch_size=batch_size, n_future=n_future)"
      ],
      "metadata": {
        "colab": {
          "base_uri": "https://localhost:8080/"
        },
        "id": "bCx0jH7rFU-M",
        "outputId": "504c52ef-3074-473d-e086-7cbcb45cc14a"
      },
      "execution_count": 53,
      "outputs": [
        {
          "output_type": "stream",
          "name": "stdout",
          "text": [
            "(36, 780)\n"
          ]
        }
      ]
    },
    {
      "cell_type": "markdown",
      "source": [
        "# Model Train"
      ],
      "metadata": {
        "id": "3MO74bl3X9X1"
      }
    },
    {
      "cell_type": "code",
      "source": [
        "# # # #########################################################################\n",
        "# # # # Neural Netowrk Model\n",
        "# # #########################################################################\n",
        "model_name = 'CV_BigLSTM_'\n",
        "loss = 'mae'\n",
        "patience = 10\n",
        "epochs = 10\n",
        "\n",
        "callbacks = MyCallbacks(model_name, patience)\n",
        "model = MyModel(loss, window_size, n_future, n_features)\n",
        "\n",
        "history = model.fit(\n",
        "    data_train_windowed,\n",
        "    # validation_data = data_valid_windowed,\n",
        "    # validation_split=0.2,\n",
        "    # callbacks = callbacks,\n",
        "    epochs=epochs)\n",
        "\n",
        "# plot_history(history, 4)\n",
        "# save_model(model, model_name, history, data_test_wrangled)\n",
        "# show_predictions(model, data_test_wrangled, data_test[n_past:])"
      ],
      "metadata": {
        "colab": {
          "base_uri": "https://localhost:8080/"
        },
        "id": "OoF2b2xwW2IM",
        "outputId": "5e54e785-4819-4a2f-87ed-6527556d6869"
      },
      "execution_count": 54,
      "outputs": [
        {
          "output_type": "stream",
          "name": "stdout",
          "text": [
            "Model: \"sequential_9\"\n",
            "_________________________________________________________________\n",
            " Layer (type)                Output Shape              Param #   \n",
            "=================================================================\n",
            " bidirectional_18 (Bidirect  (None, 6, 120)            403680    \n",
            " ional)                                                          \n",
            "                                                                 \n",
            " bidirectional_19 (Bidirect  (None, 60)                36240     \n",
            " ional)                                                          \n",
            "                                                                 \n",
            " dropout_10 (Dropout)        (None, 60)                0         \n",
            "                                                                 \n",
            " dense_10 (Dense)            (None, 1560)              95160     \n",
            "                                                                 \n",
            " reshape_9 (Reshape)         (None, 2, 780)            0         \n",
            "                                                                 \n",
            "=================================================================\n",
            "Total params: 535080 (2.04 MB)\n",
            "Trainable params: 535080 (2.04 MB)\n",
            "Non-trainable params: 0 (0.00 Byte)\n",
            "_________________________________________________________________\n",
            "None\n",
            "Epoch 1/10\n",
            "29/29 [==============================] - 11s 22ms/step - loss: 0.3003 - mae: 0.3003\n",
            "Epoch 2/10\n",
            "29/29 [==============================] - 1s 20ms/step - loss: 0.2297 - mae: 0.2297\n",
            "Epoch 3/10\n",
            "29/29 [==============================] - 1s 20ms/step - loss: 0.2109 - mae: 0.2109\n",
            "Epoch 4/10\n",
            "29/29 [==============================] - 1s 20ms/step - loss: 0.1998 - mae: 0.1998\n",
            "Epoch 5/10\n",
            "29/29 [==============================] - 1s 20ms/step - loss: 0.1936 - mae: 0.1936\n",
            "Epoch 6/10\n",
            "29/29 [==============================] - 1s 20ms/step - loss: 0.1878 - mae: 0.1878\n",
            "Epoch 7/10\n",
            "29/29 [==============================] - 1s 20ms/step - loss: 0.1852 - mae: 0.1852\n",
            "Epoch 8/10\n",
            "29/29 [==============================] - 1s 21ms/step - loss: 0.1775 - mae: 0.1775\n",
            "Epoch 9/10\n",
            "29/29 [==============================] - 1s 39ms/step - loss: 0.1718 - mae: 0.1718\n",
            "Epoch 10/10\n",
            "29/29 [==============================] - 2s 61ms/step - loss: 0.1696 - mae: 0.1696\n"
          ]
        }
      ]
    },
    {
      "cell_type": "code",
      "source": [
        "# Supongamos que `data_all` contiene tus datos históricos, incluyendo 2019.\n",
        "# data_all debe tener la forma (n_samples, n_features)\n",
        "\n",
        "# Convertir el DataFrame a un array de NumPy\n",
        "data_norm_array = data_norm.values\n",
        "\n",
        "# Extraer la última ventana de datos de 2019 para predecir enero de 2020\n",
        "column_names = data_norm.columns  # Obtener los nombres de las columnas\n",
        "\n",
        "# Extraer los últimos `window_size` meses de 2019\n",
        "input_data = data_norm_array[-window_size:].reshape((1, window_size, n_features))\n",
        "\n",
        "# Predecir enero de 2020\n",
        "pred_january = model.predict(input_data)\n",
        "\n",
        "# Asegurarse de que la predicción tenga la forma correcta\n",
        "pred_january = pred_january.reshape((1, n_future, n_features))\n",
        "\n",
        "# Crear un DataFrame para la predicción de enero de 2020\n",
        "pred_january_df = pd.DataFrame(pred_january[0], columns=column_names)\n",
        "pred_january_df.index = pd.date_range(start='2020-01-01', periods=n_future, freq='MS')\n",
        "\n",
        "# Actualizar la ventana de entrada para predecir febrero de 2020\n",
        "input_data = np.append(input_data[:, 1:, :], pred_january[:, 0, :].reshape(1, 1, n_features), axis=1)\n",
        "\n",
        "# Predecir febrero de 2020\n",
        "pred_february = model.predict(input_data)\n",
        "\n",
        "# Asegurarse de que la predicción tenga la forma correcta\n",
        "pred_february = pred_february.reshape((1, n_future, n_features))\n",
        "\n",
        "# Crear un DataFrame para la predicción de febrero de 2020\n",
        "pred_february_df = pd.DataFrame(pred_february[0], columns=column_names)\n",
        "pred_february_df.index = pd.date_range(start='2020-02-01', periods=n_future, freq='MS')\n",
        "\n",
        "# Predije dos veces, una volviendo a entrenar con los datos predichos de Enero 2020, y la otra no.\n",
        "pred_1 = pred_january_df.loc['2020-02-01']\n",
        "\n",
        "pred_1_denorm = denormalize_series(pred_1, data_norm_params, normalization=normalization)\n",
        "data_pred1_denorm = pred_1_denorm.reset_index()\n",
        "data_pred1_denorm.columns = ['product_id', 'tn']\n",
        "predicciones = filter_data(data_pred1_denorm, data_productos_a_predecir)\n",
        "\n",
        "# Create the filename\n",
        "filename = f\"{model_name}win{window_size}_batch{batch_size}_{normalization}_{loss}_epochs{epochs}.csv\"\n",
        "predicciones.to_csv(filename, header=True, index=False)\n",
        "\n",
        "print(filename)"
      ],
      "metadata": {
        "colab": {
          "base_uri": "https://localhost:8080/"
        },
        "id": "CllkIp6PbPVx",
        "outputId": "7b997713-83f7-4123-86ae-1e29fbe51928"
      },
      "execution_count": 55,
      "outputs": [
        {
          "output_type": "stream",
          "name": "stdout",
          "text": [
            "1/1 [==============================] - 4s 4s/step\n",
            "1/1 [==============================] - 0s 24ms/step\n",
            "CV_BigLSTM_win6_batch1_MinMax_mae_epochs10.csv\n"
          ]
        }
      ]
    },
    {
      "cell_type": "markdown",
      "source": [
        "# EDA"
      ],
      "metadata": {
        "id": "CRuRNJCI8J7U"
      }
    },
    {
      "cell_type": "code",
      "source": [
        "# # Evidentemente cuando el profe deidentifico los customers, lo hizo asignandoles ID secuenciales al listado ordenado por la suma de ventas(tn)\n",
        "# print('Listado de Clientes, ordenados por la sumatoria de ventas en tn:\\n', group_data(data, 'customer_id').sum(), '\\n')\n",
        "\n",
        "# # Lo mismo cuando deidentifico a los productos, solo que esta vez empezo desde 20000\n",
        "# print('Listado de Productos, ordenados por la sumatoria de ventas en tn:\\n', group_data(data, 'product_id').sum())"
      ],
      "metadata": {
        "id": "QOAjN92m8LJU"
      },
      "execution_count": null,
      "outputs": []
    },
    {
      "cell_type": "code",
      "source": [
        "# Analisis del cliente top\n",
        "\n",
        "data_top = data.query('customer_id == \"10001\"')\n",
        "data_top = group_data(data_top, 'product_id')\n",
        "data_top = fill_nulls(data_top)\n",
        "\n",
        "# data_top"
      ],
      "metadata": {
        "id": "4_qyQISS8bMF"
      },
      "execution_count": null,
      "outputs": []
    },
    {
      "cell_type": "code",
      "source": [],
      "metadata": {
        "id": "KrWGP-wsFooK"
      },
      "execution_count": null,
      "outputs": []
    }
  ]
}