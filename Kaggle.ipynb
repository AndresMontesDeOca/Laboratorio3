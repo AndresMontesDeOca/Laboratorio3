{
  "nbformat": 4,
  "nbformat_minor": 0,
  "metadata": {
    "colab": {
      "provenance": [],
      "toc_visible": true,
      "authorship_tag": "ABX9TyPgkBm0pXnpPC38ASFewZ3K",
      "include_colab_link": true
    },
    "kernelspec": {
      "name": "python3",
      "display_name": "Python 3"
    },
    "language_info": {
      "name": "python"
    }
  },
  "cells": [
    {
      "cell_type": "markdown",
      "metadata": {
        "id": "view-in-github",
        "colab_type": "text"
      },
      "source": [
        "<a href=\"https://colab.research.google.com/github/AndresMontesDeOca/Laboratorio3/blob/main/Kaggle.ipynb\" target=\"_parent\"><img src=\"https://colab.research.google.com/assets/colab-badge.svg\" alt=\"Open In Colab\"/></a>"
      ]
    },
    {
      "cell_type": "markdown",
      "source": [
        "# Kaggle Experiments"
      ],
      "metadata": {
        "id": "crj3eqSV_WvI"
      }
    },
    {
      "cell_type": "markdown",
      "source": [
        "## Libraries"
      ],
      "metadata": {
        "id": "eL3soxEh_cgV"
      }
    },
    {
      "cell_type": "code",
      "source": [
        "ColabNotebook = 'google.colab' in str(get_ipython())\n",
        "\n",
        "if ColabNotebook: # maquina virtual colab\n",
        "    # monta G-drive en entorno COLAB\n",
        "    from google.colab import drive\n",
        "    drive.mount('/content/drive/')"
      ],
      "metadata": {
        "id": "HkJAzqZfivZx",
        "outputId": "2d92f4ec-db74-4093-a5c6-becc7c351c68",
        "colab": {
          "base_uri": "https://localhost:8080/"
        }
      },
      "execution_count": 1,
      "outputs": [
        {
          "output_type": "stream",
          "name": "stdout",
          "text": [
            "Mounted at /content/drive/\n"
          ]
        }
      ]
    },
    {
      "cell_type": "code",
      "source": [
        "import pandas as pd\n",
        "import numpy as np\n",
        "from matplotlib import pyplot as plt\n",
        "import seaborn as sns\n",
        "import tensorflow as tf\n",
        "from tensorflow.keras.callbacks import Callback, EarlyStopping\n",
        "from sklearn.preprocessing import MinMaxScaler, StandardScaler\n",
        "from sklearn.model_selection import TimeSeriesSplit\n",
        "from sklearn.metrics import mean_squared_error\n",
        "\n",
        "\n",
        "import warnings\n",
        "# warnings.filterwarnings('ignore', category=ValueWarning)\n",
        "warnings.filterwarnings('ignore')\n",
        "\n",
        "# Asegurarte de que Pandas muestre los valores con la máxima precisión\n",
        "pd.set_option('display.float_format', lambda x: '%.10f' % x)\n",
        "\n",
        "# Ajustar la opción para mostrar más filas\n",
        "# pd.set_option('display.max_rows', None)\n",
        "\n",
        "# Si también quieres mostrar más columnas\n",
        "# pd.set_option('display.max_columns', None)\n",
        "\n",
        "\n",
        "# Vamos a suprimir la notacion cientifica\n",
        "pd.set_option(\"display.float_format\", lambda x:\"%.2f\" %x)\n"
      ],
      "metadata": {
        "id": "4dKLvveO9QDs"
      },
      "execution_count": 2,
      "outputs": []
    },
    {
      "cell_type": "markdown",
      "source": [
        "## Carga Datos"
      ],
      "metadata": {
        "id": "CCBiyQvD_nC7"
      }
    },
    {
      "cell_type": "code",
      "source": [
        "# Code to read csv file into Colaboratory:\n",
        "# !pip install -U -q PyDrive\n",
        "from pydrive.auth import GoogleAuth\n",
        "from pydrive.drive import GoogleDrive\n",
        "from google.colab import auth\n",
        "from oauth2client.client import GoogleCredentials\n",
        "\n",
        "# Authenticate and create the PyDrive client.\n",
        "auth.authenticate_user()\n",
        "gauth = GoogleAuth()\n",
        "gauth.credentials = GoogleCredentials.get_application_default()\n",
        "drive = GoogleDrive(gauth)\n",
        "\n",
        "################################# Datasets ###################################\n",
        "# # Ventas\n",
        "id = \"158aOjqxaNO8l97yA6VWJkek_15YVLMhs\"\n",
        "downloaded = drive.CreateFile({'id':id})\n",
        "downloaded.GetContentFile('sell-in.txt')\n",
        "data_ventas = pd.read_csv(\"sell-in.txt\", sep=\"\\t\")\n",
        "data_ventas['periodo'] = pd.to_datetime(data_ventas['periodo'], format='%Y%m')\n",
        "data_ventas['customer_id'] = data_ventas['customer_id'].astype(str)\n",
        "data_ventas['product_id'] = data_ventas['product_id'].astype(str)\n",
        "data = data_ventas.copy()\n",
        "\n",
        "# # Productos\n",
        "id = \"15JS_k86LS0sgJXma7BOVXWlyNcMwxdhE\"\n",
        "downloaded = drive.CreateFile({'id':id})\n",
        "downloaded.GetContentFile('tb_productos.txt')\n",
        "data_productos = pd.read_csv(\"tb_productos.txt\", sep=\"\\t\")\n",
        "data_productos['product_id'] = data_productos['product_id'].astype(str)\n",
        "\n",
        "# # Stocks\n",
        "id = \"15EV-8f_U7onpA1AcTxxXeD-z8yVR4fQu\"\n",
        "downloaded = drive.CreateFile({'id':id})\n",
        "downloaded.GetContentFile('tb_stocks.txt')\n",
        "data_stocks = pd.read_csv(\"tb_stocks.txt\", sep=\"\\t\")\n",
        "data_stocks['periodo'] = pd.to_datetime(data_stocks['periodo'], format='%Y%m')\n",
        "data_stocks['product_id'] = data_stocks['product_id'].astype(str)\n",
        "\n",
        "# # Productos a predecir\n",
        "id = \"15LjADctFVwjzQFJvfJGFTEdgZx9xCoId\"\n",
        "downloaded = drive.CreateFile({'id':id})\n",
        "downloaded.GetContentFile('productos_a_predecir.txt')\n",
        "data_productos_a_predecir = pd.read_csv(\"productos_a_predecir.txt\", sep=\"\\t\")\n",
        "data_productos_a_predecir['product_id'] = data_productos_a_predecir['product_id'].astype(str)\n",
        "\n"
      ],
      "metadata": {
        "id": "8GISdopF_obd",
        "outputId": "0f4566bd-8529-4ac7-b6cc-566c3501a875",
        "colab": {
          "base_uri": "https://localhost:8080/"
        }
      },
      "execution_count": 3,
      "outputs": [
        {
          "output_type": "stream",
          "name": "stderr",
          "text": [
            "WARNING:root:pydrive is deprecated and no longer maintained. We recommend that you migrate your projects to pydrive2, the maintained fork of pydrive\n"
          ]
        }
      ]
    },
    {
      "cell_type": "markdown",
      "source": [
        "## Filter Data"
      ],
      "metadata": {
        "id": "dJckQiyL08r3"
      }
    },
    {
      "cell_type": "code",
      "source": [
        "def filter_data(data_all, data_filter):\n",
        "    # Filtrar el DataFrame 'data_all' para que solo contenga los 'product_id' presentes en 'data_filter'\n",
        "    data_filtered = data_all[data_all['product_id'].isin(data_filter['product_id'])]\n",
        "\n",
        "    return data_filtered"
      ],
      "metadata": {
        "id": "nnSdLDk60-bO"
      },
      "execution_count": 4,
      "outputs": []
    },
    {
      "cell_type": "markdown",
      "source": [
        "## Group Data"
      ],
      "metadata": {
        "id": "5L-kvH-J_7SX"
      }
    },
    {
      "cell_type": "code",
      "source": [
        "# Siempre como values toma las toneladas vendidas\n",
        "def group_data(data, column):\n",
        "  grouped_data = data.groupby([column, 'periodo']).sum().reset_index()\n",
        "\n",
        "  # Crea un DataFrame pivoteado donde las filas son las fechas y las columnas son los product_id\n",
        "  pivot_data = grouped_data.pivot(index='periodo', columns=column, values='tn')\n",
        "\n",
        "  # Asegúrate de que los nombres de las columnas sean strings\n",
        "  pivot_data.columns = pivot_data.columns.astype(str)\n",
        "\n",
        "  # Restablece el índice para asegurarse de que 'product_id' no sea un índice compuesto\n",
        "  pivot_data.columns.name = None\n",
        "\n",
        "  return pivot_data"
      ],
      "metadata": {
        "id": "Mrkkv5Kd0yCG"
      },
      "execution_count": 5,
      "outputs": []
    },
    {
      "cell_type": "markdown",
      "source": [
        "## Fill Nulls"
      ],
      "metadata": {
        "id": "p_XRfvor4fhg"
      }
    },
    {
      "cell_type": "code",
      "source": [
        "# Jugar con esto, no se si esta bien\n",
        "def fill_nulls(df):\n",
        "  # Primero usamos bfill para completar las ordenes mas viejas con los valores de las ordenes mas recientes\n",
        "  df = df.bfill()\n",
        "  # Luego completamos con ceros los productos que dejamos de vender, o se discontinuaron\n",
        "  df = df.fillna(0)\n",
        "\n",
        "  return df\n",
        "###########################################################################\n",
        "def fill_nulls_customer(df):\n",
        "  df = df.fillna(0)\n",
        "  return df\n"
      ],
      "metadata": {
        "id": "WPghARRT5HE3"
      },
      "execution_count": 6,
      "outputs": []
    },
    {
      "cell_type": "markdown",
      "source": [
        "## Normalize Data"
      ],
      "metadata": {
        "id": "a2ctIs9UCRRp"
      }
    },
    {
      "cell_type": "code",
      "source": [
        "import pandas as pd\n",
        "from sklearn.preprocessing import MinMaxScaler, StandardScaler\n",
        "\n",
        "def normalize_data(df, normalization=\"MinMax\"):\n",
        "    \"\"\"\n",
        "    Normaliza cada serie de tiempo (columna) de manera individual usando MinMax o Zscore.\n",
        "\n",
        "    Args:\n",
        "        df (pd.DataFrame): DataFrame con series de tiempo de distintos productos, cada columna es un producto.\n",
        "        normalization (str): Tipo de normalización a aplicar. Opciones: \"MinMax\" o \"Zscore\". Default es \"MinMax\".\n",
        "\n",
        "    Returns:\n",
        "        normalized_df (pd.DataFrame): DataFrame con las series normalizadas.\n",
        "        normalization_params (pd.DataFrame): DataFrame con los parámetros necesarios para desnormalizar cada columna.\n",
        "            - Para \"MinMax\": valores min y max de cada columna.\n",
        "            - Para \"Zscore\": valores mean y std de cada columna.\n",
        "    \"\"\"\n",
        "    normalization_params = pd.DataFrame(columns=[\"product_id\", \"min\", \"max\", \"mean\", \"std\"])\n",
        "    normalized_df = pd.DataFrame(index=df.index)\n",
        "\n",
        "    for column in df.columns:\n",
        "        if normalization == \"MinMax\":\n",
        "            scaler = MinMaxScaler()\n",
        "            normalized_values = scaler.fit_transform(df[[column]]).flatten()\n",
        "            new_params = pd.DataFrame({\n",
        "                \"product_id\": [column],\n",
        "                \"min\": [scaler.data_min_[0]],\n",
        "                \"max\": [scaler.data_max_[0]],\n",
        "                \"mean\": [None],\n",
        "                \"std\": [None]\n",
        "            })\n",
        "            normalization_params = pd.concat([normalization_params, new_params], ignore_index=True)\n",
        "            normalized_df[column] = normalized_values\n",
        "\n",
        "        elif normalization == \"ZScore\":\n",
        "            scaler = StandardScaler()\n",
        "            normalized_values = scaler.fit_transform(df[[column]]).flatten()\n",
        "            new_params = pd.DataFrame({\n",
        "                \"product_id\": [column],\n",
        "                \"min\": [None],\n",
        "                \"max\": [None],\n",
        "                \"mean\": [scaler.mean_[0]],\n",
        "                \"std\": [scaler.scale_[0]]\n",
        "            })\n",
        "            normalization_params = pd.concat([normalization_params, new_params], ignore_index=True)\n",
        "            normalized_df[column] = normalized_values\n",
        "\n",
        "        else:\n",
        "            raise ValueError(\"Invalid normalization method. Choose 'MinMax' or 'ZScore'.\")\n",
        "\n",
        "    return normalized_df, normalization_params\n",
        "\n",
        "def denormalize_series(normalized_series, normalization_params, normalization=\"MinMax\"):\n",
        "    \"\"\"\n",
        "    Desnormaliza una serie de tiempo usando los valores almacenados.\n",
        "\n",
        "    Args:\n",
        "        normalized_series (pd.Series or pd.DataFrame): Serie o DataFrame con los datos normalizados.\n",
        "        normalization_params (pd.DataFrame): DataFrame con los parámetros necesarios para desnormalizar cada serie o columna.\n",
        "            - Para \"MinMax\": valores min y max de cada serie o columna.\n",
        "            - Para \"Zscore\": valores mean y std de cada serie o columna.\n",
        "        normalization (str): Tipo de normalización a deshacer. Opciones: \"MinMax\" o \"Zscore\". Default es \"MinMax\".\n",
        "\n",
        "    Returns:\n",
        "        denormalized_series (pd.Series or pd.DataFrame): Serie o DataFrame con los datos desnormalizados.\n",
        "    \"\"\"\n",
        "    if isinstance(normalized_series, pd.DataFrame):\n",
        "        denormalized_df = pd.DataFrame(index=normalized_series.index)\n",
        "        for column in normalized_series.columns:\n",
        "            params = normalization_params[normalization_params[\"product_id\"] == column]\n",
        "            if normalization == \"MinMax\":\n",
        "                min_value = params[\"min\"].values[0]\n",
        "                max_value = params[\"max\"].values[0]\n",
        "                denormalized_values = normalized_series[column] * (max_value - min_value) + min_value\n",
        "            elif normalization == \"ZScore\":\n",
        "                mean_value = params[\"mean\"].values[0]\n",
        "                std_value = params[\"std\"].values[0]\n",
        "                denormalized_values = normalized_series[column] * std_value + mean_value\n",
        "            else:\n",
        "                raise ValueError(\"Invalid normalization method. Choose 'MinMax' or 'ZScore'.\")\n",
        "            denormalized_df[column] = denormalized_values\n",
        "        return denormalized_df\n",
        "    elif isinstance(normalized_series, pd.Series):\n",
        "        product_ids = normalized_series.index\n",
        "        denormalized_values = []\n",
        "        for product_id in product_ids:\n",
        "            params = normalization_params[normalization_params[\"product_id\"] == product_id]\n",
        "            if normalization == \"MinMax\":\n",
        "                min_value = params[\"min\"].values[0]\n",
        "                max_value = params[\"max\"].values[0]\n",
        "                denormalized_value = normalized_series[product_id] * (max_value - min_value) + min_value\n",
        "            elif normalization == \"ZScore\":\n",
        "                mean_value = params[\"mean\"].values[0]\n",
        "                std_value = params[\"std\"].values[0]\n",
        "                denormalized_value = normalized_series[product_id] * std_value + mean_value\n",
        "            else:\n",
        "                raise ValueError(\"Invalid normalization method. Choose 'MinMax' or 'ZScore'.\")\n",
        "            denormalized_values.append(denormalized_value)\n",
        "        denormalized_series = pd.Series(denormalized_values, index=product_ids, name=normalized_series.name)\n",
        "        return denormalized_series\n",
        "    else:\n",
        "        raise TypeError(\"normalized_series should be either a pandas Series or DataFrame\")\n"
      ],
      "metadata": {
        "id": "jTr6HsM8CTL2"
      },
      "execution_count": 7,
      "outputs": []
    },
    {
      "cell_type": "markdown",
      "source": [
        "## Split Data"
      ],
      "metadata": {
        "id": "6z54dcDlIyHB"
      }
    },
    {
      "cell_type": "code",
      "source": [
        "###############################################################################\n",
        "# Hay que ponerse a invstigar sobre como hacer el Split en Series de Tiempo. Walk Fwd Validation?\n",
        "def split_data_1(df):\n",
        "  df_train = df.loc['2017-01':'2018-12']\n",
        "  df_valid = df.loc['2019-01':'2019-12']\n",
        "  return df_train, df_valid\n",
        "###############################################################################\n",
        "# No me deja un data_valid mas chico que esto, tira erro el earlystopping\n",
        "def split_data_2(df):\n",
        "  df_train = df.loc['2017-01':'2019-04']\n",
        "  df_valid = df.loc['2019-05':]\n",
        "  return df_train, df_valid\n",
        "#############################################################################\n",
        "def split_data_dec2019(df):\n",
        "  df_train = df.loc['2017-01':'2019-10']\n",
        "  df_valid = df.loc['2019-11':'2019-12']\n",
        "  return df_train, df_valid"
      ],
      "metadata": {
        "id": "zZUKfILzC6Un"
      },
      "execution_count": 8,
      "outputs": []
    },
    {
      "cell_type": "markdown",
      "source": [
        "## Window Data"
      ],
      "metadata": {
        "id": "xbYFP2j6EiEW"
      }
    },
    {
      "cell_type": "code",
      "source": [
        "def window_dataset(sequence, data_split, window_size, batch_size, n_future, shuffle_buffer=1000, seed=None):\n",
        "    \"\"\"Generates dataset windows for multi-step forecasting in a multivariable context.\n",
        "\n",
        "    Args:\n",
        "      sequence (array-like): Contains the values of the time series, where each element is an array of feature values.\n",
        "      data_split (str): Specifies if the dataset is for training or validation/test.\n",
        "      window_size (int): The number of time steps to include in the feature.\n",
        "      batch_size (int): The batch size.\n",
        "      n_future (int): The number of future steps to predict.\n",
        "      shuffle_buffer (int): Buffer size to use for the shuffle method.\n",
        "      seed (int, optional): Random seed for reproducibility.\n",
        "\n",
        "    Returns:\n",
        "      tf.data.Dataset: TF Dataset containing time windows.\n",
        "    \"\"\"\n",
        "\n",
        "    # Generate a TF Dataset from the series values\n",
        "    dataset = tf.data.Dataset.from_tensor_slices(sequence)\n",
        "\n",
        "    # Window the data but only take those with the specified size\n",
        "    dataset = dataset.window(window_size + n_future, shift=1, drop_remainder=True)\n",
        "\n",
        "    # Flatten the windows by putting its elements in a single batch\n",
        "    dataset = dataset.flat_map(lambda window: window.batch(window_size + n_future))\n",
        "\n",
        "    # Create tuples with features and labels\n",
        "    dataset = dataset.map(lambda window: (window[:window_size], window[window_size:]))\n",
        "\n",
        "    if data_split == 'train':\n",
        "        # Shuffle the training data to improve generalization\n",
        "        dataset = dataset.shuffle(shuffle_buffer, seed=seed)\n",
        "    else:\n",
        "        # Cache the validation/test data for improved performance\n",
        "        dataset = dataset.cache()\n",
        "\n",
        "    # Create batches of windows and prefetch for performance\n",
        "    dataset = dataset.batch(batch_size).prefetch(tf.data.AUTOTUNE)\n",
        "\n",
        "    return dataset\n"
      ],
      "metadata": {
        "id": "c5g4WjakEjcM"
      },
      "execution_count": 9,
      "outputs": []
    },
    {
      "cell_type": "markdown",
      "source": [
        "## Prediction Functions"
      ],
      "metadata": {
        "id": "x_Zm-EgneATh"
      }
    },
    {
      "cell_type": "code",
      "source": [
        "def generate_predictions(data_norm, data_norm_params):\n",
        "\n",
        "    # Convertir el DataFrame a un array de NumPy\n",
        "    data_norm_array = data_norm.values\n",
        "\n",
        "    # Extraer la última ventana de datos de 2019 para predecir enero de 2020\n",
        "    column_names = data_norm.columns  # Obtener los nombres de las columnas\n",
        "\n",
        "    # Extraer los últimos `window_size` meses de 2019\n",
        "    input_data = data_norm_array[-window_size:].reshape((1, window_size, n_features))\n",
        "\n",
        "    # Predecir enero de 2020\n",
        "    pred_january = model.predict(input_data)\n",
        "\n",
        "    # Asegurarse de que la predicción tenga la forma correcta\n",
        "    pred_january = pred_january.reshape((1, n_future, n_features))\n",
        "\n",
        "    # Crear un DataFrame para la predicción de enero de 2020\n",
        "    pred_january_df = pd.DataFrame(pred_january[0], columns=column_names)\n",
        "    pred_january_df.index = pd.date_range(start='2020-01-01', periods=n_future, freq='MS')\n",
        "\n",
        "    # Actualizar la ventana de entrada para predecir febrero de 2020\n",
        "    input_data = np.append(input_data[:, 1:, :], pred_january[:, 0, :].reshape(1, 1, n_features), axis=1)\n",
        "\n",
        "    # Predecir febrero de 2020\n",
        "    pred_february = model.predict(input_data)\n",
        "\n",
        "    # Asegurarse de que la predicción tenga la forma correcta\n",
        "    pred_february = pred_february.reshape((1, n_future, n_features))\n",
        "\n",
        "    # Crear un DataFrame para la predicción de febrero de 2020\n",
        "    pred_february_df = pd.DataFrame(pred_february[0], columns=column_names)\n",
        "    pred_february_df.index = pd.date_range(start='2020-02-01', periods=n_future, freq='MS')\n",
        "\n",
        "    # Obtener la predicción de febrero de 2020\n",
        "    pred_1 = pred_january_df.loc['2020-02-01']\n",
        "\n",
        "    # Desnormalizar la predicción\n",
        "    pred_1_denorm = denormalize_series(pred_1, data_norm_params, normalization=normalization)\n",
        "    data_pred1_denorm = pred_1_denorm.reset_index()\n",
        "    data_pred1_denorm.columns = ['product_id', 'tn']\n",
        "    predicciones = filter_data(data_pred1_denorm, data_productos_a_predecir)\n",
        "\n",
        "    # Crear el nombre del archivo\n",
        "    filename = f\"{split_strategy}_{model_name}_win{window_size}_batch{batch_size}_{normalization}_{loss}_epochs{epochs}.csv\"\n",
        "    predicciones.to_csv(filename, header=True, index=False)\n",
        "\n",
        "    print(filename)\n",
        "\n",
        "    return predicciones\n",
        "##########################################################################\n",
        "def sumar_predicciones(df1, df2):\n",
        "    # Asegúrate de que las columnas necesarias estén en los DataFrames\n",
        "    if 'product_id' not in df1.columns or 'tn' not in df1.columns:\n",
        "        raise ValueError(\"df1 debe contener las columnas 'product_id' y 'tn'\")\n",
        "    if 'product_id' not in df2.columns or 'tn' not in df2.columns:\n",
        "        raise ValueError(\"df2 debe contener las columnas 'product_id' y 'tn'\")\n",
        "\n",
        "    # Suma los valores de 'tn' para cada 'product_id' de ambos DataFrames\n",
        "    result = df1.set_index('product_id').add(df2.set_index('product_id'), fill_value=0).reset_index()\n",
        "\n",
        "    return result\n",
        "##########################################################################\n",
        "# Boostea los productos de Health Care cuya predicciones estan infra valuadas\n",
        "def HC_boost(predicciones_serie, boost=0.10):\n",
        "    boost_mask = ['20006', '20007', '20008', '20009', '20010', '20012', '20014', '20015']\n",
        "\n",
        "    # Convertir el índice a string si no lo es\n",
        "    predicciones_serie.index = predicciones_serie.index.astype(str)\n",
        "\n",
        "    # Aplicar el boost a los valores en la máscara\n",
        "    predicciones_serie.loc[boost_mask] = predicciones_serie.loc[boost_mask] * (1 + boost)\n",
        "\n",
        "    return predicciones_serie\n",
        "##########################################################################"
      ],
      "metadata": {
        "id": "jmLuXgOGeC57"
      },
      "execution_count": 57,
      "outputs": []
    },
    {
      "cell_type": "markdown",
      "source": [
        "## Complete Sales"
      ],
      "metadata": {
        "id": "Tsi7tkBEgtWh"
      }
    },
    {
      "cell_type": "code",
      "source": [
        "def complete_sales(df1, df2):\n",
        "    # Crear un rango de fechas desde enero 2017 hasta diciembre 2019\n",
        "    fechas_completas = pd.date_range(start='2017-01-01', end='2019-12-01', freq='MS')\n",
        "\n",
        "    # Reindexar el DataFrame para asegurar que todas las fechas estén presentes\n",
        "    df1 = df1.reindex(fechas_completas, fill_value=pd.NA)\n",
        "\n",
        "    # Obtener los product_id del primer DataFrame (nombres de las columnas)\n",
        "    product_ids_df1 = df1.columns.tolist()\n",
        "\n",
        "    # Obtener los product_id del segundo DataFrame (valores en la columna 'product_id')\n",
        "    product_ids_df2 = df2['product_id'].tolist()\n",
        "\n",
        "    # Identificar los product_id que faltan en df1\n",
        "    product_ids_faltantes = [pid for pid in product_ids_df2 if pid not in product_ids_df1]\n",
        "\n",
        "    # Crear un DataFrame con las columnas faltantes y valores NaN\n",
        "    df_faltantes = pd.DataFrame(index=df1.index, columns=product_ids_faltantes)\n",
        "\n",
        "    # Concatenar el DataFrame original con el DataFrame de faltantes\n",
        "    df_resultante = pd.concat([df1, df_faltantes], axis=1)\n",
        "\n",
        "    return df_resultante\n",
        "\n"
      ],
      "metadata": {
        "id": "aSHUuvHXgtf8"
      },
      "execution_count": 11,
      "outputs": []
    },
    {
      "cell_type": "markdown",
      "source": [
        "## Callbacks"
      ],
      "metadata": {
        "id": "brfkj2XkXena"
      }
    },
    {
      "cell_type": "code",
      "source": [
        "# Por ahora solo EarlyStopping\n",
        "#############################################################################\n",
        "class MAEThresholdCallback(Callback):\n",
        "    def __init__(self, threshold=0.15):\n",
        "        super(MAEThresholdCallback, self).__init__()\n",
        "        self.threshold = threshold\n",
        "\n",
        "    def on_epoch_end(self, epoch, logs=None):\n",
        "        val_mae = logs.get('val_mae')\n",
        "        if val_mae is not None and val_mae <= self.threshold:\n",
        "            print(f'\\nEpoch {epoch+1}: Validation MAE has reached {val_mae:.4f}, stopping training.')\n",
        "            self.model.stop_training = True\n",
        "\n",
        "def MyCallbacks(model_name, patience):\n",
        "    earlystop = tf.keras.callbacks.EarlyStopping('val_loss', patience=patience, restore_best_weights=True)\n",
        "    # checkpoint = tf.keras.callbacks.ModelCheckpoint(filepath=f'ckpts/{model_name}-' + '{epoch:02d}-{val_loss:.4f}.h5', monitor='val_loss')\n",
        "    # mae_threshold_callback = MAEThresholdCallback(threshold=0.015)\n",
        "    return [earlystop] #, checkpoint] #, mae_threshold_callback]\n",
        "\n",
        "#############################################################################"
      ],
      "metadata": {
        "id": "ETzh0JyBXgRt"
      },
      "execution_count": 12,
      "outputs": []
    },
    {
      "cell_type": "markdown",
      "source": [
        "## Model Design"
      ],
      "metadata": {
        "id": "cGAz7W4mXqO3"
      }
    },
    {
      "cell_type": "code",
      "source": [
        "#############################################################################\n",
        "def compile_model(new_model, loss, optimizer):\n",
        "  new_model.compile(optimizer=optimizer, loss=loss) # metrics=[tf.keras.metrics.MeanAbsolutePercentageError()])\n",
        "  print(new_model.summary())\n",
        "  return new_model\n",
        "#############################################################################\n",
        "def MyModel(loss, optimizer, window_size, n_future, n_features):\n",
        "    new_model = tf.keras.Sequential([\n",
        "        tf.keras.layers.InputLayer((window_size, n_features)),\n",
        "        tf.keras.layers.Conv1D(filters=64, kernel_size=3, activation='relu', padding='causal'),\n",
        "        tf.keras.layers.MaxPooling1D(pool_size=2),\n",
        "        tf.keras.layers.Bidirectional(tf.keras.layers.LSTM(32, return_sequences=True)),\n",
        "        tf.keras.layers.Bidirectional(tf.keras.layers.LSTM(16, return_sequences=False)),\n",
        "        tf.keras.layers.Dropout(0.4),\n",
        "        tf.keras.layers.Dense(n_features * n_future, activation='relu'),\n",
        "        tf.keras.layers.Reshape((n_future, n_features)),\n",
        "        ])\n",
        "    return compile_model(new_model, loss, optimizer)"
      ],
      "metadata": {
        "id": "eCESYECOXr45"
      },
      "execution_count": 13,
      "outputs": []
    },
    {
      "cell_type": "markdown",
      "source": [
        "# Pipelines"
      ],
      "metadata": {
        "id": "F4yiWWu8FJZX"
      }
    },
    {
      "cell_type": "markdown",
      "source": [
        "## Data Preprocessing"
      ],
      "metadata": {
        "id": "HWg00hIFX64c"
      }
    },
    {
      "cell_type": "code",
      "source": [
        "# # data\n",
        "# # data_productos\n",
        "# # data_stocks\n",
        "# # data_productos_a_predecir\n",
        "\n",
        "# Pre-Processing Variables\n",
        "split_strategy = 'S3'\n",
        "window_size = 6\n",
        "n_future = 2\n",
        "n_features = len(data_productos_a_predecir)\n",
        "batch_size = 4\n",
        "normalization = 'MinMax'\n",
        "\n",
        "data_filter = filter_data(data, data_productos_a_predecir)\n",
        "data_grouped = group_data(data_filter, 'product_id')\n",
        "data_filled = fill_nulls(data_grouped)\n",
        "data_norm, data_norm_params = normalize_data(data_filled, normalization=normalization)"
      ],
      "metadata": {
        "id": "vLrQTz5YEkPk"
      },
      "execution_count": 14,
      "outputs": []
    },
    {
      "cell_type": "markdown",
      "source": [
        "## Experimentos"
      ],
      "metadata": {
        "id": "SaiJuaUP3JUD"
      }
    },
    {
      "cell_type": "markdown",
      "source": [
        "### 06/11 - Analisis del Error por Producto"
      ],
      "metadata": {
        "id": "OisFvYA0feHA"
      }
    },
    {
      "cell_type": "code",
      "source": [
        "# # Pre-Processing Variables\n",
        "# split_strategy = 'S3'\n",
        "# window_size = 6\n",
        "# n_future = 2\n",
        "# n_features = len(data_productos_a_predecir)\n",
        "# batch_size = 4\n",
        "# normalization = 'MinMax'\n",
        "\n",
        "# data_filter = filter_data(data, data_productos_a_predecir)\n",
        "# data_grouped = group_data(data_filter, 'product_id')\n",
        "# data_filled = fill_nulls(data_grouped)\n",
        "# data_norm, data_norm_params = normalize_data(data_filled, normalization=normalization)\n",
        "\n",
        "\n",
        "# # # # #########################################################################\n",
        "# # # # Train hasta 2019-10, para predecir 2019-12\n",
        "# # # # #########################################################################\n",
        "data_train, data_valid = split_data_dec2019(data_norm)\n",
        "data_train_windowed = window_dataset(data_train, data_split='train', window_size=window_size, batch_size=batch_size, n_future=n_future)\n",
        "# data_valid_windowed = window_dataset(data_valid, data_split='valid', window_size=window_size, batch_size=batch_size, n_future=n_future)\n",
        "\n",
        "# Model Variables\n",
        "model_name = 'Clase3'\n",
        "loss = 'mse'\n",
        "optimizer = 'adam'\n",
        "patience = 30\n",
        "epochs = 10\n",
        "\n",
        "callbacks = MyCallbacks(model_name, patience)\n",
        "model = MyModel(loss, optimizer, window_size, n_future, n_features)\n",
        "\n",
        "history = model.fit(\n",
        "    data_train_windowed,\n",
        "    # validation_data = data_valid_windowed,\n",
        "    # callbacks = callbacks,\n",
        "    verbose=2,\n",
        "    epochs=epochs)\n",
        "\n",
        "# No sirve para este caso, esta hardcodeada a Febrero 2020. Tengo que actualizar esta funcion\n",
        "# generate_predictions(data_norm, data_norm_params)\n",
        "\n",
        "# Seleccionar los últimos 6 meses de data_train\n",
        "data_for_prediction = data_train[-window_size:]\n",
        "# Convierte los datos a un formato compatible con la función window_dataset\n",
        "data_for_prediction = data_for_prediction.values.reshape((1, window_size, n_features))\n",
        "predictions = model.predict(data_for_prediction)\n",
        "\n",
        "# Convertir las predicciones a un DataFrame para desnormalizar\n",
        "predictions_df = pd.DataFrame(predictions[0], columns=data_train.columns)\n",
        "\n",
        "# Desnormalizar las predicciones\n",
        "predictions_denorm = denormalize_series(predictions_df, data_norm_params, normalization=normalization)\n",
        "\n",
        "# Imprimir las predicciones desnormalizadas\n",
        "# display(predictions_denorm)\n",
        "\n",
        "# Exporto a formato Kaggle, para probar un tirito (no sirve porque Kaggle valida a Febrero 2020)\n",
        "predictions_denorm.iloc[1].to_csv('predictions_dec2019.csv', header=True, index=True)\n",
        "\n",
        "# Genero las Series para plotear el error entre predicho y real. Armo un Dataframe\n",
        "data_dec2019_pred = pd.Series(predictions_denorm.iloc[1], name='Pred')\n",
        "data_dec2019_true = pd.Series(data_grouped.fillna(0).loc['2019-12-01'], name='True')\n",
        "data_dec2019_error = pd.concat([data_dec2019_pred, data_dec2019_true], axis=1)\n",
        "\n",
        "# Clusterizo por Categorias 1 y 2 de productos\n",
        "data_productos_indexed = data_productos.drop_duplicates('product_id').set_index('product_id').sort_index()\n",
        "data_dec2019_error_detail = data_dec2019_error.join(data_productos_indexed[['cat1', 'cat2', 'cat3']])\n",
        "\n",
        "# Ploteo los Errores, con sus clusters\n",
        "sns.scatterplot(data=data_dec2019_error_detail, x='Pred', y='True', hue='cat1')\n",
        "plt.axline((0, 0), slope=1, color='r', linestyle='--')\n",
        "plt.show()\n",
        "\n",
        "# Verificamos que Categoria es la que engloba mas productos\n",
        "print(data_productos['cat1'].value_counts())\n",
        "\n",
        "# Index de los productos que suelen predecirse de menos en HC\n",
        "# HC_boost_index = data_dec2019_error_detail.query('cat1 == \"HC\" and Pred > 350 and Pred < 600').index\n",
        "\n",
        "# Productos con mayores diferencias en la prediccion. No me sirve de mucho ver este listado\n",
        "# print('Productos con peores predicciones:\\n', abs(data_dec2019_pred - data_dec2019_true).sort_values(ascending=False).head(10))\n"
      ],
      "metadata": {
        "colab": {
          "base_uri": "https://localhost:8080/",
          "height": 1000
        },
        "id": "8tw6MlALfgrx",
        "outputId": "4e18c3fb-2b62-483f-fa56-f71319c6e9d6"
      },
      "execution_count": 15,
      "outputs": [
        {
          "output_type": "stream",
          "name": "stdout",
          "text": [
            "Model: \"sequential\"\n",
            "_________________________________________________________________\n",
            " Layer (type)                Output Shape              Param #   \n",
            "=================================================================\n",
            " conv1d (Conv1D)             (None, 6, 64)             149824    \n",
            "                                                                 \n",
            " max_pooling1d (MaxPooling1  (None, 3, 64)             0         \n",
            " D)                                                              \n",
            "                                                                 \n",
            " bidirectional (Bidirection  (None, 3, 64)             24832     \n",
            " al)                                                             \n",
            "                                                                 \n",
            " bidirectional_1 (Bidirecti  (None, 32)                10368     \n",
            " onal)                                                           \n",
            "                                                                 \n",
            " dropout (Dropout)           (None, 32)                0         \n",
            "                                                                 \n",
            " dense (Dense)               (None, 1560)              51480     \n",
            "                                                                 \n",
            " reshape (Reshape)           (None, 2, 780)            0         \n",
            "                                                                 \n",
            "=================================================================\n",
            "Total params: 236504 (923.84 KB)\n",
            "Trainable params: 236504 (923.84 KB)\n",
            "Non-trainable params: 0 (0.00 Byte)\n",
            "_________________________________________________________________\n",
            "None\n",
            "Epoch 1/10\n",
            "7/7 - 10s - loss: 0.2303 - 10s/epoch - 1s/step\n",
            "Epoch 2/10\n",
            "7/7 - 0s - loss: 0.1876 - 86ms/epoch - 12ms/step\n",
            "Epoch 3/10\n",
            "7/7 - 0s - loss: 0.1399 - 88ms/epoch - 13ms/step\n",
            "Epoch 4/10\n",
            "7/7 - 0s - loss: 0.1064 - 91ms/epoch - 13ms/step\n",
            "Epoch 5/10\n",
            "7/7 - 0s - loss: 0.0963 - 89ms/epoch - 13ms/step\n",
            "Epoch 6/10\n",
            "7/7 - 0s - loss: 0.0792 - 84ms/epoch - 12ms/step\n",
            "Epoch 7/10\n",
            "7/7 - 0s - loss: 0.0755 - 85ms/epoch - 12ms/step\n",
            "Epoch 8/10\n",
            "7/7 - 0s - loss: 0.0740 - 120ms/epoch - 17ms/step\n",
            "Epoch 9/10\n",
            "7/7 - 0s - loss: 0.0711 - 88ms/epoch - 13ms/step\n",
            "Epoch 10/10\n",
            "7/7 - 0s - loss: 0.0655 - 80ms/epoch - 11ms/step\n",
            "1/1 [==============================] - 2s 2s/step\n"
          ]
        },
        {
          "output_type": "display_data",
          "data": {
            "text/plain": [
              "<Figure size 640x480 with 1 Axes>"
            ],
            "image/png": "[encoded data removed]"
          },
          "metadata": {}
        },
        {
          "output_type": "stream",
          "name": "stdout",
          "text": [
            "cat1\n",
            "PC       723\n",
            "HC       296\n",
            "FOODS    230\n",
            "REF       13\n",
            "Name: count, dtype: int64\n"
          ]
        }
      ]
    },
    {
      "cell_type": "markdown",
      "source": [
        "- Vemos claramente como estsamos prediciendo mal los productos de Health Care, mas que nada los que predice entre 350 y 600, esta prediciendo bastante de menos."
      ],
      "metadata": {
        "id": "7hM59Wm47VGU"
      }
    },
    {
      "cell_type": "markdown",
      "source": [
        "### 06/10 - Cada cliente por separado"
      ],
      "metadata": {
        "id": "fPq4wBabw7gE"
      }
    },
    {
      "cell_type": "code",
      "source": [
        "# Esto lo corro en mi maquina local, en Colab se cuelga antes de terminar con los casi 600 clientes\n",
        "\n",
        "# # Inicializo el vector de predicciones\n",
        "# predicciones_all = data_productos_a_predecir.copy()\n",
        "# predicciones_all['tn'] = 0\n",
        "\n",
        "# # Probamos solo con los 3 primeros clientes\n",
        "# customers = data['customer_id'].unique()\n",
        "# i = 0\n",
        "\n",
        "# for customer in customers:\n",
        "#   print('Vuelta: ', i)\n",
        "#   i += 1\n",
        "#   data_customer = data_filter.query('customer_id == @customer')\n",
        "#   data_customer_grouped = group_data(data_customer, 'product_id')\n",
        "#   data_customer_grouped_fixed = complete_sales(data_customer_grouped, data_productos_a_predecir)\n",
        "#   data_customer_filled = fill_nulls(data_customer_grouped_fixed) # Probar cual funciona mejor\n",
        "#   # data_customer_filled = fill_nulls_customer(data_customer_grouped_fixed) # Probar cual funciona mejor\n",
        "#   data_customer_norm, data_customer_norm_params = normalize_data(data_customer_filled, normalization=normalization)\n",
        "\n",
        "#   data_train_windowed = window_dataset(data_customer_norm, data_split='train', window_size=window_size, batch_size=batch_size, n_future=n_future)\n",
        "\n",
        "#   # Model Variables\n",
        "#   model_name = 'M1'\n",
        "#   loss = 'mse'\n",
        "#   optimizer = 'adam'\n",
        "#   patience = 30\n",
        "#   epochs = 10\n",
        "\n",
        "#   model = MyModel(loss, optimizer, window_size, n_future, n_features)\n",
        "\n",
        "#   history = model.fit(\n",
        "#       data_train_windowed,\n",
        "#       # validation_data = data_valid_windowed,\n",
        "#       # callbacks = callbacks,\n",
        "#       verbose=2,\n",
        "#       epochs=epochs)\n",
        "\n",
        "#   predicciones = generate_predictions(data_customer_norm, data_customer_norm_params)\n",
        "\n",
        "#   predicciones_all = sumar_predicciones(predicciones_all, predicciones)\n",
        "\n",
        "# predicciones_all.to_csv('/content/drive/MyDrive/Universidad Austral (Resumenes)/predicciones2.csv', header=True, index=False)"
      ],
      "metadata": {
        "id": "TvvXLKmpyS5s"
      },
      "execution_count": 16,
      "outputs": []
    },
    {
      "cell_type": "markdown",
      "source": [
        "### 06/10 - No Split"
      ],
      "metadata": {
        "id": "MFRKlhKimrIb"
      }
    },
    {
      "cell_type": "code",
      "source": [
        "# # # #########################################################################\n",
        "# # # Sin Splitear los datos, usando todo para entrenar\n",
        "# # # #########################################################################\n",
        "\n",
        "#  data_train_windowed = window_dataset(data_norm, data_split='train', window_size=window_size, batch_size=batch_size, n_future=n_future)\n",
        "# # data_train_windowed = window_dataset(data_norm, data_split='train', window_size=window_size, batch_size=batch_size, n_future=n_future)\n",
        "\n",
        "# # Model Variables\n",
        "# model_name = 'M1'\n",
        "# loss = 'mse'\n",
        "# optimizer = 'adam'\n",
        "# patience = 30\n",
        "# epochs = 10\n",
        "\n",
        "# model = MyModel(loss, optimizer, window_size, n_future, n_features)\n",
        "\n",
        "\n",
        "# history = model.fit(\n",
        "#     data_train_windowed,\n",
        "#     # validation_data = data_valid_windowed,\n",
        "#     # callbacks = callbacks,\n",
        "#     verbose=2,\n",
        "#     epochs=epochs)\n",
        "\n",
        "# predicciones = generate_predictions()"
      ],
      "metadata": {
        "id": "JFTI6TUpmrRP"
      },
      "execution_count": 17,
      "outputs": []
    },
    {
      "cell_type": "markdown",
      "source": [
        "### 06/10 - Split #2"
      ],
      "metadata": {
        "id": "56uvfCGZfKek"
      }
    },
    {
      "cell_type": "code",
      "source": [
        "# # # #########################################################################\n",
        "# # # Train desde 2017-01 hasta 2019-06\n",
        "# # # #########################################################################\n",
        "\n",
        "# data_train, data_valid = split_data_2(data_norm)\n",
        "# data_train_windowed = window_dataset(data_train, data_split='train', window_size=window_size, batch_size=batch_size, n_future=n_future)\n",
        "# data_valid_windowed = window_dataset(data_valid, data_split='valid', window_size=window_size, batch_size=batch_size, n_future=n_future)\n",
        "\n",
        "# # Model Variables\n",
        "# model_name = 'M1'\n",
        "# loss = 'mse'\n",
        "# optimizer = 'adam'\n",
        "# patience = 30\n",
        "# epochs = 500\n",
        "\n",
        "# callbacks = MyCallbacks(model_name, patience)\n",
        "# model = MyModel(loss, optimizer, window_size, n_future, n_features)\n",
        "\n",
        "\n",
        "# history = model.fit(\n",
        "#     data_train_windowed,\n",
        "#     validation_data = data_valid_windowed,\n",
        "#     callbacks = callbacks,\n",
        "#     verbose=2,\n",
        "#     epochs=epochs)\n",
        "\n",
        "# generate_predictions()"
      ],
      "metadata": {
        "id": "kMCpoMFHfMgh"
      },
      "execution_count": 18,
      "outputs": []
    },
    {
      "cell_type": "markdown",
      "source": [
        "### 06/10 - Split #1"
      ],
      "metadata": {
        "id": "Z2xfLSMdU96y"
      }
    },
    {
      "cell_type": "code",
      "source": [
        "# # # #########################################################################\n",
        "# # # Train 2018 & 2018, Validation 2019 (10/06)\n",
        "# # # #########################################################################\n",
        "# data_train, data_valid = split_data_1(data_norm)\n",
        "# data_train_windowed = window_dataset(data_train, data_split='train', window_size=window_size, batch_size=batch_size, n_future=n_future)\n",
        "# data_valid_windowed = window_dataset(data_valid, data_split='valid', window_size=window_size, batch_size=batch_size, n_future=n_future)\n",
        "\n",
        "# # Model Variables\n",
        "# model_name = 'M1'\n",
        "# loss = 'mse'\n",
        "# optimizer = 'adam'\n",
        "# patience = 30\n",
        "# epochs = 500\n",
        "\n",
        "# callbacks = MyCallbacks(model_name, patience)\n",
        "# model = MyModel(loss, optimizer, window_size, n_future, n_features)\n",
        "\n",
        "# history = model.fit(\n",
        "#     data_train_windowed,\n",
        "#     validation_data = data_valid_windowed,\n",
        "#     callbacks = callbacks,\n",
        "#     verbose=2,\n",
        "#     epochs=epochs)\n",
        "\n",
        "# generate_predictions()"
      ],
      "metadata": {
        "id": "I4NrpvT1VgNz"
      },
      "execution_count": 19,
      "outputs": []
    },
    {
      "cell_type": "markdown",
      "source": [
        "### Univariate: Product 20001"
      ],
      "metadata": {
        "id": "9L6P6xEM3XPU"
      }
    },
    {
      "cell_type": "code",
      "source": [
        "# data = data_filled[['20001']]\n",
        "\n",
        "# # Parámetros\n",
        "# window_size = 6  # Tamaño de la ventana de tiempo\n",
        "# n_future = 2  # Número de pasos futuros a predecir\n",
        "# batch_size = 32\n",
        "# n_splits = 5  # Número de divisiones para validación \"walk forward\"\n",
        "# n_features = data.shape[1]  # Número de características en el conjunto de datos\n",
        "\n",
        "# data_norm, data_norm_params = normalize_data(data, normalization=normalization)\n",
        "# data_norm"
      ],
      "metadata": {
        "id": "keCpJUPo3ggY"
      },
      "execution_count": 20,
      "outputs": []
    },
    {
      "cell_type": "markdown",
      "source": [
        "### Proof of Concept"
      ],
      "metadata": {
        "id": "y28Ak-HH3TEi"
      }
    },
    {
      "cell_type": "code",
      "source": [
        "# #########################################################################\n",
        "# # New Pipeline (09/06)\n",
        "# #########################################################################\n",
        "# data_norm, data_norm_params = normalize_data(data_filled, normalization=normalization)\n",
        "# # data_train, data_valid = split_data(data_norm) # Split pendiente\n",
        "# data_train = data_norm\n",
        "# print(data_train.shape)\n",
        "# # print(data_valid.shape)\n",
        "# data_train_windowed = window_dataset(data_train, data_split='train', window_size=window_size, batch_size=batch_size, n_future=n_future)\n",
        "# # data_valid_windowed = window_dataset(data_valid, data_split='valid', window_size=window_size, batch_size=batch_size, n_future=n_future)\n",
        "\n",
        "\n",
        "# #########################################################################\n",
        "# # Old Pipeline (08/06)\n",
        "# #########################################################################\n",
        "# # data_all = group_data(data, data_productos_a_predecir)\n",
        "# # data_all_norm, data_all_norm_params = normalize_data(data_all, normalization=normalization)\n",
        "# # data_all_norm['20001'].describe()\n",
        "# # data_train, data_valid = split_data_all(data_all_norm)\n",
        "# # print(data_train.shape)\n",
        "# # print(data_valid.shape)\n",
        "# # data_train = data_all_norm\n",
        "# # data_train_windowed = window_dataset(data_train, data_split='train', window_size=window_size, batch_size=batch_size, n_future=n_future)\n",
        "# # data_valid_windowed = window_dataset(data_valid, data_split='valid', window_size=window_size, batch_size=batch_size, n_future=n_future)\n",
        "\n",
        "\n",
        "# #########################################################################\n",
        "# # Modelo\n",
        "# #########################################################################\n",
        "# data_train, data_valid = split_data_1(data_norm)\n",
        "# data_train_windowed = window_dataset(data_train, data_split='train', window_size=window_size, batch_size=batch_size, n_future=n_future)\n",
        "# data_valid_windowed = window_dataset(data_valid, data_split='valid', window_size=window_size, batch_size=batch_size, n_future=n_future)\n",
        "\n",
        "# # Model Variables\n",
        "# model_name = 'M1'\n",
        "# loss = 'mse'\n",
        "# optimizer = 'adam'\n",
        "# patience = 30\n",
        "# epochs = 500\n",
        "\n",
        "# callbacks = MyCallbacks(model_name, patience)\n",
        "# model = MyModel(loss, optimizer, window_size, n_future, n_features)\n",
        "\n",
        "# history = model.fit(\n",
        "#     data_train_windowed,\n",
        "#     validation_data = data_valid_windowed,\n",
        "#     callbacks = callbacks,\n",
        "#     verbose=2,\n",
        "#     epochs=epochs)\n",
        "\n",
        "# generate_predictions()"
      ],
      "metadata": {
        "id": "bCx0jH7rFU-M"
      },
      "execution_count": 21,
      "outputs": []
    },
    {
      "cell_type": "markdown",
      "source": [
        "# EDA"
      ],
      "metadata": {
        "id": "CRuRNJCI8J7U"
      }
    },
    {
      "cell_type": "code",
      "source": [
        "# # Evidentemente cuando el profe deidentifico los customers, lo hizo asignandoles ID secuenciales al listado ordenado por la suma de ventas(tn)\n",
        "# print('Listado de Clientes, ordenados por la sumatoria de ventas en tn:\\n', group_data(data, 'customer_id').sum(), '\\n')\n",
        "\n",
        "# # Lo mismo cuando deidentifico a los productos, solo que esta vez empezo desde 20000\n",
        "# print('Listado de Productos, ordenados por la sumatoria de ventas en tn:\\n', group_data(data, 'product_id').sum())"
      ],
      "metadata": {
        "id": "QOAjN92m8LJU"
      },
      "execution_count": 22,
      "outputs": []
    },
    {
      "cell_type": "code",
      "source": [
        "# # Analisis del cliente top\n",
        "\n",
        "# data_top = data.query('customer_id == \"10001\"')\n",
        "# data_top = group_data(data_top, 'product_id')\n",
        "# data_top = fill_nulls(data_top)\n",
        "\n",
        "# # data_top"
      ],
      "metadata": {
        "id": "4_qyQISS8bMF"
      },
      "execution_count": 23,
      "outputs": []
    }
  ]
}