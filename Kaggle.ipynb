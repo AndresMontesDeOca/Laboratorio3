{
  "nbformat": 4,
  "nbformat_minor": 0,
  "metadata": {
    "colab": {
      "provenance": [],
      "toc_visible": true,
      "authorship_tag": "ABX9TyOrxYdXHXVU2MqTmTDcfNMc",
      "include_colab_link": true
    },
    "kernelspec": {
      "name": "python3",
      "display_name": "Python 3"
    },
    "language_info": {
      "name": "python"
    }
  },
  "cells": [
    {
      "cell_type": "markdown",
      "metadata": {
        "id": "view-in-github",
        "colab_type": "text"
      },
      "source": [
        "<a href=\"https://colab.research.google.com/github/AndresMontesDeOca/Laboratorio3/blob/main/Kaggle.ipynb\" target=\"_parent\"><img src=\"https://colab.research.google.com/assets/colab-badge.svg\" alt=\"Open In Colab\"/></a>"
      ]
    },
    {
      "cell_type": "markdown",
      "source": [
        "# Modulos"
      ],
      "metadata": {
        "id": "crj3eqSV_WvI"
      }
    },
    {
      "cell_type": "markdown",
      "source": [
        "## Libraries"
      ],
      "metadata": {
        "id": "eL3soxEh_cgV"
      }
    },
    {
      "cell_type": "code",
      "source": [
        "# ColabNotebook = 'google.colab' in str(get_ipython())\n",
        "\n",
        "# if ColabNotebook: # maquina virtual colab\n",
        "#     # monta G-drive en entorno COLAB\n",
        "#     from google.colab import drive\n",
        "#     drive.mount('/content/drive/')"
      ],
      "metadata": {
        "id": "HkJAzqZfivZx"
      },
      "execution_count": 54,
      "outputs": []
    },
    {
      "cell_type": "code",
      "source": [
        "import pandas as pd\n",
        "import numpy as np\n",
        "from matplotlib import pyplot as plt\n",
        "import seaborn as sns\n",
        "import tensorflow as tf\n",
        "from tensorflow.keras.callbacks import Callback, EarlyStopping\n",
        "from sklearn.preprocessing import MinMaxScaler, StandardScaler\n",
        "from sklearn.model_selection import TimeSeriesSplit\n",
        "from sklearn.metrics import mean_squared_error\n",
        "\n",
        "\n",
        "import warnings\n",
        "# warnings.filterwarnings('ignore', category=ValueWarning)\n",
        "warnings.filterwarnings('ignore')\n",
        "\n",
        "# Asegurarte de que Pandas muestre los valores con la máxima precisión\n",
        "pd.set_option('display.float_format', lambda x: '%.10f' % x)\n",
        "\n",
        "# Ajustar la opción para mostrar más filas\n",
        "pd.set_option('display.max_rows', 20)\n",
        "\n",
        "# Si también quieres mostrar más columnas\n",
        "pd.set_option('display.max_columns', 20)\n",
        "\n",
        "\n",
        "# Vamos a suprimir la notacion cientifica\n",
        "pd.set_option(\"display.float_format\", lambda x:\"%.2f\" %x)\n",
        "\n",
        "\n",
        "def print_ds(ds, take=3):\n",
        "    for ex in ds.take(take):\n",
        "        print(ex)\n"
      ],
      "metadata": {
        "id": "4dKLvveO9QDs"
      },
      "execution_count": 55,
      "outputs": []
    },
    {
      "cell_type": "markdown",
      "source": [
        "## Carga Datos"
      ],
      "metadata": {
        "id": "CCBiyQvD_nC7"
      }
    },
    {
      "cell_type": "markdown",
      "source": [
        "### Local"
      ],
      "metadata": {
        "id": "rhxib23DtW_5"
      }
    },
    {
      "cell_type": "code",
      "source": [
        "# # # Code to read csv file into Colaboratory:\n",
        "# # # !pip install -U -q PyDrive\n",
        "# # from pydrive.auth import GoogleAuth\n",
        "# # from pydrive.drive import GoogleDrive\n",
        "# # from google.colab import auth, drive\n",
        "# # from oauth2client.client import GoogleCredentials\n",
        "# #\n",
        "# # # Authenticate and create the PyDrive client.\n",
        "# # auth.authenticate_user()\n",
        "# # gauth = GoogleAuth()\n",
        "# # gauth.credentials = GoogleCredentials.get_application_default()\n",
        "# # drive = GoogleDrive(gauth)\n",
        "\n",
        "\n",
        "\n",
        "# ################################# Datasets ###################################\n",
        "# # # Ventas\n",
        "# # id = \"158aOjqxaNO8l97yA6VWJkek_15YVLMhs\"\n",
        "# # downloaded = drive.CreateFile({'id':id})\n",
        "# # downloaded.GetContentFile('sell-in.txt')\n",
        "# data_ventas = pd.read_csv(\"G:\\\\My Drive\\\\Colab Notebooks\\\\Data\\\\Labo3\\\\sell-in.txt\", sep=\"\\t\")\n",
        "# data_ventas['periodo'] = pd.to_datetime(data_ventas['periodo'], format='%Y%m')\n",
        "# data_ventas['customer_id'] = data_ventas['customer_id'].astype(str)\n",
        "# data_ventas['product_id'] = data_ventas['product_id'].astype(str)\n",
        "# data = data_ventas.copy()\n",
        "\n",
        "# # # # Productos\n",
        "# # id = \"15JS_k86LS0sgJXma7BOVXWlyNcMwxdhE\"\n",
        "# # downloaded = drive.CreateFile({'id':id})\n",
        "# # downloaded.GetContentFile('tb_productos.txt')\n",
        "# data_productos = pd.read_csv(\"G:\\\\My Drive\\\\Colab Notebooks\\\\Data\\\\Labo3\\\\tb_productos.txt\", sep=\"\\t\")\n",
        "# data_productos['product_id'] = data_productos['product_id'].astype(str)\n",
        "\n",
        "# # # # Stocks\n",
        "# # id = \"15EV-8f_U7onpA1AcTxxXeD-z8yVR4fQu\"\n",
        "# # downloaded = drive.CreateFile({'id':id})\n",
        "# # downloaded.GetContentFile('G:\\\\My Drive\\\\Colab Notebooks\\\\Data\\\\Labo3\\\\tb_stocks.txt')\n",
        "# data_stocks = pd.read_csv('G:\\\\My Drive\\\\Colab Notebooks\\\\Data\\\\Labo3\\\\tb_stocks.txt', sep=\"\\t\")\n",
        "# data_stocks['periodo'] = pd.to_datetime(data_stocks['periodo'], format='%Y%m')\n",
        "# data_stocks['product_id'] = data_stocks['product_id'].astype(str)\n",
        "\n",
        "# # # # Productos a predecir\n",
        "# # id = \"15LjADctFVwjzQFJvfJGFTEdgZx9xCoId\"\n",
        "# # downloaded = drive.CreateFile({'id':id})\n",
        "# # downloaded.GetContentFile('productos_a_predecir.txt')\n",
        "# data_productos_a_predecir = pd.read_csv(\"G:\\\\My Drive\\\\Colab Notebooks\\\\Data\\\\Labo3\\\\productos_a_predecir.txt\", sep=\"\\t\")\n",
        "# data_productos_a_predecir['product_id'] = data_productos_a_predecir['product_id'].astype(str)\n",
        "# # data_productos_a_predecir_con_categorias = data_productos_a_predecir.set_index('product_id').join(data_productos.drop_duplicates('product_id').set_index('product_id').sort_index()[['cat1', 'cat2', 'cat3']]) # Esta mal\n",
        "# data_productos_a_predecir_con_categorias = data_productos_a_predecir.join(data_productos.drop_duplicates('product_id').set_index('product_id').sort_index()[['cat1', 'cat2', 'cat3']])\n"
      ],
      "metadata": {
        "id": "jzQavP-RtCH2"
      },
      "execution_count": 56,
      "outputs": []
    },
    {
      "cell_type": "markdown",
      "source": [
        "### Colab"
      ],
      "metadata": {
        "id": "04LDga8vtOpw"
      }
    },
    {
      "cell_type": "code",
      "source": [
        "# Code to read csv file into Colaboratory:\n",
        "# !pip install -U -q PyDrive\n",
        "from pydrive.auth import GoogleAuth\n",
        "from pydrive.drive import GoogleDrive\n",
        "from google.colab import auth, drive\n",
        "from oauth2client.client import GoogleCredentials\n",
        "\n",
        "# Authenticate and create the PyDrive client.\n",
        "auth.authenticate_user()\n",
        "gauth = GoogleAuth()\n",
        "gauth.credentials = GoogleCredentials.get_application_default()\n",
        "drive = GoogleDrive(gauth)\n",
        "\n",
        "\n",
        "\n",
        "################################# Datasets ###################################\n",
        "# # Ventas\n",
        "id = \"158aOjqxaNO8l97yA6VWJkek_15YVLMhs\"\n",
        "downloaded = drive.CreateFile({'id':id})\n",
        "downloaded.GetContentFile('sell-in.txt')\n",
        "data_ventas = pd.read_csv(\"sell-in.txt\", sep=\"\\t\")\n",
        "data_ventas['periodo'] = pd.to_datetime(data_ventas['periodo'], format='%Y%m')\n",
        "data_ventas['customer_id'] = data_ventas['customer_id'].astype(str)\n",
        "data_ventas['product_id'] = data_ventas['product_id'].astype(str)\n",
        "data = data_ventas.copy()\n",
        "\n",
        "# # Productos\n",
        "id = \"15JS_k86LS0sgJXma7BOVXWlyNcMwxdhE\"\n",
        "downloaded = drive.CreateFile({'id':id})\n",
        "downloaded.GetContentFile('tb_productos.txt')\n",
        "data_productos = pd.read_csv(\"tb_productos.txt\", sep=\"\\t\")\n",
        "data_productos['product_id'] = data_productos['product_id'].astype(str)\n",
        "\n",
        "# # Stocks\n",
        "id = \"15EV-8f_U7onpA1AcTxxXeD-z8yVR4fQu\"\n",
        "downloaded = drive.CreateFile({'id':id})\n",
        "downloaded.GetContentFile('tb_stocks.txt')\n",
        "data_stocks = pd.read_csv(\"tb_stocks.txt\", sep=\"\\t\")\n",
        "data_stocks['periodo'] = pd.to_datetime(data_stocks['periodo'], format='%Y%m')\n",
        "data_stocks['product_id'] = data_stocks['product_id'].astype(str)\n",
        "\n",
        "# # Productos a predecir\n",
        "id = \"15LjADctFVwjzQFJvfJGFTEdgZx9xCoId\"\n",
        "downloaded = drive.CreateFile({'id':id})\n",
        "downloaded.GetContentFile('productos_a_predecir.txt')\n",
        "data_productos_a_predecir = pd.read_csv(\"productos_a_predecir.txt\", sep=\"\\t\")\n",
        "data_productos_a_predecir['product_id'] = data_productos_a_predecir['product_id'].astype(str)\n",
        "\n",
        "# # Agregado 06/15, Ojo que puede romper en algun lado ya que antes no usaba el product_id como index\n",
        "data_productos_a_predecir_index = data_productos_a_predecir.set_index('product_id', inplace=True)\n",
        "# # No va\n",
        "# data_productos_a_predecir.set_index('product_id', inplace=True)\n",
        "\n",
        "\n",
        "# Comentado por las dudas 06/15\n",
        "data_productos_a_predecir_con_categorias = data_productos_a_predecir.join(data_productos.drop_duplicates('product_id').set_index('product_id').sort_index()[['cat1', 'cat2', 'cat3']])\n",
        "\n",
        "\n"
      ],
      "metadata": {
        "id": "8GISdopF_obd"
      },
      "execution_count": 57,
      "outputs": []
    },
    {
      "cell_type": "markdown",
      "source": [
        "## Filter Data"
      ],
      "metadata": {
        "id": "dJckQiyL08r3"
      }
    },
    {
      "cell_type": "code",
      "source": [
        "def filter_dataframe(dataframe, boolean_series):\n",
        "    # Verificar que los índices de la Serie booleana y del DataFrame coinciden\n",
        "    if not boolean_series.index.equals(dataframe.columns):\n",
        "        raise ValueError(\"Los índices de la Serie booleana y las columnas del DataFrame no coinciden\")\n",
        "\n",
        "    # Filtrar el DataFrame usando la Serie booleana\n",
        "    filtered_dataframe = dataframe.loc[:, boolean_series]\n",
        "\n",
        "    return filtered_dataframe\n",
        "# ##############################################################################\n",
        "def filter_data(data_all, data_filter):\n",
        "    # Filtrar el DataFrame 'data_all' para que solo contenga los 'product_id' presentes en 'data_filter'\n",
        "    data_filtered = data_all[data_all['product_id'].isin(data_filter['product_id'])]\n",
        "\n",
        "    return data_filtered\n",
        "##############################################################################\n",
        "def filter_data_por_categoria(df, categoria, categoria_columna):\n",
        "    \"\"\"\n",
        "    Filtra los productos de un DataFrame dado una categoría y el DataFrame de productos con categorías.\n",
        "\n",
        "    Args:\n",
        "    dataframe (pd.DataFrame): DataFrame con las ventas de productos (cada columna es un product_id).\n",
        "    categoria (str): Categoría a filtrar (valor de cat1, cat2 o cat3).\n",
        "    categoria_columna (str): Nombre de la columna de categoría ('cat1', 'cat2' o 'cat3').\n",
        "\n",
        "    Returns:\n",
        "    pd.DataFrame: DataFrame filtrado con solo los productos de la categoría especificada.\n",
        "    \"\"\"\n",
        "    # Filtrar los productos que pertenecen a la categoría especificada\n",
        "    productos_filtrados = data_productos_a_predecir_con_categorias[data_productos_a_predecir_con_categorias[categoria_columna] == categoria].index\n",
        "\n",
        "    # Filtrar el DataFrame de ventas usando los product_ids de los productos filtrados\n",
        "    productos_en_data = [col for col in df.columns if col in productos_filtrados]\n",
        "    df_filtrado = df[productos_en_data]\n",
        "\n",
        "    return df_filtrado\n",
        "##############################################################################"
      ],
      "metadata": {
        "id": "nnSdLDk60-bO"
      },
      "execution_count": 58,
      "outputs": []
    },
    {
      "cell_type": "markdown",
      "source": [
        "## Plot Functions"
      ],
      "metadata": {
        "id": "w-TmJKaCP5gU"
      }
    },
    {
      "cell_type": "code",
      "source": [
        "#############################################################################\n",
        "def plot_history(history, start_epoch=0, metrics=None):\n",
        "    if isinstance(metrics, str):\n",
        "        metrics = [metrics]\n",
        "\n",
        "    if metrics is None:\n",
        "        metrics = [x for x in history.history.keys() if x[:4] != 'val_']\n",
        "\n",
        "    if len(metrics) == 0:\n",
        "        print('No metrics to display.')\n",
        "        return\n",
        "\n",
        "    # Get the epochs and filter them starting from start_epoch\n",
        "    x = history.epoch[start_epoch:]\n",
        "\n",
        "    rows = 1\n",
        "    cols = len(metrics)\n",
        "    count = 0\n",
        "\n",
        "    plt.figure(figsize=(12 * cols, 8))\n",
        "\n",
        "    for metric in sorted(metrics):\n",
        "        count += 1\n",
        "        plt.subplot(rows, cols, count)\n",
        "        plt.plot(x, history.history[metric][start_epoch:], label='Train')\n",
        "        val_metric = f'val_{metric}'\n",
        "        if val_metric in history.history.keys():\n",
        "            plt.plot(x, history.history[val_metric][start_epoch:], label='Validation')\n",
        "        plt.title(metric.capitalize())\n",
        "        plt.legend()\n",
        "    plt.show()\n",
        "################################################################\n",
        "def plot_predictions(data_all, predictions):\n",
        "  data_conc = pd.concat([data_all, predictions])\n",
        "  separation = data_all.index[-1]\n",
        "\n",
        "  # Crear una figura y un eje\n",
        "  fig, ax = plt.subplots(figsize=(15, 6))\n",
        "\n",
        "  # Plotear toda la serie con un color\n",
        "  ax.plot(data_conc.index, data_conc.values, label='Datos', color='blue')\n",
        "\n",
        "  ax.axvline(x=separation, color='green', linestyle='--', label='Fecha de separación')\n",
        "\n",
        "  # Sobrescribir los últimos dos elementos con un color diferente\n",
        "  ax.plot(data_conc.index[-3:], data_conc.values[-3:], color='red')\n",
        "\n",
        "  # Añadir texto para la fecha de separación\n",
        "  ax.text(separation, ax.get_ylim()[1], separation.strftime('%Y-%m'),\n",
        "            color='green', verticalalignment='bottom', horizontalalignment='right')\n",
        "\n",
        "  # Añadir leyenda y mostrar el gráfico\n",
        "  ax.legend(['Datos', 'Predicciones'])\n",
        "  plt.show()\n",
        "  display(predictions)"
      ],
      "metadata": {
        "id": "vVoxNL0mP5od"
      },
      "execution_count": 99,
      "outputs": []
    },
    {
      "cell_type": "markdown",
      "source": [
        "## Group Data"
      ],
      "metadata": {
        "id": "5L-kvH-J_7SX"
      }
    },
    {
      "cell_type": "code",
      "source": [
        "# Siempre como values toma las toneladas vendidas\n",
        "def group_data(data, column):\n",
        "  grouped_data = data.groupby([column, 'periodo']).sum().reset_index()\n",
        "\n",
        "  # Crea un DataFrame pivoteado donde las filas son las fechas y las columnas son los product_id\n",
        "  pivot_data = grouped_data.pivot(index='periodo', columns=column, values='tn')\n",
        "\n",
        "  # Asegúrate de que los nombres de las columnas sean strings\n",
        "  pivot_data.columns = pivot_data.columns.astype(str)\n",
        "\n",
        "  # Restablece el índice para asegurarse de que 'product_id' no sea un índice compuesto\n",
        "  pivot_data.columns.name = None\n",
        "\n",
        "  return pivot_data"
      ],
      "metadata": {
        "id": "Mrkkv5Kd0yCG"
      },
      "execution_count": 60,
      "outputs": []
    },
    {
      "cell_type": "markdown",
      "source": [
        "## Fill Nulls"
      ],
      "metadata": {
        "id": "p_XRfvor4fhg"
      }
    },
    {
      "cell_type": "code",
      "source": [
        "# Jugar con esto, no se si esta bien\n",
        "def fill_nulls(df):\n",
        "  # Primero usamos bfill para completar las ordenes mas viejas con los valores de las ordenes mas recientes\n",
        "  df = df.bfill()\n",
        "  # Luego completamos con ceros los productos que dejamos de vender, o se discontinuaron\n",
        "  df = df.fillna(0)\n",
        "\n",
        "  return df\n",
        "###########################################################################"
      ],
      "metadata": {
        "id": "WPghARRT5HE3"
      },
      "execution_count": 61,
      "outputs": []
    },
    {
      "cell_type": "markdown",
      "source": [
        "## Normalize Data"
      ],
      "metadata": {
        "id": "a2ctIs9UCRRp"
      }
    },
    {
      "cell_type": "code",
      "source": [
        "# Creo que solo come DataFrames\n",
        "###########################################################################\n",
        "def normalize_data(train, valid, normalization=\"MinMax\"):\n",
        "    if normalization == \"MinMax\":\n",
        "        scaler = MinMaxScaler()\n",
        "    elif normalization == \"ZScore\":\n",
        "        scaler = StandardScaler()\n",
        "    else:\n",
        "        raise ValueError(\"normalization parameter must be either 'MinMax' or 'ZScore'\")\n",
        "\n",
        "    # Normalizar el conjunto de entrenamiento\n",
        "    train_norm = pd.DataFrame(scaler.fit_transform(train), columns=train.columns, index=train.index)\n",
        "\n",
        "    # Normalizar el conjunto de validación\n",
        "    valid_norm = pd.DataFrame(scaler.transform(valid), columns=valid.columns, index=valid.index)\n",
        "\n",
        "    if normalization == \"MinMax\":\n",
        "        normalization_params = pd.DataFrame({\n",
        "            'min': scaler.data_min_,\n",
        "            'max': scaler.data_max_\n",
        "        }, index=train.columns)\n",
        "    elif normalization == \"ZScore\":\n",
        "        normalization_params = pd.DataFrame({\n",
        "            'mean': scaler.mean_,\n",
        "            'std': scaler.scale_\n",
        "        }, index=train.columns)\n",
        "\n",
        "    return train_norm, valid_norm, normalization_params\n",
        "###########################################################################\n",
        "def denormalize_data(normalized_series, normalization_params, normalization=\"MinMax\"):\n",
        "    if normalization == \"MinMax\":\n",
        "        denormalized_data = normalized_series * (normalization_params['max'] - normalization_params['min']) + normalization_params['min']\n",
        "    elif normalization == \"ZScore\":\n",
        "        denormalized_data = normalized_series * normalization_params['std'] + normalization_params['mean']\n",
        "    else:\n",
        "        raise ValueError(\"normalization parameter must be either 'MinMax' or 'ZScore'\")\n",
        "\n",
        "    return denormalized_data\n",
        "###########################################################################"
      ],
      "metadata": {
        "id": "J2HbH2ew3yzL"
      },
      "execution_count": 62,
      "outputs": []
    },
    {
      "cell_type": "code",
      "source": [
        "# # Hay que modificarlo, fit_transform en Train, y transform en Test\n",
        "\n",
        "# import pandas as pd\n",
        "# from sklearn.preprocessing import MinMaxScaler, StandardScaler\n",
        "\n",
        "# def normalize_data(df, normalization=\"MinMax\"):\n",
        "#     \"\"\"\n",
        "#     Normaliza cada serie de tiempo (columna) de manera individual usando MinMax o Zscore.\n",
        "\n",
        "#     Args:\n",
        "#         df (pd.DataFrame): DataFrame con series de tiempo de distintos productos, cada columna es un producto.\n",
        "#         normalization (str): Tipo de normalización a aplicar. Opciones: \"MinMax\" o \"Zscore\". Default es \"MinMax\".\n",
        "\n",
        "#     Returns:\n",
        "#         normalized_df (pd.DataFrame): DataFrame con las series normalizadas.\n",
        "#         normalization_params (pd.DataFrame): DataFrame con los parámetros necesarios para desnormalizar cada columna.\n",
        "#             - Para \"MinMax\": valores min y max de cada columna.\n",
        "#             - Para \"Zscore\": valores mean y std de cada columna.\n",
        "#     \"\"\"\n",
        "#     normalization_params = pd.DataFrame(columns=[\"product_id\", \"min\", \"max\", \"mean\", \"std\"])\n",
        "#     normalized_df = pd.DataFrame(index=df.index)\n",
        "\n",
        "#     for column in df.columns:\n",
        "#         if normalization == \"MinMax\":\n",
        "#             scaler = MinMaxScaler()\n",
        "#             normalized_values = scaler.fit_transform(df[[column]]).flatten()\n",
        "#             new_params = pd.DataFrame({\n",
        "#                 \"product_id\": [column],\n",
        "#                 \"min\": [scaler.data_min_[0]],\n",
        "#                 \"max\": [scaler.data_max_[0]],\n",
        "#                 \"mean\": [None],\n",
        "#                 \"std\": [None]\n",
        "#             })\n",
        "#             normalization_params = pd.concat([normalization_params, new_params], ignore_index=True)\n",
        "#             normalized_df[column] = normalized_values\n",
        "\n",
        "#         elif normalization == \"ZScore\":\n",
        "#             scaler = StandardScaler()\n",
        "#             normalized_values = scaler.fit_transform(df[[column]]).flatten()\n",
        "#             new_params = pd.DataFrame({\n",
        "#                 \"product_id\": [column],\n",
        "#                 \"min\": [None],\n",
        "#                 \"max\": [None],\n",
        "#                 \"mean\": [scaler.mean_[0]],\n",
        "#                 \"std\": [scaler.scale_[0]]\n",
        "#             })\n",
        "#             normalization_params = pd.concat([normalization_params, new_params], ignore_index=True)\n",
        "#             normalized_df[column] = normalized_values\n",
        "\n",
        "#         else:\n",
        "#             raise ValueError(\"Invalid normalization method. Choose 'MinMax' or 'ZScore'.\")\n",
        "\n",
        "#     return normalized_df, normalization_params\n",
        "\n",
        "# def denormalize_series(normalized_series, normalization_params, normalization=\"MinMax\"):\n",
        "#     \"\"\"\n",
        "#     Desnormaliza una serie de tiempo usando los valores almacenados.\n",
        "\n",
        "#     Args:\n",
        "#         normalized_series (pd.Series or pd.DataFrame): Serie o DataFrame con los datos normalizados.\n",
        "#         normalization_params (pd.DataFrame): DataFrame con los parámetros necesarios para desnormalizar cada serie o columna.\n",
        "#             - Para \"MinMax\": valores min y max de cada serie o columna.\n",
        "#             - Para \"Zscore\": valores mean y std de cada serie o columna.\n",
        "#         normalization (str): Tipo de normalización a deshacer. Opciones: \"MinMax\" o \"Zscore\". Default es \"MinMax\".\n",
        "\n",
        "#     Returns:\n",
        "#         denormalized_series (pd.Series or pd.DataFrame): Serie o DataFrame con los datos desnormalizados.\n",
        "#     \"\"\"\n",
        "#     if isinstance(normalized_series, pd.DataFrame):\n",
        "#         denormalized_df = pd.DataFrame(index=normalized_series.index)\n",
        "#         for column in normalized_series.columns:\n",
        "#             params = normalization_params[normalization_params[\"product_id\"] == column]\n",
        "#             if normalization == \"MinMax\":\n",
        "#                 min_value = params[\"min\"].values[0]\n",
        "#                 max_value = params[\"max\"].values[0]\n",
        "#                 denormalized_values = normalized_series[column] * (max_value - min_value) + min_value\n",
        "#             elif normalization == \"ZScore\":\n",
        "#                 mean_value = params[\"mean\"].values[0]\n",
        "#                 std_value = params[\"std\"].values[0]\n",
        "#                 denormalized_values = normalized_series[column] * std_value + mean_value\n",
        "#             else:\n",
        "#                 raise ValueError(\"Invalid normalization method. Choose 'MinMax' or 'ZScore'.\")\n",
        "#             denormalized_df[column] = denormalized_values\n",
        "#         return denormalized_df\n",
        "#     elif isinstance(normalized_series, pd.Series):\n",
        "#         product_ids = normalized_series.index\n",
        "#         denormalized_values = []\n",
        "#         for product_id in product_ids:\n",
        "#             params = normalization_params[normalization_params[\"product_id\"] == product_id]\n",
        "#             if normalization == \"MinMax\":\n",
        "#                 min_value = params[\"min\"].values[0]\n",
        "#                 max_value = params[\"max\"].values[0]\n",
        "#                 denormalized_value = normalized_series[product_id] * (max_value - min_value) + min_value\n",
        "#             elif normalization == \"ZScore\":\n",
        "#                 mean_value = params[\"mean\"].values[0]\n",
        "#                 std_value = params[\"std\"].values[0]\n",
        "#                 denormalized_value = normalized_series[product_id] * std_value + mean_value\n",
        "#             else:\n",
        "#                 raise ValueError(\"Invalid normalization method. Choose 'MinMax' or 'ZScore'.\")\n",
        "#             denormalized_values.append(denormalized_value)\n",
        "#         denormalized_series = pd.Series(denormalized_values, index=product_ids, name=normalized_series.name)\n",
        "#         return denormalized_series\n",
        "#     else:\n",
        "#         raise TypeError(\"normalized_series should be either a pandas Series or DataFrame\")\n"
      ],
      "metadata": {
        "id": "L5vbt6hpxsNC"
      },
      "execution_count": 63,
      "outputs": []
    },
    {
      "cell_type": "markdown",
      "source": [
        "## Split Data"
      ],
      "metadata": {
        "id": "6z54dcDlIyHB"
      }
    },
    {
      "cell_type": "code",
      "source": [
        "# # Mientras mas chiquito el window size y batch size, mas datos podemos usar en el entrenamiento\n",
        "###############################################################################\n",
        "def split_data(df):\n",
        "  df_train = df.loc['2017-01':'2019-05']\n",
        "  df_valid = df.loc['2019-06':'2019-12']\n",
        "  return pd.DataFrame(df_train), pd.DataFrame(df_valid)\n",
        "#############################################################################\n",
        "\n",
        "def split_data_dec2019(df):\n",
        "  df_train = df.loc['2017-01':'2019-06']\n",
        "  df_valid = df.loc['2019-07':'2019-10']\n",
        "  df_test = df.loc['2019-11':'2019-12']\n",
        "  return pd.DataFrame(df_train), pd.DataFrame(df_valid), pd.DataFrame(df_test)\n",
        "#############################################################################\n",
        "# split mas chico posible, con window 3 y batch 1\n",
        "def split_data_test(df):\n",
        "  df_train = df.loc['2017-01':'2019-07']\n",
        "  df_valid = df.loc['2019-08':'2019-12']\n",
        "  return pd.DataFrame(df_train), pd.DataFrame(df_valid)\n",
        "############################################################################\n",
        "# # No se si este split tiene sentido, pierdo muchos datos de entrenamiento\n",
        "# def split_data_2019(df):\n",
        "#   df_train = df.loc['2017-01':'2018-12']\n",
        "#   df_valid = df.loc['2019-01':'2019-10']\n",
        "#   df_test =  df.loc['2019-11':'2019-12']\n",
        "#   return df_train, df_valid, df_test\n",
        "############################################################################"
      ],
      "metadata": {
        "id": "zZUKfILzC6Un"
      },
      "execution_count": 121,
      "outputs": []
    },
    {
      "cell_type": "markdown",
      "source": [
        "## Window Data"
      ],
      "metadata": {
        "id": "xbYFP2j6EiEW"
      }
    },
    {
      "cell_type": "code",
      "source": [
        "#############################################################################\n",
        "def windowed_dataset(sequence, data_split, window_size, horizon, batch_size, shuffle_buffer=1000):\n",
        "    \"\"\"Generates dataset windows.\n",
        "\n",
        "    Args:\n",
        "      sequence (array-like): Contains the values of the time series.\n",
        "      data_split (str): Specifies if the dataset is for training or validation/test.\n",
        "      window_size (int): The number of time steps to include in the feature.\n",
        "      horizon (int): The number of future time steps to predict.\n",
        "      batch_size (int): The batch size.\n",
        "      shuffle_buffer (int): Buffer size to use for the shuffle method.\n",
        "\n",
        "    Returns:\n",
        "      tf.data.Dataset: TF Dataset containing time windows.\n",
        "    \"\"\"\n",
        "\n",
        "    # Generate a TF Dataset from the series values\n",
        "    dataset = tf.data.Dataset.from_tensor_slices(sequence)\n",
        "\n",
        "    # Window the data but only take those with the specified size\n",
        "    dataset = dataset.window(window_size + horizon, shift=1, drop_remainder=True)\n",
        "\n",
        "    # Flatten the windows by putting its elements in a single batch\n",
        "    dataset = dataset.flat_map(lambda window: window.batch(window_size + horizon))\n",
        "\n",
        "    # Create tuples with features and labels\n",
        "    dataset = dataset.map(lambda window: (window[:-horizon], window[-horizon:]))\n",
        "\n",
        "    if data_split == 'train':\n",
        "        # Shuffle the training data to improve generalization\n",
        "        dataset = dataset.shuffle(shuffle_buffer)\n",
        "    else:\n",
        "        # Cache the validation/test data for improved performance\n",
        "        dataset = dataset.cache()\n",
        "\n",
        "    # Create batches of windows and prefetch for performance\n",
        "    dataset = dataset.batch(batch_size).prefetch(tf.data.AUTOTUNE)\n",
        "\n",
        "    return dataset"
      ],
      "metadata": {
        "id": "OlImIwoE3Mh-"
      },
      "execution_count": 65,
      "outputs": []
    },
    {
      "cell_type": "code",
      "source": [
        "##############################################\n",
        "# # Viejos\n",
        "##############################################\n",
        "# def window_dataset(sequence, data_split, window_size, batch_size, n_future, shuffle_buffer=1000, seed=None):\n",
        "#     dataset = tf.data.Dataset.from_tensor_slices(sequence)\n",
        "#     dataset = dataset.window(window_size + n_future, shift=1, drop_remainder=True)\n",
        "#     dataset = dataset.flat_map(lambda window: window.batch(window_size + n_future))\n",
        "#     dataset = dataset.map(lambda window: (window[:window_size], window[window_size:]))\n",
        "\n",
        "#     if data_split == 'train':\n",
        "#         dataset = dataset.shuffle(shuffle_buffer, seed=seed)\n",
        "#     else:\n",
        "#         dataset = dataset.cache()\n",
        "\n",
        "#     dataset = dataset.batch(batch_size).prefetch(tf.data.AUTOTUNE)\n",
        "\n",
        "#     return dataset\n",
        "##############################################\n",
        "# def window_dataset(sequence, data_split, window_size, batch_size, n_future, shuffle_buffer=1000, seed=None):\n",
        "#     \"\"\"Generates dataset windows for multi-step forecasting in a multivariable context.\n",
        "\n",
        "#     Args:\n",
        "#       sequence (array-like): Contains the values of the time series, where each element is an array of feature values.\n",
        "#       data_split (str): Specifies if the dataset is for training or validation/test.\n",
        "#       window_size (int): The number of time steps to include in the feature.\n",
        "#       batch_size (int): The batch size.\n",
        "#       n_future (int): The number of future steps to predict.\n",
        "#       shuffle_buffer (int): Buffer size to use for the shuffle method.\n",
        "#       seed (int, optional): Random seed for reproducibility.\n",
        "\n",
        "#     Returns:\n",
        "#       tf.data.Dataset: TF Dataset containing time windows.\n",
        "#     \"\"\"\n",
        "\n",
        "#     # Generate a TF Dataset from the series values\n",
        "#     dataset = tf.data.Dataset.from_tensor_slices(sequence)\n",
        "\n",
        "#     # Window the data but only take those with the specified size\n",
        "#     dataset = dataset.window(window_size + n_future, shift=1, drop_remainder=True)\n",
        "\n",
        "#     # Flatten the windows by putting its elements in a single batch\n",
        "#     dataset = dataset.flat_map(lambda window: window.batch(window_size + n_future))\n",
        "\n",
        "#     # Create tuples with features and labels\n",
        "#     dataset = dataset.map(lambda window: (window[:window_size], window[window_size:]))\n",
        "\n",
        "#     if data_split == 'train':\n",
        "#         # Shuffle the training data to improve generalization\n",
        "#         dataset = dataset.shuffle(shuffle_buffer, seed=seed)\n",
        "#     else:\n",
        "#         # Cache the validation/test data for improved performance\n",
        "#         dataset = dataset.cache()\n",
        "\n",
        "#     # Create batches of windows and prefetch for performance\n",
        "#     dataset = dataset.batch(batch_size).prefetch(tf.data.AUTOTUNE)\n",
        "\n",
        "#     return dataset\n"
      ],
      "metadata": {
        "id": "c5g4WjakEjcM"
      },
      "execution_count": 66,
      "outputs": []
    },
    {
      "cell_type": "markdown",
      "source": [
        "## Prediction Functions"
      ],
      "metadata": {
        "id": "x_Zm-EgneATh"
      }
    },
    {
      "cell_type": "code",
      "source": [
        "##########################################################################\n",
        "# # Este va a reemplazar al otro\n",
        "def generate_predictions_2(model_trained, data_valid_norm, data_norm_params):\n",
        "  data_norm_array = data_valid_norm.values\n",
        "  column_names = data_valid_norm.columns\n",
        "  input_data = data_norm_array[-window_size:].reshape((1, window_size, n_features))\n",
        "  pred = model_trained.predict(input_data)\n",
        "  pred = pred.reshape((1, horizon, n_features))\n",
        "  pred_df = pd.DataFrame(pred[0], columns=column_names)\n",
        "  pred_df.index = pd.date_range(start=data_valid_norm.index[-1] + pd.DateOffset(months=1), periods=horizon, freq='MS')\n",
        "\n",
        "  # Generamos la salida de la primer prediccion, Enero 2020 (Mes +1 del ultimo mes en data_validation_norm)\n",
        "  pred_plus1 = pred_df.iloc[0]\n",
        "  pred_plus1_denorm = denormalize_data(pred_plus1, data_norm_params, normalization=normalization)\n",
        "  pred_plus1_denorm = pd.Series(pred_plus1_denorm, name=str(column_names.values[0]))\n",
        "  pred_plus1_df = pd.DataFrame(pred_plus1_denorm)\n",
        "  pred_plus1_df['periodo'] = pd.to_datetime(pred_df.iloc[0].name)\n",
        "  pred_plus1_df.set_index('periodo', inplace=True)\n",
        "\n",
        "  # Generamos la salida de la segunda prediccion, Febrero 2020 (Mes +2 del ultimo mes en data_validation_norm)\n",
        "  pred_plus2 = pred_df.iloc[1]\n",
        "  pred_plus2_denorm = denormalize_data(pred_plus2, data_norm_params, normalization=normalization)\n",
        "  pred_plus2_denorm = pd.Series(pred_plus2_denorm, name=str(column_names.values[0]))\n",
        "  pred_plus2_df = pd.DataFrame(pred_plus2_denorm)\n",
        "  pred_plus2_df['periodo'] = pd.to_datetime(pred_df.iloc[1].name)\n",
        "  pred_plus2_df.set_index('periodo', inplace=True)\n",
        "\n",
        "  # Concateno las dos predicciones\n",
        "  pred_final_df = pd.concat([pred_plus1_df,pred_plus2_df])\n",
        "\n",
        "  # En lugar de DF, devuelvo una serie, para que matchee con el input\n",
        "  pred_final_serie = pred_final_df.squeeze()\n",
        "\n",
        "  return pred_final_serie\n",
        "##########################################################################\n",
        "def generate_predictions(data_norm, data_norm_params, export_csv):\n",
        "  data_norm_array = data_norm.values\n",
        "  column_names = data_norm.columns\n",
        "  input_data = data_norm_array[-window_size:].reshape((1, window_size, n_features))\n",
        "  pred = model.predict(input_data)\n",
        "  pred = pred.reshape((1, horizon, n_features))\n",
        "  pred_df = pd.DataFrame(pred[0], columns=column_names)\n",
        "  pred_df.index = pd.date_range(start='2020-01-01', periods=horizon, freq='MS')\n",
        "  pred_feb = pred_df.loc['2020-02-01']\n",
        "  pred_denorm = denormalize_data(pred_feb, norm_params, normalization)\n",
        "  pred_denorm = pred_denorm.reset_index()\n",
        "  pred_denorm.columns = ['product_id', 'tn']\n",
        "  # display(pred_denorm)\n",
        "  # # Esto no creo que sea necesario\n",
        "  # predicciones = filter_data(data_pred1_denorm, data_productos_a_predecir)\n",
        "\n",
        "  filename = f\"{split_strategy}_{model_name}_win{window_size}_batch{batch_size}_{normalization}_{loss}.csv\"\n",
        "\n",
        "  if export_csv:\n",
        "    pred_denorm.to_csv(filename, header=True, index=False)\n",
        "\n",
        "  # print(filename)\n",
        "\n",
        "  return pred_denorm['tn']\n",
        "##########################################################################\n",
        "def to_kaggle(serie, name='kaggle_submission'):\n",
        "  serie.columns = ['product_id', 'tn']\n",
        "  serie.to_csv(f'{name}.csv', header=True, index=False)\n",
        "##########################################################################\n",
        "def sumar_predicciones(df1, df2):\n",
        "    # Asegúrate de que las columnas necesarias estén en los DataFrames\n",
        "    if 'product_id' not in df1.columns or 'tn' not in df1.columns:\n",
        "        raise ValueError(\"df1 debe contener las columnas 'product_id' y 'tn'\")\n",
        "    if 'product_id' not in df2.columns or 'tn' not in df2.columns:\n",
        "        raise ValueError(\"df2 debe contener las columnas 'product_id' y 'tn'\")\n",
        "\n",
        "    # Suma los valores de 'tn' para cada 'product_id' de ambos DataFrames\n",
        "    result = df1.set_index('product_id').add(df2.set_index('product_id'), fill_value=0).reset_index()\n",
        "\n",
        "    return result\n",
        "# ##########################################################################\n",
        "# # Boostea los productos de Health Care cuya predicciones tienen mucho error\n",
        "# def HC_boost(predicciones_serie, boost=-0.5):\n",
        "#     boost_mask = ['20006', '20007', '20008', '20009', '20010', '20012', '20014', '20015']\n",
        "\n",
        "#     # Convertir el índice a string si no lo es\n",
        "#     predicciones_serie.index = predicciones_serie.index.astype(str)\n",
        "\n",
        "#     # Aplicar el boost a los valores en la máscara\n",
        "#     predicciones_serie.loc[boost_mask] = predicciones_serie.loc[boost_mask] * (1 + boost)\n",
        "\n",
        "#     return predicciones_serie\n",
        "# ##########################################################################"
      ],
      "metadata": {
        "id": "jmLuXgOGeC57"
      },
      "execution_count": 67,
      "outputs": []
    },
    {
      "cell_type": "code",
      "source": [
        "# ##########################################################################\n",
        "# def generate_predictions(data_norm, data_norm_params, export_csv): # Verificar\n",
        "# # def generate_predictions(export_csv): # Viejo\n",
        "#   data_norm_array = data_norm.values\n",
        "#   column_names = data_norm.columns\n",
        "#   input_data = data_norm_array[-window_size:].reshape((1, window_size, n_features))\n",
        "#   pred = model.predict(input_data)\n",
        "#   pred = pred.reshape((1, horizon, n_features))\n",
        "#   pred_df = pd.DataFrame(pred[0], columns=column_names)\n",
        "#   pred_df.index = pd.date_range(start='2020-01-01', periods=horizon, freq='MS')\n",
        "#   pred_feb = pred_df.loc['2020-02-01']\n",
        "#   pred_1_denorm = denormalize_series(pred_feb, data_norm_params, normalization=normalization)\n",
        "#   data_pred1_denorm = pred_1_denorm.reset_index()\n",
        "#   data_pred1_denorm.columns = ['product_id', 'tn']\n",
        "#   # Esto no creo que sea necesario\n",
        "#   predicciones = filter_data(data_pred1_denorm, data_productos_a_predecir)\n",
        "\n",
        "#   # Ojo con esto, caja negra. Vuelve a predecir usando lo predicho antes.\n",
        "#   input_data2 = np.append(input_data[:, 1:, :], pred[:, 0, :].reshape(1, 1, n_features), axis=1)\n",
        "#   pred2 = model.predict(input_data2)\n",
        "#   pred2 = pred2.reshape((1, horizon, n_features))\n",
        "#   pred2_df = pd.DataFrame(pred2[0], columns=column_names)\n",
        "#   pred2_df.index = pd.date_range(start='2020-02-01', periods=horizon, freq='MS')\n",
        "#   pred2_feb = pred2_df.loc['2020-02-01']\n",
        "#   pred_2_denorm = denormalize_series(pred2_feb, data_norm_params, normalization=normalization)\n",
        "#   data_pred2_denorm = pred_2_denorm.reset_index()\n",
        "#   data_pred2_denorm.columns = ['product_id', 'tn']\n",
        "#   predicciones2 = filter_data(data_pred2_denorm, data_productos_a_predecir)\n",
        "\n",
        "#   filename = f\"{split_strategy}_{model_name}_win{window_size}_batch{batch_size}_{normalization}_{loss}.csv\"\n",
        "#   filename2 = f\"RECURRENTE_{split_strategy}_{model_name}_win{window_size}_batch{batch_size}_{normalization}_{loss}.csv\"\n",
        "\n",
        "#   if export_csv:\n",
        "#     predicciones.to_csv(filename, header=True, index=False)\n",
        "\n",
        "#   # predicciones.to_csv(filename, header=True, index=False)\n",
        "#   # predicciones2.to_csv(filename2, header=True, index=False)\n",
        "#   print(filename)\n",
        "\n",
        "#   return predicciones # Probar con predicciones 2"
      ],
      "metadata": {
        "id": "KWsm0gdSDZ9w"
      },
      "execution_count": 68,
      "outputs": []
    },
    {
      "cell_type": "code",
      "source": [
        "###############################################################################\n",
        "### OLD\n",
        "###############################################################################\n",
        "# def generate_predictions(data_norm, data_norm_params):\n",
        "\n",
        "#     # Convertir el DataFrame a un array de NumPy\n",
        "#     data_norm_array = data_norm.values\n",
        "\n",
        "#     # Extraer la última ventana de datos de 2019 para predecir enero de 2020\n",
        "#     column_names = data_norm.columns  # Obtener los nombres de las columnas\n",
        "\n",
        "#     # Extraer los últimos `window_size` meses de 2019\n",
        "#     input_data = data_norm_array[-window_size:].reshape((1, window_size, n_features))\n",
        "\n",
        "#     # Predecir enero de 2020\n",
        "#     pred_january = model.predict(input_data)\n",
        "\n",
        "#     # Asegurarse de que la predicción tenga la forma correcta\n",
        "#     pred_january = pred_january.reshape((1, n_future, n_features))\n",
        "\n",
        "#     # Crear un DataFrame para la predicción de enero de 2020\n",
        "#     pred_january_df = pd.DataFrame(pred_january[0], columns=column_names)\n",
        "#     pred_january_df.index = pd.date_range(start='2020-01-01', periods=n_future, freq='MS')\n",
        "\n",
        "#     # Actualizar la ventana de entrada para predecir febrero de 2020\n",
        "#     input_data = np.append(input_data[:, 1:, :], pred_january[:, 0, :].reshape(1, 1, n_features), axis=1)\n",
        "\n",
        "#     # Predecir febrero de 2020\n",
        "#     pred_february = model.predict(input_data)\n",
        "\n",
        "#     # Asegurarse de que la predicción tenga la forma correcta\n",
        "#     pred_february = pred_february.reshape((1, n_future, n_features))\n",
        "\n",
        "#     # Crear un DataFrame para la predicción de febrero de 2020\n",
        "#     pred_february_df = pd.DataFrame(pred_february[0], columns=column_names)\n",
        "#     pred_february_df.index = pd.date_range(start='2020-02-01', periods=n_future, freq='MS')\n",
        "\n",
        "#     # Obtener la predicción de febrero de 2020\n",
        "#     pred_1 = pred_january_df.loc['2020-02-01']\n",
        "\n",
        "#     # Desnormalizar la predicción\n",
        "#     pred_1_denorm = denormalize_series(pred_1, data_norm_params, normalization=normalization)\n",
        "#     data_pred1_denorm = pred_1_denorm.reset_index()\n",
        "#     data_pred1_denorm.columns = ['product_id', 'tn']\n",
        "#     predicciones = filter_data(data_pred1_denorm, data_productos_a_predecir)\n",
        "\n",
        "#     # Crear el nombre del archivo\n",
        "#     filename = f\"{split_strategy}_{model_name}_win{window_size}_batch{batch_size}_{normalization}_{loss}_epochs{epochs}.csv\"\n",
        "#     predicciones.to_csv(filename, header=True, index=False)\n",
        "\n",
        "#     print(filename)\n",
        "\n",
        "#     return predicciones\n",
        "##########################################################################"
      ],
      "metadata": {
        "id": "G1YhW2wUNh6O"
      },
      "execution_count": 69,
      "outputs": []
    },
    {
      "cell_type": "markdown",
      "source": [
        "## Complete Sales"
      ],
      "metadata": {
        "id": "Tsi7tkBEgtWh"
      }
    },
    {
      "cell_type": "code",
      "source": [
        "def complete_sales(df1, df2):\n",
        "    # Crear un rango de fechas desde enero 2017 hasta diciembre 2019\n",
        "    fechas_completas = pd.date_range(start='2017-01-01', end='2019-12-01', freq='MS')\n",
        "\n",
        "    # Reindexar el DataFrame para asegurar que todas las fechas estén presentes\n",
        "    df1 = df1.reindex(fechas_completas, fill_value=pd.NA)\n",
        "\n",
        "    # Obtener los product_id del primer DataFrame (nombres de las columnas)\n",
        "    product_ids_df1 = df1.columns.tolist()\n",
        "\n",
        "    # Obtener los product_id del segundo DataFrame (valores en la columna 'product_id')\n",
        "    product_ids_df2 = df2['product_id'].tolist()\n",
        "\n",
        "    # Identificar los product_id que faltan en df1\n",
        "    product_ids_faltantes = [pid for pid in product_ids_df2 if pid not in product_ids_df1]\n",
        "\n",
        "    # Crear un DataFrame con las columnas faltantes y valores NaN\n",
        "    df_faltantes = pd.DataFrame(index=df1.index, columns=product_ids_faltantes)\n",
        "\n",
        "    # Concatenar el DataFrame original con el DataFrame de faltantes\n",
        "    df_resultante = pd.concat([df1, df_faltantes], axis=1)\n",
        "\n",
        "    return df_resultante\n",
        "\n"
      ],
      "metadata": {
        "id": "aSHUuvHXgtf8"
      },
      "execution_count": 70,
      "outputs": []
    },
    {
      "cell_type": "markdown",
      "source": [
        "## Callbacks"
      ],
      "metadata": {
        "id": "brfkj2XkXena"
      }
    },
    {
      "cell_type": "code",
      "source": [
        "#############################################################################\n",
        "def MyCallbacks(patience):\n",
        "    \"\"\"\n",
        "    Devuelve una lista de callbacks para el entrenamiento del modelo.\n",
        "\n",
        "    Parameters:\n",
        "    patience (int): Número de épocas a esperar para ver una mejora en 'val_loss' antes de detener el entrenamiento.\n",
        "\n",
        "    Returns:\n",
        "    list: Lista de callbacks de Keras.\n",
        "    \"\"\"\n",
        "    early_stop = EarlyStopping(monitor='val_loss', patience=patience, restore_best_weights=True)\n",
        "    return [early_stop]"
      ],
      "metadata": {
        "id": "fcfAKyAS_iD2"
      },
      "execution_count": 71,
      "outputs": []
    },
    {
      "cell_type": "code",
      "source": [
        "#############################################################################\n",
        "#### VIEJO\n",
        "# #############################################################################\n",
        "# class MAEThresholdCallback(Callback):\n",
        "#     def __init__(self, threshold=0.15):\n",
        "#         super(MAEThresholdCallback, self).__init__()\n",
        "#         self.threshold = threshold\n",
        "\n",
        "#     def on_epoch_end(self, epoch, logs=None):\n",
        "#         val_mae = logs.get('val_mae')\n",
        "#         if val_mae is not None and val_mae <= self.threshold:\n",
        "#             print(f'\\nEpoch {epoch+1}: Validation MAE has reached {val_mae:.4f}, stopping training.')\n",
        "#             self.model.stop_training = True\n",
        "\n",
        "# def MyCallbacks(model_name, patience):\n",
        "#     earlystop = tf.keras.callbacks.EarlyStopping('val_loss', patience=patience, restore_best_weights=True)\n",
        "#     # checkpoint = tf.keras.callbacks.ModelCheckpoint(filepath=f'ckpts/{model_name}-' + '{epoch:02d}-{val_loss:.4f}.h5', monitor='val_loss')\n",
        "#     # mae_threshold_callback = MAEThresholdCallback(threshold=0.015)\n",
        "#     return [earlystop] #, checkpoint] #, mae_threshold_callback]\n",
        "\n",
        "# #############################################################################"
      ],
      "metadata": {
        "id": "ETzh0JyBXgRt"
      },
      "execution_count": 72,
      "outputs": []
    },
    {
      "cell_type": "markdown",
      "source": [
        "## Model Design"
      ],
      "metadata": {
        "id": "cGAz7W4mXqO3"
      }
    },
    {
      "cell_type": "code",
      "source": [
        "#############################################################################\n",
        "def compile_model(new_model, loss, optimizer):\n",
        "    new_model.compile(optimizer=optimizer, loss=loss, metrics=['mae'])\n",
        "    print(new_model.summary())\n",
        "    return new_model\n",
        "#############################################################################\n",
        "def MyModel(loss, optimizer, window_size, horizon, n_features):\n",
        "    new_model = tf.keras.Sequential([\n",
        "        tf.keras.layers.InputLayer((window_size, n_features)),\n",
        "        tf.keras.layers.Conv1D(filters=64, kernel_size=3, activation='relu', padding='causal'),\n",
        "        tf.keras.layers.MaxPooling1D(pool_size=2),\n",
        "        tf.keras.layers.Bidirectional(tf.keras.layers.LSTM(32, return_sequences=True)),\n",
        "        tf.keras.layers.Bidirectional(tf.keras.layers.LSTM(16, return_sequences=False)),\n",
        "        tf.keras.layers.Dropout(0.4),\n",
        "        tf.keras.layers.Dense(n_features * horizon, activation='relu'),\n",
        "        tf.keras.layers.Reshape((horizon, n_features)),\n",
        "    ])\n",
        "    return compile_model(new_model, loss, optimizer)\n",
        "#############################################################################"
      ],
      "metadata": {
        "id": "v1XojStQ3FQw"
      },
      "execution_count": 73,
      "outputs": []
    },
    {
      "cell_type": "code",
      "source": [
        "# #############################################################################\n",
        "# def compile_model(new_model, loss, optimizer):\n",
        "#   new_model.compile(optimizer=optimizer, loss=loss, metrics=['mse'])\n",
        "#   print(new_model.summary())\n",
        "#   return new_model\n",
        "# #############################################################################\n",
        "# def MyModel(loss, optimizer, window_size, n_future, n_features):\n",
        "#     new_model = tf.keras.Sequential([\n",
        "#         tf.keras.layers.InputLayer((window_size, n_features)),\n",
        "#         tf.keras.layers.Conv1D(filters=64, kernel_size=3, activation='relu', padding='causal'),\n",
        "#         tf.keras.layers.MaxPooling1D(pool_size=2),\n",
        "#         tf.keras.layers.Bidirectional(tf.keras.layers.LSTM(32, return_sequences=True)),\n",
        "#         tf.keras.layers.Bidirectional(tf.keras.layers.LSTM(16, return_sequences=False)),\n",
        "#         tf.keras.layers.Dropout(0.4),\n",
        "#         tf.keras.layers.Dense(n_features * n_future, activation='relu'),\n",
        "#         tf.keras.layers.Reshape((n_future, n_features)),\n",
        "#         ])\n",
        "#     return compile_model(new_model, loss, optimizer)"
      ],
      "metadata": {
        "id": "eCESYECOXr45"
      },
      "execution_count": 74,
      "outputs": []
    },
    {
      "cell_type": "markdown",
      "source": [
        "## Model Train"
      ],
      "metadata": {
        "id": "7uqfuDfTJD8G"
      }
    },
    {
      "cell_type": "code",
      "source": [
        "# Repetimos la prediccion n veces\n",
        "def model_train(epochs, iteraciones):\n",
        "  pred_list = []\n",
        "\n",
        "  for i in range(iteraciones):\n",
        "    print(f'Interacion {i+1}')\n",
        "    history = model.fit(\n",
        "        data_train_windowed,\n",
        "        validation_data = data_valid_windowed,\n",
        "        callbacks = callbacks,\n",
        "        verbose=0,\n",
        "        epochs=epochs)\n",
        "\n",
        "    predicted = generate_predictions(data_valid_norm, norm_params, False)\n",
        "    print(f'Prediction: {predicted}')\n",
        "    pred_list.append(generate_predictions(data_valid_norm, norm_params, False))\n",
        "\n",
        "    plot_history(history)\n",
        "  print('Producto: ', producto)\n",
        "  print(f'Mean Loss across all splits: {np.mean(pred_list)}')\n",
        "  print(f'Median Loss across all splits: {np.median(pred_list)}')\n",
        "\n",
        "  return(np.mean(pred_list), np.median(pred_list))\n",
        "\n"
      ],
      "metadata": {
        "id": "DSrrGEGPJFyO"
      },
      "execution_count": 75,
      "outputs": []
    },
    {
      "cell_type": "markdown",
      "source": [
        "# Pipelines"
      ],
      "metadata": {
        "id": "F4yiWWu8FJZX"
      }
    },
    {
      "cell_type": "markdown",
      "source": [
        "## Data Preprocessing"
      ],
      "metadata": {
        "id": "HWg00hIFX64c"
      }
    },
    {
      "cell_type": "code",
      "source": [
        "# # data\n",
        "# # data_productos\n",
        "# # data_stocks\n",
        "# # data_productos_a_predecir\n",
        "\n",
        "# Pre-Processing Variables\n",
        "split_strategy = 'S1'\n",
        "window_size = 6\n",
        "horizon = 2\n",
        "# n_features = len(data_productos_a_predecir)\n",
        "batch_size = 32\n",
        "normalization = 'MinMax'\n",
        "# n_splits = 5 # No mas, la usabamos con el TimeSeriesSplit\n",
        "\n",
        "# # Model Variables: Dentro de cada Experimento, no son generales\n",
        "# model_name = 'CAT1'\n",
        "# loss = 'mse'\n",
        "# optimizer = 'adam'\n",
        "# patience = 30\n",
        "# epochs = 10\n",
        "\n",
        "# data_filter = filter_data(data, data_productos_a_predecir)\n",
        "data_filter = filter_data(data, data_productos_a_predecir.reset_index())\n",
        "data_grouped = group_data(data_filter, 'product_id')\n",
        "\n",
        "# # Probamos reemplazando la crisis de Agosto 2019 por el promedio en Julio y Septiembre\n",
        "# data_grouped.drop(index='2019-08', axis=1, inplace=True)\n",
        "# data_agosto_2019_mean = data_grouped.loc[['2019-07', '2019-09']].mean().to_frame().transpose()\n",
        "# data_agosto_2019_mean.index = pd.to_datetime(['2019-08-01'])\n",
        "# data_grouped = pd.concat([data_grouped, data_agosto_2019_mean]).sort_index()\n",
        "\n",
        "# # Probamos reemplazando la crisis de Agosto 2019 por Julio + 10% (visto en el EDA)\n",
        "# data_grouped.drop(index='2019-08', axis=1, inplace=True)\n",
        "# data_agosto_2019_jul_plus10 = data_grouped.loc['2019-07']*1.1\n",
        "# data_agosto_2019_jul_plus10.index = pd.to_datetime(['2019-08-01'])\n",
        "# data_grouped = pd.concat([data_grouped, data_agosto_2019_jul_plus10]).sort_index()\n",
        "\n",
        "# # # Probamos eliminando todo el mes Agosto 2019\n",
        "# data_grouped.drop(index='2019-08', axis=1, inplace=True)\n",
        "\n",
        "data_grouped.sum(axis=1).plot()\n",
        "plt.show()\n",
        "\n",
        "# # Easto seguramente haya que sacarlo de aca\n",
        "# data_filled = fill_nulls(data_grouped)\n",
        "# data_norm, data_norm_params = normalize_data(data_filled, normalization=normalization)\n",
        "# data_norm.index.freq = pd.infer_freq(data_norm.index) # No se si es necesario\n",
        "# # print(data_norm.info())"
      ],
      "metadata": {
        "id": "vLrQTz5YEkPk",
        "colab": {
          "base_uri": "https://localhost:8080/",
          "height": 466
        },
        "outputId": "54713a87-5457-44b0-93d2-0859040d30f8"
      },
      "execution_count": 76,
      "outputs": [
        {
          "output_type": "display_data",
          "data": {
            "text/plain": [
              "<Figure size 640x480 with 1 Axes>"
            ],
            "image/png": "[encoded data removed]"
          },
          "metadata": {}
        }
      ]
    },
    {
      "cell_type": "markdown",
      "source": [
        "## Experimentos Individuales"
      ],
      "metadata": {
        "id": "SaiJuaUP3JUD"
      }
    },
    {
      "cell_type": "markdown",
      "source": [
        "### 06/17 - Predicciones contra Nov y Dec 2019"
      ],
      "metadata": {
        "id": "pc4pDaocEdhu"
      }
    },
    {
      "cell_type": "code",
      "source": [
        "# Analizamos las series de los productos mas vendidos, pero esta vez testeamos contra los ultimos dos meses del dataset Nov y Dev 2019\n",
        "\n",
        "\n",
        "data_20001 = data_grouped['20001']\n",
        "\n",
        "data_all = data_20001\n",
        "\n",
        "data_train, data_valid, data_test = split_data_dec2019(data_all)\n",
        "data_train_norm, data_valid_norm, norm_params = normalize_data(data_train, data_valid, normalization)\n",
        "data_train_windowed = windowed_dataset(data_train_norm, data_split='train', window_size=window_size, horizon=horizon, batch_size=batch_size)\n",
        "data_valid_windowed = windowed_dataset(data_valid_norm, data_split='valid', window_size=window_size, horizon=horizon, batch_size=batch_size)\n",
        "\n",
        "# Model Variables\n",
        "model_name = 'xx'\n",
        "loss = 'mse'\n",
        "optimizer = 'adam'\n",
        "patience = 20\n",
        "epochs = 200\n",
        "n_features = data_train.shape[1]\n",
        "\n",
        "\n",
        "# Jugamos con esto aca, para ver el tema de la validacion en el entrenamiento\n",
        "window_size = 3\n",
        "batch_size = 1\n",
        "\n",
        "\n",
        "callbacks = MyCallbacks(patience)\n",
        "model = MyModel(loss, optimizer, window_size, horizon, n_features)\n",
        "\n",
        "history = model.fit(\n",
        "    data_train_windowed,\n",
        "    validation_data = data_valid_windowed,\n",
        "    callbacks = callbacks,\n",
        "    verbose=2,\n",
        "    epochs=epochs)\n",
        "\n",
        "plot_history(history)\n",
        "\n",
        "predictions = generate_predictions_2(model, data_valid_norm, norm_params)\n",
        "plot_predictions(pd.concat([data_train, data_valid], axis=1), predictions)"
      ],
      "metadata": {
        "colab": {
          "base_uri": "https://localhost:8080/"
        },
        "id": "L1scLssEEjwv",
        "outputId": "b8d7eabf-69ce-4431-bfcd-6591e3418f24"
      },
      "execution_count": null,
      "outputs": [
        {
          "output_type": "stream",
          "name": "stdout",
          "text": [
            "Model: \"sequential_8\"\n",
            "_________________________________________________________________\n",
            " Layer (type)                Output Shape              Param #   \n",
            "=================================================================\n",
            " conv1d_8 (Conv1D)           (None, 3, 64)             256       \n",
            "                                                                 \n",
            " max_pooling1d_8 (MaxPoolin  (None, 1, 64)             0         \n",
            " g1D)                                                            \n",
            "                                                                 \n",
            " bidirectional_16 (Bidirect  (None, 1, 64)             24832     \n",
            " ional)                                                          \n",
            "                                                                 \n",
            " bidirectional_17 (Bidirect  (None, 32)                10368     \n",
            " ional)                                                          \n",
            "                                                                 \n",
            " dropout_8 (Dropout)         (None, 32)                0         \n",
            "                                                                 \n",
            " dense_8 (Dense)             (None, 2)                 66        \n",
            "                                                                 \n",
            " reshape_8 (Reshape)         (None, 2, 1)              0         \n",
            "                                                                 \n",
            "=================================================================\n",
            "Total params: 35522 (138.76 KB)\n",
            "Trainable params: 35522 (138.76 KB)\n",
            "Non-trainable params: 0 (0.00 Byte)\n",
            "_________________________________________________________________\n",
            "None\n",
            "Epoch 1/200\n"
          ]
        }
      ]
    },
    {
      "cell_type": "markdown",
      "source": [
        "### 06/16 - Analysis Error en las Predicciones"
      ],
      "metadata": {
        "id": "GiO91wV2MWuN"
      }
    },
    {
      "cell_type": "code",
      "source": [
        "# Analizamos las series de los productos mas vendidos, vemos si las redes neuronales pueden entenderlas\n",
        "\n",
        "\n",
        "# data_20001 = data_grouped['20001']\n",
        "# data_20004 = data_grouped['20004']\n",
        "# data_20005 = data_grouped['20005']\n",
        "# data_20006 = data_grouped['20006']\n",
        "# data_20007 = data_grouped['20007']\n",
        "# data_20008 = data_grouped['20008']\n",
        "# data_20012 = data_grouped['20012']\n",
        "# data_20017 = data_grouped['20017']\n",
        "# data_20018 = data_grouped['20018']\n",
        "data_20024 = data_grouped['20024']\n",
        "\n",
        "data_all = data_20024\n",
        "\n",
        "\n",
        "data_train, data_valid = split_data_test(data_all)\n",
        "data_train_norm, data_valid_norm, norm_params = normalize_data(data_train, data_valid, normalization)\n",
        "data_train_windowed = windowed_dataset(data_train_norm, data_split='train', window_size=window_size, horizon=horizon, batch_size=batch_size)\n",
        "data_valid_windowed = windowed_dataset(data_valid_norm, data_split='valid', window_size=window_size, horizon=horizon, batch_size=batch_size)\n",
        "\n",
        "# Model Variables\n",
        "model_name = 'xx'\n",
        "loss = 'mse'\n",
        "optimizer = 'adam'\n",
        "patience = 20\n",
        "epochs = 200\n",
        "n_features = data_train.shape[1]\n",
        "\n",
        "\n",
        "# Jugamos con esto aca, para ver el tema de la validacion en el entrenamiento\n",
        "window_size = 3\n",
        "batch_size = 1\n",
        "\n",
        "\n",
        "callbacks = MyCallbacks(patience)\n",
        "model = MyModel(loss, optimizer, window_size, horizon, n_features)\n",
        "\n",
        "history = model.fit(\n",
        "    data_train_windowed,\n",
        "    validation_data = data_valid_windowed,\n",
        "    callbacks = callbacks,\n",
        "    verbose=2,\n",
        "    epochs=epochs)\n",
        "\n",
        "plot_history(history)\n",
        "\n",
        "predictions = generate_predictions_2(model, data_valid_norm, norm_params)\n",
        "plot_predictions(data_all, predictions)"
      ],
      "metadata": {
        "colab": {
          "base_uri": "https://localhost:8080/",
          "height": 1000
        },
        "id": "2Fr3EDZnMbQD",
        "outputId": "60362f40-8321-4926-b179-9daf241ae644"
      },
      "execution_count": 101,
      "outputs": [
        {
          "output_type": "stream",
          "name": "stdout",
          "text": [
            "Model: \"sequential_4\"\n",
            "_________________________________________________________________\n",
            " Layer (type)                Output Shape              Param #   \n",
            "=================================================================\n",
            " conv1d_4 (Conv1D)           (None, 3, 64)             256       \n",
            "                                                                 \n",
            " max_pooling1d_4 (MaxPoolin  (None, 1, 64)             0         \n",
            " g1D)                                                            \n",
            "                                                                 \n",
            " bidirectional_8 (Bidirecti  (None, 1, 64)             24832     \n",
            " onal)                                                           \n",
            "                                                                 \n",
            " bidirectional_9 (Bidirecti  (None, 32)                10368     \n",
            " onal)                                                           \n",
            "                                                                 \n",
            " dropout_4 (Dropout)         (None, 32)                0         \n",
            "                                                                 \n",
            " dense_4 (Dense)             (None, 2)                 66        \n",
            "                                                                 \n",
            " reshape_4 (Reshape)         (None, 2, 1)              0         \n",
            "                                                                 \n",
            "=================================================================\n",
            "Total params: 35522 (138.76 KB)\n",
            "Trainable params: 35522 (138.76 KB)\n",
            "Non-trainable params: 0 (0.00 Byte)\n",
            "_________________________________________________________________\n",
            "None\n",
            "Epoch 1/200\n",
            "27/27 - 14s - loss: 0.1466 - mae: 0.2831 - val_loss: 0.0158 - val_mae: 0.1255 - 14s/epoch - 529ms/step\n",
            "Epoch 2/200\n",
            "27/27 - 0s - loss: 0.0896 - mae: 0.2209 - val_loss: 0.0313 - val_mae: 0.1274 - 210ms/epoch - 8ms/step\n",
            "Epoch 3/200\n",
            "27/27 - 0s - loss: 0.0859 - mae: 0.2464 - val_loss: 0.0508 - val_mae: 0.1801 - 223ms/epoch - 8ms/step\n",
            "Epoch 4/200\n",
            "27/27 - 0s - loss: 0.0616 - mae: 0.2042 - val_loss: 0.0460 - val_mae: 0.1556 - 214ms/epoch - 8ms/step\n",
            "Epoch 5/200\n",
            "27/27 - 0s - loss: 0.0656 - mae: 0.2028 - val_loss: 0.0590 - val_mae: 0.1939 - 237ms/epoch - 9ms/step\n",
            "Epoch 6/200\n",
            "27/27 - 0s - loss: 0.0600 - mae: 0.1994 - val_loss: 0.0607 - val_mae: 0.2026 - 217ms/epoch - 8ms/step\n",
            "Epoch 7/200\n",
            "27/27 - 0s - loss: 0.0699 - mae: 0.2138 - val_loss: 0.0435 - val_mae: 0.1666 - 246ms/epoch - 9ms/step\n",
            "Epoch 8/200\n",
            "27/27 - 0s - loss: 0.0732 - mae: 0.2262 - val_loss: 0.0476 - val_mae: 0.1624 - 208ms/epoch - 8ms/step\n",
            "Epoch 9/200\n",
            "27/27 - 0s - loss: 0.0638 - mae: 0.2011 - val_loss: 0.0478 - val_mae: 0.1697 - 243ms/epoch - 9ms/step\n",
            "Epoch 10/200\n",
            "27/27 - 0s - loss: 0.0704 - mae: 0.2187 - val_loss: 0.0552 - val_mae: 0.1952 - 233ms/epoch - 9ms/step\n",
            "Epoch 11/200\n",
            "27/27 - 0s - loss: 0.0679 - mae: 0.2126 - val_loss: 0.0603 - val_mae: 0.2006 - 221ms/epoch - 8ms/step\n",
            "Epoch 12/200\n",
            "27/27 - 0s - loss: 0.0650 - mae: 0.2053 - val_loss: 0.0528 - val_mae: 0.1838 - 230ms/epoch - 9ms/step\n",
            "Epoch 13/200\n",
            "27/27 - 0s - loss: 0.0619 - mae: 0.2039 - val_loss: 0.0486 - val_mae: 0.1748 - 231ms/epoch - 9ms/step\n",
            "Epoch 14/200\n",
            "27/27 - 0s - loss: 0.0667 - mae: 0.2116 - val_loss: 0.0482 - val_mae: 0.1761 - 229ms/epoch - 8ms/step\n",
            "Epoch 15/200\n",
            "27/27 - 0s - loss: 0.0688 - mae: 0.2084 - val_loss: 0.0458 - val_mae: 0.1683 - 205ms/epoch - 8ms/step\n",
            "Epoch 16/200\n",
            "27/27 - 0s - loss: 0.0738 - mae: 0.2130 - val_loss: 0.0566 - val_mae: 0.1981 - 223ms/epoch - 8ms/step\n",
            "Epoch 17/200\n",
            "27/27 - 0s - loss: 0.0728 - mae: 0.2194 - val_loss: 0.0527 - val_mae: 0.1770 - 234ms/epoch - 9ms/step\n",
            "Epoch 18/200\n",
            "27/27 - 0s - loss: 0.0623 - mae: 0.1966 - val_loss: 0.0512 - val_mae: 0.1746 - 227ms/epoch - 8ms/step\n",
            "Epoch 19/200\n",
            "27/27 - 0s - loss: 0.0701 - mae: 0.2138 - val_loss: 0.0470 - val_mae: 0.1619 - 231ms/epoch - 9ms/step\n",
            "Epoch 20/200\n",
            "27/27 - 0s - loss: 0.0556 - mae: 0.1903 - val_loss: 0.0535 - val_mae: 0.1824 - 228ms/epoch - 8ms/step\n",
            "Epoch 21/200\n",
            "27/27 - 0s - loss: 0.0726 - mae: 0.2229 - val_loss: 0.0600 - val_mae: 0.2009 - 386ms/epoch - 14ms/step\n"
          ]
        },
        {
          "output_type": "display_data",
          "data": {
            "text/plain": [
              "<Figure size 2400x800 with 2 Axes>"
            ],
            "image/png": "[encoded data removed]"
          },
          "metadata": {}
        },
        {
          "output_type": "stream",
          "name": "stderr",
          "text": [
            "WARNING:tensorflow:5 out of the last 5 calls to <function Model.make_predict_function.<locals>.predict_function at 0x7a4417ad49d0> triggered tf.function retracing. Tracing is expensive and the excessive number of tracings could be due to (1) creating @tf.function repeatedly in a loop, (2) passing tensors with different shapes, (3) passing Python objects instead of tensors. For (1), please define your @tf.function outside of the loop. For (2), @tf.function has reduce_retracing=True option that can avoid unnecessary retracing. For (3), please refer to https://www.tensorflow.org/guide/function#controlling_retracing and https://www.tensorflow.org/api_docs/python/tf/function for  more details.\n"
          ]
        },
        {
          "output_type": "stream",
          "name": "stdout",
          "text": [
            "1/1 [==============================] - 3s 3s/step\n"
          ]
        },
        {
          "output_type": "display_data",
          "data": {
            "text/plain": [
              "<Figure size 1500x600 with 1 Axes>"
            ],
            "image/png": "[encoded data removed]"
          },
          "metadata": {}
        },
        {
          "output_type": "display_data",
          "data": {
            "text/plain": [
              "periodo\n",
              "2020-01-01   202.02\n",
              "2020-02-01   208.34\n",
              "Name: 20024, dtype: float64"
            ]
          },
          "metadata": {}
        }
      ]
    },
    {
      "cell_type": "markdown",
      "source": [
        "### 06/15 - BASELINE + TOP Productos"
      ],
      "metadata": {
        "id": "Waoyxx3TzKh4"
      }
    },
    {
      "cell_type": "code",
      "source": [
        "# # # PARA LOCAL ONLY, DEMORA MUCHO\n",
        "\n",
        "# #############################################################################################\n",
        "# #############################################################################################\n",
        "#  # El EDA tiene que estar arriba\n",
        "# mask_product_id_sold36 = (data_grouped > 0).sum(axis=0)==36\n",
        "# # print('Productos vendidos los 36 meses:', mask_product_id_sold36.sum())\n",
        "# # mask_product_id_sold12 = (data_grouped > 0).sum(axis=0)<=12\n",
        "# # print('Productos vendidos en 12 meses o menos:', mask_product_id_sold12.sum())\n",
        "\n",
        "# # Marco los que se vendieron los 36 meses\n",
        "# mask_products_id_top74 = mask_product_id_sold36\n",
        "\n",
        "# # No me interesan los +75\n",
        "# mask_products_id_top74.loc['20085':] = False\n",
        "# mask_products_id_top74.sum()\n",
        "# #############################################################################################\n",
        "# #############################################################################################\n",
        "# top_productos = data_productos_a_predecir[mask_products_id_top74].index\n",
        "\n",
        "# # # Prueba con los dos primeros\n",
        "# # top_productos = top_productos[:2]\n",
        "\n",
        "\n",
        "# # # Continuacion a mano desde producto 20017\n",
        "# # mask_17 = mask_products_id_top74.loc['20017':]\n",
        "# # data_17 = data_productos_a_predecir.loc['20017':]\n",
        "# # data_17[mask_17]\n",
        "# # top_productos = data_17[mask_17].index\n",
        "\n",
        "# data_prod_pred = data_productos_a_predecir.copy()\n",
        "# data_prod_pred['mean'] = 0\n",
        "# data_prod_pred['median'] = 0\n",
        "\n",
        "# for producto in top_productos:\n",
        "#   # print(f'Producto: {producto}')\n",
        "#   data_grouped_loc = group_data(data, 'product_id')[producto]\n",
        "#   # display(data_grouped_loc)\n",
        "\n",
        "#   data_train, data_valid = split_data(data_grouped_loc)\n",
        "#   data_train = pd.DataFrame(data_train)\n",
        "#   data_valid = pd.DataFrame(data_valid)\n",
        "#   # display(data_train.head())\n",
        "\n",
        "#   data_train_norm, data_valid_norm, norm_params = normalize_data(data_train, data_valid, normalization)\n",
        "#   # display(data_valid_norm.head())\n",
        "\n",
        "#   data_train_windowed = windowed_dataset(data_train_norm, data_split='train', window_size=window_size, horizon=horizon, batch_size=batch_size)\n",
        "#   data_valid_windowed = windowed_dataset(data_valid_norm, data_split='valid', window_size=window_size, horizon=horizon, batch_size=batch_size)\n",
        "\n",
        "#   # Model Variables\n",
        "#   model_name = 'M1'\n",
        "#   loss = 'mse'\n",
        "#   optimizer = 'adam'\n",
        "#   patience = 20\n",
        "#   epochs = 100\n",
        "#   interaciones = 10\n",
        "#   n_features = data_train.shape[1]\n",
        "#   # print(n_features)\n",
        "\n",
        "\n",
        "#   callbacks = MyCallbacks(patience)\n",
        "#   model = MyModel(loss, optimizer, window_size, horizon, n_features)\n",
        "\n",
        "#   # Promedio 810\n",
        "#   mean, median = model_train(epochs, interaciones)\n",
        "#   data_prod_pred.loc[producto, ['mean', 'median']] = mean, median\n",
        "\n",
        "# # data_prod_pred.to_csv('predicciones_top74.csv', header=True, index=True)"
      ],
      "metadata": {
        "id": "Rce7LpdHi__X"
      },
      "execution_count": 78,
      "outputs": []
    },
    {
      "cell_type": "markdown",
      "source": [
        "### 06/15 - Nuevos BASELINES"
      ],
      "metadata": {
        "id": "J6t7e7l9bEeP"
      }
    },
    {
      "cell_type": "code",
      "source": [
        "# # Igual que Diciembre 2020 (ultimos datos)\n",
        "# pred_202012 = data_grouped.loc['2019-12'].T.reset_index()\n",
        "# pred_202012.columns = ['product_id', 'tn']\n",
        "\n",
        "# # pred_202012.to_csv('BASELINE-pred_202012.csv', header=True, index=False)\n",
        "\n",
        "# # Promedio ultimos 3 meses\n",
        "# pred_mean3 = data_grouped.loc['2019-10':'2019-12'].T.mean(axis=1).reset_index()\n",
        "# pred_mean3.columns = ['product_id', 'tn']\n",
        "\n",
        "# # pred_mean3.to_csv('BASELINE-pred_mean3.csv', header=True, index=False)\n",
        "\n",
        "# # Promedio ultimos 6 meses\n",
        "# pred_mean6 = data_grouped.loc['2019-07':'2019-12'].T.mean(axis=1).reset_index()\n",
        "# pred_mean6.columns = ['product_id', 'tn']\n",
        "\n",
        "# # pred_mean6.to_csv('BASELINE-pred_mean6.csv', header=True, index=False)\n",
        "\n",
        "# # Promedio ultimos 12 meses\n",
        "# pred_mean12 = data_grouped.loc['2019-01':'2019-12'].T.mean(axis=1).reset_index()\n",
        "# pred_mean12.columns = ['product_id', 'tn']\n",
        "\n",
        "# pred_mean12.to_csv('BASELINE-pred_mean12_raw.csv', header=True, index=False)"
      ],
      "metadata": {
        "id": "Sy0QnKMklwzq"
      },
      "execution_count": 79,
      "outputs": []
    },
    {
      "cell_type": "markdown",
      "source": [
        "### 06/12 - Walk Forward Validation\n",
        "- Son muy pocos datos los que tenemos, no funciona bien"
      ],
      "metadata": {
        "id": "PCQSAqstQinS"
      }
    },
    {
      "cell_type": "code",
      "source": [
        "# # # # #########################################################################\n",
        "# # # # TimeSeriesSplit\n",
        "# # # # #########################################################################\n",
        "\n",
        "# # TimeSeriesSplit: 3 splits para ejemplo\n",
        "# tscv = TimeSeriesSplit(n_splits=n_splits)\n",
        "\n",
        "# # Almacenar las pérdidas para cada split\n",
        "# split_losses = []\n",
        "\n",
        "# # Inicializo el vector de predicciones\n",
        "# predicciones_all = data_productos_a_predecir.copy()\n",
        "# predicciones_all['tn'] = 0\n",
        "\n",
        "# # Probar si esto se puede sacar del bucle\n",
        "# model_name = 'M1'\n",
        "# loss = 'mse'\n",
        "# optimizer = 'adam'\n",
        "# patience = 30\n",
        "# epochs = 500\n",
        "# callbacks = MyCallbacks(patience)\n",
        "# model = MyModel(loss, optimizer, window_size, horizon, n_features)\n",
        "\n",
        "\n",
        "# # Iterar sobre cada split\n",
        "# for i, (train_index, test_index) in enumerate(tscv.split(data_norm)):\n",
        "#     train_tscv = data_norm.iloc[train_index]\n",
        "#     test_tscv = data_norm.iloc[test_index]\n",
        "#     print('Train:\\n', train_tscv.shape[0])\n",
        "#     print('Test:\\n', test_tscv.shape[0])\n",
        "\n",
        "\n",
        "#     # Crear datasets de ventanas\n",
        "#     data_train_wrangled = windowed_dataset(train_tscv.values, 'train', window_size, horizon, batch_size)\n",
        "#     data_valid_wrangled = windowed_dataset(test_tscv.values, 'valid', window_size, horizon, batch_size)\n",
        "\n",
        "#     # Check if datasets are empty and adjust if necessary\n",
        "#     if len(list(data_train_wrangled)) == 0 or len(list(data_valid_wrangled)) == 0:\n",
        "#       print(f\"Warning: Empty dataset encountered for split {i+1}. Skipping this split.\")\n",
        "#       continue  # Skip to the next split\n",
        "\n",
        "#     history = model.fit(\n",
        "#     data_train_wrangled,\n",
        "#     validation_data = data_valid_wrangled,\n",
        "#     epochs=epochs,\n",
        "#     verbose=2,\n",
        "#     callbacks = callbacks)\n",
        "\n",
        "#     # Evaluar el modelo en el conjunto de validación\n",
        "#     val_loss = model.evaluate(data_valid_wrangled)\n",
        "#     print(f'Split {i+1} - Loss: {val_loss}')\n",
        "#     split_losses.append(val_loss)\n",
        "#     plot_history(history)\n",
        "\n",
        "#     predicciones_all = sumar_predicciones(predicciones_all, generate_predictions(False))\n",
        "\n",
        "\n",
        "# # Promedio de las pérdidas en todos los splits. El axis es por si analizamos mas de una metrica\n",
        "# avg_loss = np.mean(split_losses, axis=0)\n",
        "# print(f'Average Loss across all splits: {avg_loss}')\n",
        "\n",
        "# # Promedio las predicciones\n",
        "# predicciones_final = data_productos_a_predecir.copy()\n",
        "# predicciones_final['tn'] = predicciones_all['tn']/n_splits\n",
        "\n",
        "# # Exporto el CSV para Kaggle\n",
        "# filename = f\"{split_strategy}_{model_name}_win{window_size}_batch{batch_size}_{normalization}_{loss}.csv\"\n",
        "# predicciones_final.to_csv(filename, header=True, index=False)\n",
        "# print(filename)"
      ],
      "metadata": {
        "id": "LA0pXJB_7OD7"
      },
      "execution_count": 80,
      "outputs": []
    },
    {
      "cell_type": "markdown",
      "source": [
        "### 06/11 - Agrupando por Categoria 1"
      ],
      "metadata": {
        "id": "Mj0hs54Uc8_e"
      }
    },
    {
      "cell_type": "code",
      "source": [
        "# # Inicializo el vector de predicciones\n",
        "# predictions_acum = data_productos_a_predecir.copy()\n",
        "# predictions_acum['tn'] = 0\n",
        "# # predictions_acum.set_index('product_id', inplace=True)\n",
        "# predictions_acum = predictions_acum.squeeze()\n",
        "# predictions_acum\n",
        "\n",
        "# # Genero el vector de categorias\n",
        "# categorias = data_productos_a_predecir_con_categorias.cat1.unique()\n",
        "\n",
        "# # Creo un modelo para cada categoria 1\n",
        "# for cat in categorias:\n",
        "#   data_cat1 = filter_data_por_categoria(data_grouped, cat, 'cat1')\n",
        "#   n_features = data_cat1.shape[1]\n",
        "#   # display(data_cat1)\n",
        "#   data_train_cat1, data_valid_cat1 = split_data(data_cat1)\n",
        "#   print(f'Categoria {cat}: {data_train_cat1.shape}, {data_valid_cat1.shape}')\n",
        "#   data_train_cat1_norm, data_valid_cat1_norm, data_norm_params = normalize_data(data_train_cat1, data_valid_cat1, normalization)\n",
        "#   data_train_windowed = windowed_dataset(data_train_cat1_norm, data_split='train', window_size=window_size, horizon=horizon, batch_size=batch_size)\n",
        "#   data_valid_windowed = windowed_dataset(data_train_cat1, data_split='valid', window_size=window_size, horizon=horizon, batch_size=batch_size)\n",
        "\n",
        "#   # Creo que tengo que llenar los huecos\n",
        "\n",
        "#   # Model Variables\n",
        "#   model_name = 'CAT1'\n",
        "#   loss = 'mse'\n",
        "#   optimizer = 'adam'\n",
        "#   patience = 50\n",
        "#   epochs = 500\n",
        "#   callbacks = MyCallbacks(patience)\n",
        "#   model = MyModel(loss, optimizer, window_size, horizon, n_features)\n",
        "\n",
        "#   history = model.fit(\n",
        "#       data_train_windowed,\n",
        "#       validation_data = data_valid_windowed,\n",
        "#       callbacks = callbacks,\n",
        "#       verbose=0,\n",
        "#       epochs=epochs)\n",
        "\n",
        "#   plot_history(history)\n",
        "\n",
        "# #   # Seleccionar los últimos x meses de data_train\n",
        "# #   data_for_prediction = data_train_cat1[-window_size:]\n",
        "# #   # Convierte los datos a un formato compatible con la función window_dataset\n",
        "# #   data_for_prediction = data_for_prediction.values.reshape((1, window_size, n_features))\n",
        "# #   predictions = model.predict(data_for_prediction)\n",
        "\n",
        "# #   # # Convertir las predicciones a un DataFrame para desnormalizar\n",
        "# #   predictions_df = pd.DataFrame(predictions[0], columns=data_train_cat1.columns)\n",
        "\n",
        "# #   # # Desnormalizar las predicciones\n",
        "# #   predictions_denorm_cat1 = denormalize_series(predictions_df, data_norm_params, normalization=normalization).iloc[1]\n",
        "\n",
        "# #   # Voy sumando las predicciones de cada categoria\n",
        "# #   predictions_acum = predictions_acum.add(predictions_denorm_cat1, fill_value=0)\n",
        "\n",
        "# # # Exporto a formato Kaggle\n",
        "# # predictions_acum_df = pd.DataFrame(predictions_acum).reset_index()\n",
        "# # predictions_acum_df.columns = ['product_id', 'tn']\n",
        "# # filename = f\"{model_name}_{split_strategy}_win{window_size}_batch{batch_size}_{normalization}_{loss}.csv\"\n",
        "# # predictions_acum_df.to_csv(filename, header=True, index=False)\n",
        "# # print(filename)"
      ],
      "metadata": {
        "id": "4i5vHk16uOl8"
      },
      "execution_count": 81,
      "outputs": []
    },
    {
      "cell_type": "markdown",
      "source": [
        "### 06/11 - Analisis del Error por Producto"
      ],
      "metadata": {
        "id": "OisFvYA0feHA"
      }
    },
    {
      "cell_type": "code",
      "source": [
        "# # # # NO FUNCIONA\n",
        "# # # # # # #########################################################################\n",
        "# # # # # # Train hasta 2019-10, para predecir 2019-12\n",
        "# # # # # # #########################################################################\n",
        "# split_data_2019\n",
        "# data_filled = fill_nulls(data_grouped)\n",
        "# data_train, data_valid, data_test = split_data_2019(data_filled)\n",
        "# data_train = pd.DataFrame(data_train)\n",
        "# data_valid = pd.DataFrame(data_valid)\n",
        "# data_test = pd.DataFrame(data_test)\n",
        "# print(data_train.shape, data_valid.shape, data_test.shape)\n",
        "\n",
        "\n",
        "# data_train_norm, data_valid_norm, data_norm_params = normalize_data(data_train, data_valid, normalization)\n",
        "# data_train_windowed = windowed_dataset(data_train_norm, data_split='train', window_size=window_size, horizon=horizon, batch_size=batch_size)\n",
        "# data_valid_windowed = windowed_dataset(data_valid_norm, data_split='valid', window_size=window_size, horizon=horizon, batch_size=batch_size,)\n",
        "# display(data_test)\n",
        "\n",
        "# # Al hacer el split disitnto, hay que modificar esto sino me voy de rango creando las window\n",
        "# # split_strategy = 'S1'\n",
        "# # window_size = 3\n",
        "# # horizon = 2\n",
        "# # batch_size = 1\n",
        "# # normalization = 'MinMax'\n",
        "\n",
        "# # Model Variables\n",
        "# model_name = 'ErrorAnalysis'\n",
        "# loss = 'mse'\n",
        "# optimizer = 'adam'\n",
        "# patience = 20\n",
        "# epochs = 200\n",
        "# n_features = data_train.shape[1]\n",
        "\n",
        "# callbacks = MyCallbacks(patience)\n",
        "# model = MyModel(loss, optimizer, window_size, horizon, n_features)\n",
        "\n",
        "# history = model.fit(\n",
        "#     data_train_windowed,\n",
        "#     validation_data = data_valid_windowed,\n",
        "#     callbacks = callbacks,\n",
        "#     verbose=2,\n",
        "#     epochs=epochs)\n",
        "\n",
        "# plot_history(history)\n",
        "\n",
        "# # # No sirve para este caso, esta hardcodeada a Febrero 2020. Tengo que actualizar esta funcion\n",
        "# # # generate_predictions(data_norm, data_norm_params)\n",
        "\n",
        "# # # Seleccionar los últimos x meses de data_train\n",
        "# # data_for_prediction = data_train[-window_size:]\n",
        "# # # Convierte los datos a un formato compatible con la función window_dataset\n",
        "# # data_for_prediction = data_for_prediction.values.reshape((1, window_size, n_features))\n",
        "# # predictions = model.predict(data_for_prediction)\n",
        "\n",
        "# # # Convertir las predicciones a un DataFrame para desnormalizar\n",
        "# # predictions_df = pd.DataFrame(predictions[0], columns=data_train.columns)\n",
        "\n",
        "# # # Desnormalizar las predicciones\n",
        "# # predictions_denorm = denormalize_series(predictions_df, data_norm_params, normalization=normalization)\n",
        "\n",
        "# # # Imprimir las predicciones desnormalizadas\n",
        "# # # display(predictions_denorm)\n",
        "\n",
        "\n",
        "# # # Genero las Series para plotear el error entre predicho y real. Armo un Dataframe\n",
        "# # data_dec2019_pred = pd.Series(predictions_denorm.iloc[1], name='Pred')\n",
        "# # data_dec2019_true = pd.Series(data_grouped.fillna(0).loc['2019-12-01'], name='True')\n",
        "# # data_dec2019_error = pd.concat([data_dec2019_pred, data_dec2019_true], axis=1)\n",
        "\n",
        "# # # Clusterizo por Categorias 1 y 2 de productos\n",
        "# # data_productos_indexed = data_productos.drop_duplicates('product_id').set_index('product_id').sort_index()\n",
        "# # data_dec2019_error_detail = data_dec2019_error.join(data_productos_indexed[['cat1', 'cat2', 'cat3']])\n",
        "\n",
        "# # # Ploteo los Errores, con sus clusters\n",
        "# # sns.scatterplot(data=data_dec2019_error_detail, x='Pred', y='True', hue='cat1')\n",
        "# # plt.axline((0, 0), slope=1, color='r', linestyle='--')\n",
        "# # plt.show()\n",
        "\n",
        "# # # Verificamos que Categoria es la que engloba mas productos\n",
        "# # print(data_productos['cat1'].value_counts())\n",
        "\n",
        "# # # Productos con mayores diferencias en la prediccion\n",
        "# # predictions_worst10 = abs(data_dec2019_pred - data_dec2019_true).sort_values(ascending=False).head(10)\n",
        "# # display(pd.DataFrame(predictions_worst10).join(data_productos[['product_id', 'cat1']].set_index('product_id').sort_index()).rename(columns={0: 'tn_diff'}).sort_values(by='tn_diff', ascending=False))\n",
        "\n",
        "# # # Ploteamos el error en las predicciones acumulaod por Categoria\n",
        "# # pd.DataFrame(abs(data_dec2019_pred - data_dec2019_true).sort_values(ascending=False)).join(data_productos[['product_id', 'cat1']].set_index('product_id').sort_index()).rename(columns={0: 'tn_diff'}).groupby('cat1').sum().sort_values(by='tn_diff', ascending=False).plot(kind='bar')\n",
        "# # plt.title('Diferencia en toneladas por Categoria')\n",
        "# # plt.show()"
      ],
      "metadata": {
        "id": "8tw6MlALfgrx"
      },
      "execution_count": 82,
      "outputs": []
    },
    {
      "cell_type": "markdown",
      "source": [
        "- Vemos claramente como estsamos prediciendo mal los productos de Health Care, mas que nada los que predice entre 350 y 600, esta prediciendo bastante de menos."
      ],
      "metadata": {
        "id": "7hM59Wm47VGU"
      }
    },
    {
      "cell_type": "markdown",
      "source": [
        "### 06/10 - Cada cliente por separado"
      ],
      "metadata": {
        "id": "fPq4wBabw7gE"
      }
    },
    {
      "cell_type": "code",
      "source": [
        "# # Esto lo corro en mi maquina local, en Colab se cuelga antes de terminar con los casi 600 clientes\n",
        "\n",
        "# # Inicializo el vector de predicciones\n",
        "# predicciones_all = data_productos_a_predecir.copy()\n",
        "# predicciones_all['tn'] = 0\n",
        "\n",
        "# # Probamos solo con los 3 primeros clientes\n",
        "# # customers = data['customer_id'].unique()\n",
        "# customers = ['10001', '10002', '10003']\n",
        "# customers.sort()\n",
        "\n",
        "# i = 0\n",
        "\n",
        "# for customer in customers:\n",
        "#   print('Vuelta: ', i)\n",
        "#   i += 1\n",
        "#   data_customer = data_filter.query('customer_id == @customer')\n",
        "#   data_customer_grouped = group_data(data_customer, 'product_id')\n",
        "#   data_customer_grouped_fixed = complete_sales(data_customer_grouped, data_productos_a_predecir)\n",
        "#   # display(data_customer_grouped_fixed)\n",
        "#   data_customer_filled = fill_nulls(data_customer_grouped_fixed) # Probar cual funciona mejor\n",
        "\n",
        "#     # Probamos reemplazando la crisis de Agosto 2019 por el promedio en Julio y Septiembre. Maybe no funciona\n",
        "#   data_customer_filled.drop(index='2019-08', axis=1, inplace=True)\n",
        "#   data_agosto_2019 = data_customer_filled.loc[['2019-07', '2019-09']].mean().to_frame().transpose()\n",
        "#   data_agosto_2019.index = pd.to_datetime(['2019-08-01'])\n",
        "#   data_customer_filled = pd.concat([data_customer_filled, data_agosto_2019]).sort_index()\n",
        "\n",
        "#   data_customer_norm, data_customer_norm_params = normalize_data(data_customer_filled, normalization=normalization)\n",
        "#   data_customer_norm_train, data_customer_norm_valid = split_data(data_customer_norm)\n",
        "#   data_train_windowed = windowed_dataset(data_customer_norm_train, data_split='train', window_size=window_size, horizon=horizon, batch_size=batch_size)\n",
        "#   data_valid_windowed = windowed_dataset(data_customer_norm_valid, data_split='valid', window_size=window_size, horizon=horizon, batch_size=batch_size)\n",
        "\n",
        "#   # Model Variables\n",
        "#   model_name = 'M1'\n",
        "#   loss = 'mse'\n",
        "#   optimizer = 'adam'\n",
        "#   patience = 30\n",
        "#   epochs = 500\n",
        "#   callbacks = MyCallbacks(patience)\n",
        "#   model = MyModel(loss, optimizer, window_size, horizon, n_features)\n",
        "\n",
        "#   history = model.fit(\n",
        "#       data_train_windowed,\n",
        "#       validation_data = data_valid_windowed,\n",
        "#       callbacks = callbacks,\n",
        "#       verbose=0,\n",
        "#       epochs=epochs)\n",
        "\n",
        "#   plot_history(history)\n",
        "\n",
        "\n",
        "#   predicciones = generate_predictions(data_customer_norm, data_customer_norm_params, False)\n",
        "#   predicciones_all = sumar_predicciones(predicciones_all, predicciones)\n",
        "\n",
        "# predicciones_all.to_csv('predicciones_local.csv', header=True, index=False)"
      ],
      "metadata": {
        "id": "TvvXLKmpyS5s"
      },
      "execution_count": 83,
      "outputs": []
    },
    {
      "cell_type": "markdown",
      "source": [
        "### 06/10 - No Split"
      ],
      "metadata": {
        "id": "MFRKlhKimrIb"
      }
    },
    {
      "cell_type": "code",
      "source": [
        "# # # #########################################################################\n",
        "# # # Sin Splitear los datos, usando todo para entrenar\n",
        "# # # #########################################################################\n",
        "\n",
        "# data_train_windowed = windowed_dataset(data_norm, data_split='train', window_size=window_size, horizon=horizon, batch_size=batch_size)\n",
        "# # data_train_windowed = window_dataset(data_norm, data_split='train', window_size=window_size, horizon=horizon, batch_size=batch_size)\n",
        "\n",
        "# # Model Variables\n",
        "# model_name = 'M1'\n",
        "# # loss = 'mse'\n",
        "# # optimizer = 'adam'\n",
        "# # patience = 30\n",
        "# epochs = 10\n",
        "\n",
        "# model = MyModel(loss, optimizer, window_size, horizon, n_features)\n",
        "\n",
        "\n",
        "# history = model.fit(\n",
        "#     data_train_windowed,\n",
        "#     # validation_data = data_valid_windowed,\n",
        "#     # callbacks = callbacks,\n",
        "#     verbose=2,\n",
        "#     epochs=epochs)\n",
        "\n",
        "# plot_history(history)\n",
        "# predicciones = generate_predictions(True)\n",
        "# predicciones"
      ],
      "metadata": {
        "id": "JFTI6TUpmrRP"
      },
      "execution_count": 84,
      "outputs": []
    },
    {
      "cell_type": "markdown",
      "source": [
        "### 06/10 - Split #2"
      ],
      "metadata": {
        "id": "56uvfCGZfKek"
      }
    },
    {
      "cell_type": "code",
      "source": [
        "# # # #########################################################################\n",
        "# # # Train desde 2017-01 hasta 2019-06\n",
        "# # # #########################################################################\n",
        "\n",
        "# data_train, data_valid = split_data_2(data_norm)\n",
        "# data_train_windowed = window_dataset(data_train, data_split='train', window_size=window_size, batch_size=batch_size, n_future=n_future)\n",
        "# data_valid_windowed = window_dataset(data_valid, data_split='valid', window_size=window_size, batch_size=batch_size, n_future=n_future)\n",
        "\n",
        "# # Model Variables\n",
        "# model_name = 'M1'\n",
        "# loss = 'mse'\n",
        "# optimizer = 'adam'\n",
        "# patience = 30\n",
        "# epochs = 500\n",
        "\n",
        "# callbacks = MyCallbacks(model_name, patience)\n",
        "# model = MyModel(loss, optimizer, window_size, n_future, n_features)\n",
        "\n",
        "\n",
        "# history = model.fit(\n",
        "#     data_train_windowed,\n",
        "#     validation_data = data_valid_windowed,\n",
        "#     callbacks = callbacks,\n",
        "#     verbose=2,\n",
        "#     epochs=epochs)\n",
        "\n",
        "# generate_predictions()"
      ],
      "metadata": {
        "id": "kMCpoMFHfMgh"
      },
      "execution_count": 85,
      "outputs": []
    },
    {
      "cell_type": "markdown",
      "source": [
        "### 06/10 - Split #1"
      ],
      "metadata": {
        "id": "Z2xfLSMdU96y"
      }
    },
    {
      "cell_type": "code",
      "source": [
        "# # # # #########################################################################\n",
        "# # # # Train 2018 & 2018, Validation 2019 (10/06)\n",
        "# # # # #########################################################################\n",
        "# data_train, data_valid = split_data_1(data_norm)\n",
        "# data_train_windowed = windowed_dataset(data_train, data_split='train', window_size=window_size, horizon=horizon, batch_size=batch_size)\n",
        "# data_valid_windowed = windowed_dataset(data_valid, data_split='valid', window_size=window_size, horizon=horizon, batch_size=batch_size)\n",
        "\n",
        "# # Model Variables\n",
        "# model_name = 'M1'\n",
        "# loss = 'mse'\n",
        "# optimizer = 'adam'\n",
        "# patience = 30\n",
        "# epochs = 500\n",
        "\n",
        "# callbacks = MyCallbacks(patience)\n",
        "# model = MyModel(loss, optimizer, window_size, horizon, n_features)\n",
        "\n",
        "# history = model.fit(\n",
        "#     data_train_windowed,\n",
        "#     validation_data = data_valid_windowed,\n",
        "#     callbacks = callbacks,\n",
        "#     verbose=2,\n",
        "#     epochs=epochs)\n",
        "\n",
        "# plot_history(history)\n",
        "# preddicciones = generate_predictions(True)\n",
        "# preddicciones"
      ],
      "metadata": {
        "id": "I4NrpvT1VgNz"
      },
      "execution_count": 86,
      "outputs": []
    },
    {
      "cell_type": "markdown",
      "source": [
        "### Univariate: Product 20001"
      ],
      "metadata": {
        "id": "9L6P6xEM3XPU"
      }
    },
    {
      "cell_type": "code",
      "source": [
        "# data = data_filled[['20001']]\n",
        "\n",
        "# # Parámetros\n",
        "# window_size = 6  # Tamaño de la ventana de tiempo\n",
        "# n_future = 2  # Número de pasos futuros a predecir\n",
        "# batch_size = 32\n",
        "# n_splits = 5  # Número de divisiones para validación \"walk forward\"\n",
        "# n_features = data.shape[1]  # Número de características en el conjunto de datos\n",
        "\n",
        "# data_norm, data_norm_params = normalize_data(data, normalization=normalization)\n",
        "# data_norm"
      ],
      "metadata": {
        "id": "keCpJUPo3ggY"
      },
      "execution_count": 87,
      "outputs": []
    },
    {
      "cell_type": "markdown",
      "source": [
        "### Proof of Concept"
      ],
      "metadata": {
        "id": "y28Ak-HH3TEi"
      }
    },
    {
      "cell_type": "code",
      "source": [
        "# #########################################################################\n",
        "# # New Pipeline (09/06)\n",
        "# #########################################################################\n",
        "# data_norm, data_norm_params = normalize_data(data_filled, normalization=normalization)\n",
        "# # data_train, data_valid = split_data(data_norm) # Split pendiente\n",
        "# data_train = data_norm\n",
        "# print(data_train.shape)\n",
        "# # print(data_valid.shape)\n",
        "# data_train_windowed = window_dataset(data_train, data_split='train', window_size=window_size, batch_size=batch_size, n_future=n_future)\n",
        "# # data_valid_windowed = window_dataset(data_valid, data_split='valid', window_size=window_size, batch_size=batch_size, n_future=n_future)\n",
        "\n",
        "\n",
        "# #########################################################################\n",
        "# # Old Pipeline (08/06)\n",
        "# #########################################################################\n",
        "# # data_all = group_data(data, data_productos_a_predecir)\n",
        "# # data_all_norm, data_all_norm_params = normalize_data(data_all, normalization=normalization)\n",
        "# # data_all_norm['20001'].describe()\n",
        "# # data_train, data_valid = split_data_all(data_all_norm)\n",
        "# # print(data_train.shape)\n",
        "# # print(data_valid.shape)\n",
        "# # data_train = data_all_norm\n",
        "# # data_train_windowed = window_dataset(data_train, data_split='train', window_size=window_size, batch_size=batch_size, n_future=n_future)\n",
        "# # data_valid_windowed = window_dataset(data_valid, data_split='valid', window_size=window_size, batch_size=batch_size, n_future=n_future)\n",
        "\n",
        "\n",
        "# #########################################################################\n",
        "# # Modelo\n",
        "# #########################################################################\n",
        "# data_train, data_valid = split_data_1(data_norm)\n",
        "# data_train_windowed = window_dataset(data_train, data_split='train', window_size=window_size, batch_size=batch_size, n_future=n_future)\n",
        "# data_valid_windowed = window_dataset(data_valid, data_split='valid', window_size=window_size, batch_size=batch_size, n_future=n_future)\n",
        "\n",
        "# # Model Variables\n",
        "# model_name = 'M1'\n",
        "# loss = 'mse'\n",
        "# optimizer = 'adam'\n",
        "# patience = 30\n",
        "# epochs = 500\n",
        "\n",
        "# callbacks = MyCallbacks(model_name, patience)\n",
        "# model = MyModel(loss, optimizer, window_size, n_future, n_features)\n",
        "\n",
        "# history = model.fit(\n",
        "#     data_train_windowed,\n",
        "#     validation_data = data_valid_windowed,\n",
        "#     callbacks = callbacks,\n",
        "#     verbose=2,\n",
        "#     epochs=epochs)\n",
        "\n",
        "# generate_predictions()"
      ],
      "metadata": {
        "id": "bCx0jH7rFU-M"
      },
      "execution_count": 88,
      "outputs": []
    },
    {
      "cell_type": "markdown",
      "source": [
        "# EDA"
      ],
      "metadata": {
        "id": "CRuRNJCI8J7U"
      }
    },
    {
      "cell_type": "markdown",
      "source": [
        "## Objetivos Preeliminares\n",
        "* [x] Algunos productos por promedio, otros por red neuronal. Identificar cuales\n",
        " (los que no tengo ventas todos o la mayoria de los meses)\n",
        "*[x] Saber como fueron las ventas en cada Agosto, comparado con Julio y Septiembre del mismo ano. Esto para poder sortear el problema de la no ventas en Agosto 2018\n",
        "*[x] Entender la distribucion de ventas por categoria\n",
        "*[ ] Entender la distribucion de los errores por categoria\n",
        "*[ ] entrenar en 2017 y 2018, y predecir feb 2019, teniendo en cuenta el trend negativo de alguna manera\n",
        "*[ ] Saber si la serie de todos los productos por categoria, son similares\n",
        "*[ ] Dividr las ventas por tipo de calidad de producto (Alto, Media Bajo), pedirlo si no esta\n",
        "*[ ] Ver el error por producto, para saber cual analizar individualmente\n",
        "*[ ] Identificar los productos mas importantes, separarlos por categoria, y fijarse si las series son similares. No con todos, maybe los 150 orimeros solametne\n",
        "*[ ] Probar Unvariado en cada producto?\n",
        "\n"
      ],
      "metadata": {
        "id": "oX5UG0OxbRrE"
      }
    },
    {
      "cell_type": "code",
      "source": [
        "# Plot de Ventas General\n",
        "data.groupby(['periodo'])['tn'].sum().plot()\n",
        "plt.show()\n",
        "\n",
        "# # Deidentificacionde los productos y clientes\n",
        "# # Evidentemente cuando el profe deidentifico los customers, lo hizo asignandoles ID secuenciales al listado ordenado por la suma de ventas(tn)\n",
        "# print('Listado de Clientes, ordenados por la sumatoria de ventas en tn:\\n', group_data(data, 'customer_id').sum(), '\\n')\n",
        "\n",
        "# # Lo mismo cuando deidentifico a los productos, solo que esta vez empezo desde 20000\n",
        "# print('Listado de Productos, ordenados por la sumatoria de ventas en tn:\\n', group_data(data, 'product_id').sum())"
      ],
      "metadata": {
        "id": "-PQsvGzWAIMb",
        "colab": {
          "base_uri": "https://localhost:8080/",
          "height": 466
        },
        "outputId": "cbd9d779-0592-40b8-8503-c608db50fd61"
      },
      "execution_count": 89,
      "outputs": [
        {
          "output_type": "display_data",
          "data": {
            "text/plain": [
              "<Figure size 640x480 with 1 Axes>"
            ],
            "image/png": "[encoded data removed]"
          },
          "metadata": {}
        }
      ]
    },
    {
      "cell_type": "markdown",
      "source": [
        "* Vemos la Tendencia Negativa\n",
        "* Tambien vemos la seasonalidad anual, y mas chica puede que tabien\n",
        "* Tambien se ve la caida en 2019-08, ya que decidimos no vender ese mes"
      ],
      "metadata": {
        "id": "talT1z4hc8jm"
      }
    },
    {
      "cell_type": "markdown",
      "source": [
        "## Top 74"
      ],
      "metadata": {
        "id": "tEP9EZ77NM46"
      }
    },
    {
      "cell_type": "code",
      "source": [
        "# # data\n",
        "# # data_productos\n",
        "# # data_stocks\n",
        "# # data_productos_a_predecir\n",
        "\n",
        "\n",
        "mask_product_id_sold36 = (data_grouped > 0).sum(axis=0)==36\n",
        "print('Productos vendidos los 36 meses:', mask_product_id_sold36.sum())\n",
        "mask_product_id_sold12 = (data_grouped > 0).sum(axis=0)<=12\n",
        "print('Productos vendidos en 12 meses o menos:', mask_product_id_sold12.sum())\n"
      ],
      "metadata": {
        "id": "tjN0AgGnNL7Q",
        "colab": {
          "base_uri": "https://localhost:8080/"
        },
        "outputId": "388087be-ad3d-486d-ffab-b94de7ffa581"
      },
      "execution_count": 90,
      "outputs": [
        {
          "output_type": "stream",
          "name": "stdout",
          "text": [
            "Productos vendidos los 36 meses: 478\n",
            "Productos vendidos en 12 meses o menos: 124\n"
          ]
        }
      ]
    },
    {
      "cell_type": "code",
      "source": [
        "# Ajustar la opción para mostrar más filas\n",
        "pd.set_option('display.max_rows', None)\n",
        "\n",
        "mask_product_id_sold36[:76]"
      ],
      "metadata": {
        "id": "-mfMCEo-SrSX",
        "colab": {
          "base_uri": "https://localhost:8080/"
        },
        "outputId": "6887dc58-33ec-4dde-b7ea-ede7bcf5a045"
      },
      "execution_count": 91,
      "outputs": [
        {
          "output_type": "execute_result",
          "data": {
            "text/plain": [
              "20001     True\n",
              "20002     True\n",
              "20003     True\n",
              "20004     True\n",
              "20005     True\n",
              "20006     True\n",
              "20007     True\n",
              "20008     True\n",
              "20009     True\n",
              "20010     True\n",
              "20011     True\n",
              "20012     True\n",
              "20013     True\n",
              "20014     True\n",
              "20015     True\n",
              "20016     True\n",
              "20017     True\n",
              "20018     True\n",
              "20019     True\n",
              "20020     True\n",
              "20021     True\n",
              "20022     True\n",
              "20023     True\n",
              "20024     True\n",
              "20025     True\n",
              "20026     True\n",
              "20027     True\n",
              "20028     True\n",
              "20029     True\n",
              "20030     True\n",
              "20031     True\n",
              "20032    False\n",
              "20033     True\n",
              "20035     True\n",
              "20037     True\n",
              "20038     True\n",
              "20039     True\n",
              "20041     True\n",
              "20042     True\n",
              "20043     True\n",
              "20044     True\n",
              "20045     True\n",
              "20046     True\n",
              "20047     True\n",
              "20049    False\n",
              "20050     True\n",
              "20051     True\n",
              "20052     True\n",
              "20053     True\n",
              "20054     True\n",
              "20055     True\n",
              "20056     True\n",
              "20057     True\n",
              "20058     True\n",
              "20059     True\n",
              "20061     True\n",
              "20062     True\n",
              "20063     True\n",
              "20065     True\n",
              "20066     True\n",
              "20067     True\n",
              "20068     True\n",
              "20069     True\n",
              "20070     True\n",
              "20071     True\n",
              "20072     True\n",
              "20073     True\n",
              "20074     True\n",
              "20075     True\n",
              "20076     True\n",
              "20077     True\n",
              "20079     True\n",
              "20080     True\n",
              "20081     True\n",
              "20082     True\n",
              "20084     True\n",
              "dtype: bool"
            ]
          },
          "metadata": {},
          "execution_count": 91
        }
      ]
    },
    {
      "cell_type": "markdown",
      "source": [
        "* Vamos a ver de el TOP 74 (hasta ID 84) de los productos mas vendidos, y solo los product_id 20032 y 20049 no se vendieron los 36 meses\n"
      ],
      "metadata": {
        "id": "Zn2bX_L8VB5w"
      }
    },
    {
      "cell_type": "code",
      "source": [
        "# Analizamos esos casos en particular\n",
        "data_grouped.loc[:, ['20032', '20049']].plot(title='Productos Top75 que no se vendieron los 36 meses')\n",
        "plt.show()"
      ],
      "metadata": {
        "id": "YuBGEZQhUQ4d",
        "colab": {
          "base_uri": "https://localhost:8080/",
          "height": 468
        },
        "outputId": "a37773fd-d02f-4575-d790-8c1a04119c6d"
      },
      "execution_count": 92,
      "outputs": [
        {
          "output_type": "display_data",
          "data": {
            "text/plain": [
              "<Figure size 640x480 with 1 Axes>"
            ],
            "image/png": "[encoded data removed]"
          },
          "metadata": {}
        }
      ]
    },
    {
      "cell_type": "markdown",
      "source": [
        "* Uno se empezo a vender en 2019-02, y el otro 2017-08"
      ],
      "metadata": {
        "id": "x-fmExFCWE1a"
      }
    },
    {
      "cell_type": "code",
      "source": [
        "# # Hacemos el CumSum de cada producto\n",
        "# SUM_TOT = data_grouped.sum(axis=0).sum()\n",
        "# product_id_32_sum = data_grouped.sum(axis=0).loc['20032']/SUM_TOT\n",
        "# product_id_49_sum = data_grouped.sum(axis=0).loc['20049']/SUM_TOT\n",
        "\n",
        "# (data_grouped.sum(axis=0)/SUM_TOT).loc[:'20084'].sum() - product_id_32_sum - product_id_49_sum"
      ],
      "metadata": {
        "id": "sxyEGV2WWCG0"
      },
      "execution_count": 93,
      "outputs": []
    },
    {
      "cell_type": "markdown",
      "source": [
        "* De los 74 productos mas vendidos (menos 32 y 49), disponemos de ventas los 36 meses\n",
        "* Esos 74 productos representan un %66 de las Toneladas totales vendidas"
      ],
      "metadata": {
        "id": "3HVeAeneZhpL"
      }
    },
    {
      "cell_type": "code",
      "source": [
        "# # Marco los que se vendieron los 36 meses\n",
        "# mask_products_id_top74 = mask_product_id_sold36\n",
        "\n",
        "# # No me interesan los +75\n",
        "# mask_products_id_top74.loc['20085':] = False\n",
        "# mask_products_id_top74.sum()"
      ],
      "metadata": {
        "id": "CozfxDIHjVgC"
      },
      "execution_count": 94,
      "outputs": []
    },
    {
      "cell_type": "markdown",
      "source": [
        "## Analisis Agosto 2019"
      ],
      "metadata": {
        "id": "ePaHFgdPb0VT"
      }
    },
    {
      "cell_type": "code",
      "source": [
        "data_grouped.loc['2017-06':'2017-10'].sum(axis=1).plot(title='Agosto crece-crece en 2017')\n",
        "plt.show()\n",
        "\n",
        "data_grouped.loc['2018-06':'2018-10'].sum(axis=1).plot(title='Agosto crece-decrece en 2018')\n",
        "plt.show()"
      ],
      "metadata": {
        "id": "SPJsHIyQdkhe",
        "colab": {
          "base_uri": "https://localhost:8080/",
          "height": 915
        },
        "outputId": "d5782c8f-f79b-4243-ef31-c205bf6b3f59"
      },
      "execution_count": 95,
      "outputs": [
        {
          "output_type": "display_data",
          "data": {
            "text/plain": [
              "<Figure size 640x480 with 1 Axes>"
            ],
            "image/png": "[encoded data removed]"
          },
          "metadata": {}
        },
        {
          "output_type": "display_data",
          "data": {
            "text/plain": [
              "<Figure size 640x480 with 1 Axes>"
            ],
            "image/png": "[encoded data removed]"
          },
          "metadata": {}
        }
      ]
    },
    {
      "cell_type": "markdown",
      "source": [
        "* Pareciera ser que siempre sube un 10% con respecto al Julio anterior"
      ],
      "metadata": {
        "id": "hiN9yUs1vtTm"
      }
    },
    {
      "cell_type": "markdown",
      "source": [
        "## Analysis por Categoria"
      ],
      "metadata": {
        "id": "AoScqaZOIrIQ"
      }
    },
    {
      "cell_type": "code",
      "source": [
        "# Genero el vector de categorias\n",
        "categorias = data_productos_a_predecir_con_categorias.cat1.unique()\n",
        "\n",
        "tn_TOT = data_grouped.sum().sum()\n",
        "\n",
        "for cat in categorias:\n",
        "  data_cat1 = filter_data_por_categoria(data_grouped, cat, 'cat1')\n",
        "  n_features = data_cat1.shape[1]\n",
        "  cat_tot = np.round(data_cat1.sum().sum() / tn_TOT, 2)\n",
        "  print(f'{cat}, {data_cat1.shape}, {cat_tot}')\n"
      ],
      "metadata": {
        "id": "YIojBdWVI2m-",
        "colab": {
          "base_uri": "https://localhost:8080/"
        },
        "outputId": "adf53336-cfe9-4c05-c580-c332d72d8f19"
      },
      "execution_count": 96,
      "outputs": [
        {
          "output_type": "stream",
          "name": "stdout",
          "text": [
            "HC, (36, 187), 0.61\n",
            "FOODS, (36, 143), 0.2\n",
            "PC, (36, 444), 0.19\n",
            "REF, (36, 6), 0.0\n"
          ]
        }
      ]
    },
    {
      "cell_type": "markdown",
      "source": [
        "* La categoria con mas productos es PC con 444\n",
        "* Pero la que mas vende en toneladas es HC, con un 61% del total"
      ],
      "metadata": {
        "id": "dD5QG3mnLjKj"
      }
    },
    {
      "cell_type": "code",
      "source": [
        "## Vemos el error en las categorias"
      ],
      "metadata": {
        "id": "eTjPRJ3lJfKA"
      },
      "execution_count": 97,
      "outputs": []
    },
    {
      "cell_type": "code",
      "source": [],
      "metadata": {
        "id": "0AEiVicVNKI4"
      },
      "execution_count": 97,
      "outputs": []
    }
  ]
}